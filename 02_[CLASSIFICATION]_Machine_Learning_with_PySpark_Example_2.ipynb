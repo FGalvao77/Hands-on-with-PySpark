{
  "cells": [
    {
      "cell_type": "markdown",
      "metadata": {
        "id": "view-in-github",
        "colab_type": "text"
      },
      "source": [
        "<a href=\"https://colab.research.google.com/github/FGalvao77/Hands-on-with-PySpark/blob/main/02_%5BCLASSIFICATION%5D_Machine_Learning_with_PySpark_Example_2.ipynb\" target=\"_parent\"><img src=\"https://colab.research.google.com/assets/colab-badge.svg\" alt=\"Open In Colab\"/></a>"
      ]
    },
    {
      "cell_type": "markdown",
      "metadata": {
        "id": "se7gt7kaKvOU"
      },
      "source": [
        "## **Machine Learning with PySpark: Example 2**\n",
        "---\n",
        "---"
      ]
    },
    {
      "cell_type": "code",
      "source": [
        "import pandas as pd\n",
        "import warnings\n",
        "\n",
        "warnings.filterwarnings('ignore')"
      ],
      "metadata": {
        "id": "BOyhbhE85X8v"
      },
      "execution_count": 1,
      "outputs": []
    },
    {
      "cell_type": "code",
      "execution_count": 2,
      "metadata": {
        "id": "jUcslQVYKk2I"
      },
      "outputs": [],
      "source": [
        "df = pd.read_csv(\n",
        "    filepath_or_buffer='https://query.data.world/s/p5u6e7kl6ybj3x4zp2nned3rre5ccs?dws=00000'\n",
        ")"
      ]
    },
    {
      "cell_type": "code",
      "source": [
        "df.head()"
      ],
      "metadata": {
        "colab": {
          "base_uri": "https://localhost:8080/",
          "height": 270
        },
        "id": "wBVcRtOpdi9r",
        "outputId": "8c59e6c9-2581-4c34-82e0-2b71052ab73d"
      },
      "execution_count": 3,
      "outputs": [
        {
          "output_type": "execute_result",
          "data": {
            "text/plain": [
              "   AGE     SEX STEROID ANTIVIRALS FATIGUE MALAISE ANOREXIA LIVER_BIG  \\\n",
              "0   30    male      no         no      no      no       no        no   \n",
              "1   50  female      no         no     yes      no       no        no   \n",
              "2   78  female     yes         no     yes      no       no       yes   \n",
              "3   31  female       ?        yes      no      no       no       yes   \n",
              "4   34  female     yes         no      no      no       no       yes   \n",
              "\n",
              "  LIVER_FIRM SPLEEN_PALPABLE SPIDERS ASCITES VARICES BILIRUBIN ALK_PHOSPHATE  \\\n",
              "0         no              no      no      no      no         1            85   \n",
              "1         no              no      no      no      no       0.9           135   \n",
              "2         no              no      no      no      no       0.7            96   \n",
              "3         no              no      no      no      no       0.7            46   \n",
              "4         no              no      no      no      no         1             ?   \n",
              "\n",
              "  SGOT ALBUMIN PROTIME HISTOLOGY Class  \n",
              "0   18       4       ?        no  LIVE  \n",
              "1   42     3.5       ?        no  LIVE  \n",
              "2   32       4       ?        no  LIVE  \n",
              "3   52       4      80        no  LIVE  \n",
              "4  200       4       ?        no  LIVE  "
            ],
            "text/html": [
              "\n",
              "  <div id=\"df-ac98cd5e-131b-4876-86e2-06cfd667f922\">\n",
              "    <div class=\"colab-df-container\">\n",
              "      <div>\n",
              "<style scoped>\n",
              "    .dataframe tbody tr th:only-of-type {\n",
              "        vertical-align: middle;\n",
              "    }\n",
              "\n",
              "    .dataframe tbody tr th {\n",
              "        vertical-align: top;\n",
              "    }\n",
              "\n",
              "    .dataframe thead th {\n",
              "        text-align: right;\n",
              "    }\n",
              "</style>\n",
              "<table border=\"1\" class=\"dataframe\">\n",
              "  <thead>\n",
              "    <tr style=\"text-align: right;\">\n",
              "      <th></th>\n",
              "      <th>AGE</th>\n",
              "      <th>SEX</th>\n",
              "      <th>STEROID</th>\n",
              "      <th>ANTIVIRALS</th>\n",
              "      <th>FATIGUE</th>\n",
              "      <th>MALAISE</th>\n",
              "      <th>ANOREXIA</th>\n",
              "      <th>LIVER_BIG</th>\n",
              "      <th>LIVER_FIRM</th>\n",
              "      <th>SPLEEN_PALPABLE</th>\n",
              "      <th>SPIDERS</th>\n",
              "      <th>ASCITES</th>\n",
              "      <th>VARICES</th>\n",
              "      <th>BILIRUBIN</th>\n",
              "      <th>ALK_PHOSPHATE</th>\n",
              "      <th>SGOT</th>\n",
              "      <th>ALBUMIN</th>\n",
              "      <th>PROTIME</th>\n",
              "      <th>HISTOLOGY</th>\n",
              "      <th>Class</th>\n",
              "    </tr>\n",
              "  </thead>\n",
              "  <tbody>\n",
              "    <tr>\n",
              "      <th>0</th>\n",
              "      <td>30</td>\n",
              "      <td>male</td>\n",
              "      <td>no</td>\n",
              "      <td>no</td>\n",
              "      <td>no</td>\n",
              "      <td>no</td>\n",
              "      <td>no</td>\n",
              "      <td>no</td>\n",
              "      <td>no</td>\n",
              "      <td>no</td>\n",
              "      <td>no</td>\n",
              "      <td>no</td>\n",
              "      <td>no</td>\n",
              "      <td>1</td>\n",
              "      <td>85</td>\n",
              "      <td>18</td>\n",
              "      <td>4</td>\n",
              "      <td>?</td>\n",
              "      <td>no</td>\n",
              "      <td>LIVE</td>\n",
              "    </tr>\n",
              "    <tr>\n",
              "      <th>1</th>\n",
              "      <td>50</td>\n",
              "      <td>female</td>\n",
              "      <td>no</td>\n",
              "      <td>no</td>\n",
              "      <td>yes</td>\n",
              "      <td>no</td>\n",
              "      <td>no</td>\n",
              "      <td>no</td>\n",
              "      <td>no</td>\n",
              "      <td>no</td>\n",
              "      <td>no</td>\n",
              "      <td>no</td>\n",
              "      <td>no</td>\n",
              "      <td>0.9</td>\n",
              "      <td>135</td>\n",
              "      <td>42</td>\n",
              "      <td>3.5</td>\n",
              "      <td>?</td>\n",
              "      <td>no</td>\n",
              "      <td>LIVE</td>\n",
              "    </tr>\n",
              "    <tr>\n",
              "      <th>2</th>\n",
              "      <td>78</td>\n",
              "      <td>female</td>\n",
              "      <td>yes</td>\n",
              "      <td>no</td>\n",
              "      <td>yes</td>\n",
              "      <td>no</td>\n",
              "      <td>no</td>\n",
              "      <td>yes</td>\n",
              "      <td>no</td>\n",
              "      <td>no</td>\n",
              "      <td>no</td>\n",
              "      <td>no</td>\n",
              "      <td>no</td>\n",
              "      <td>0.7</td>\n",
              "      <td>96</td>\n",
              "      <td>32</td>\n",
              "      <td>4</td>\n",
              "      <td>?</td>\n",
              "      <td>no</td>\n",
              "      <td>LIVE</td>\n",
              "    </tr>\n",
              "    <tr>\n",
              "      <th>3</th>\n",
              "      <td>31</td>\n",
              "      <td>female</td>\n",
              "      <td>?</td>\n",
              "      <td>yes</td>\n",
              "      <td>no</td>\n",
              "      <td>no</td>\n",
              "      <td>no</td>\n",
              "      <td>yes</td>\n",
              "      <td>no</td>\n",
              "      <td>no</td>\n",
              "      <td>no</td>\n",
              "      <td>no</td>\n",
              "      <td>no</td>\n",
              "      <td>0.7</td>\n",
              "      <td>46</td>\n",
              "      <td>52</td>\n",
              "      <td>4</td>\n",
              "      <td>80</td>\n",
              "      <td>no</td>\n",
              "      <td>LIVE</td>\n",
              "    </tr>\n",
              "    <tr>\n",
              "      <th>4</th>\n",
              "      <td>34</td>\n",
              "      <td>female</td>\n",
              "      <td>yes</td>\n",
              "      <td>no</td>\n",
              "      <td>no</td>\n",
              "      <td>no</td>\n",
              "      <td>no</td>\n",
              "      <td>yes</td>\n",
              "      <td>no</td>\n",
              "      <td>no</td>\n",
              "      <td>no</td>\n",
              "      <td>no</td>\n",
              "      <td>no</td>\n",
              "      <td>1</td>\n",
              "      <td>?</td>\n",
              "      <td>200</td>\n",
              "      <td>4</td>\n",
              "      <td>?</td>\n",
              "      <td>no</td>\n",
              "      <td>LIVE</td>\n",
              "    </tr>\n",
              "  </tbody>\n",
              "</table>\n",
              "</div>\n",
              "      <button class=\"colab-df-convert\" onclick=\"convertToInteractive('df-ac98cd5e-131b-4876-86e2-06cfd667f922')\"\n",
              "              title=\"Convert this dataframe to an interactive table.\"\n",
              "              style=\"display:none;\">\n",
              "        \n",
              "  <svg xmlns=\"http://www.w3.org/2000/svg\" height=\"24px\"viewBox=\"0 0 24 24\"\n",
              "       width=\"24px\">\n",
              "    <path d=\"M0 0h24v24H0V0z\" fill=\"none\"/>\n",
              "    <path d=\"M18.56 5.44l.94 2.06.94-2.06 2.06-.94-2.06-.94-.94-2.06-.94 2.06-2.06.94zm-11 1L8.5 8.5l.94-2.06 2.06-.94-2.06-.94L8.5 2.5l-.94 2.06-2.06.94zm10 10l.94 2.06.94-2.06 2.06-.94-2.06-.94-.94-2.06-.94 2.06-2.06.94z\"/><path d=\"M17.41 7.96l-1.37-1.37c-.4-.4-.92-.59-1.43-.59-.52 0-1.04.2-1.43.59L10.3 9.45l-7.72 7.72c-.78.78-.78 2.05 0 2.83L4 21.41c.39.39.9.59 1.41.59.51 0 1.02-.2 1.41-.59l7.78-7.78 2.81-2.81c.8-.78.8-2.07 0-2.86zM5.41 20L4 18.59l7.72-7.72 1.47 1.35L5.41 20z\"/>\n",
              "  </svg>\n",
              "      </button>\n",
              "      \n",
              "  <style>\n",
              "    .colab-df-container {\n",
              "      display:flex;\n",
              "      flex-wrap:wrap;\n",
              "      gap: 12px;\n",
              "    }\n",
              "\n",
              "    .colab-df-convert {\n",
              "      background-color: #E8F0FE;\n",
              "      border: none;\n",
              "      border-radius: 50%;\n",
              "      cursor: pointer;\n",
              "      display: none;\n",
              "      fill: #1967D2;\n",
              "      height: 32px;\n",
              "      padding: 0 0 0 0;\n",
              "      width: 32px;\n",
              "    }\n",
              "\n",
              "    .colab-df-convert:hover {\n",
              "      background-color: #E2EBFA;\n",
              "      box-shadow: 0px 1px 2px rgba(60, 64, 67, 0.3), 0px 1px 3px 1px rgba(60, 64, 67, 0.15);\n",
              "      fill: #174EA6;\n",
              "    }\n",
              "\n",
              "    [theme=dark] .colab-df-convert {\n",
              "      background-color: #3B4455;\n",
              "      fill: #D2E3FC;\n",
              "    }\n",
              "\n",
              "    [theme=dark] .colab-df-convert:hover {\n",
              "      background-color: #434B5C;\n",
              "      box-shadow: 0px 1px 3px 1px rgba(0, 0, 0, 0.15);\n",
              "      filter: drop-shadow(0px 1px 2px rgba(0, 0, 0, 0.3));\n",
              "      fill: #FFFFFF;\n",
              "    }\n",
              "  </style>\n",
              "\n",
              "      <script>\n",
              "        const buttonEl =\n",
              "          document.querySelector('#df-ac98cd5e-131b-4876-86e2-06cfd667f922 button.colab-df-convert');\n",
              "        buttonEl.style.display =\n",
              "          google.colab.kernel.accessAllowed ? 'block' : 'none';\n",
              "\n",
              "        async function convertToInteractive(key) {\n",
              "          const element = document.querySelector('#df-ac98cd5e-131b-4876-86e2-06cfd667f922');\n",
              "          const dataTable =\n",
              "            await google.colab.kernel.invokeFunction('convertToInteractive',\n",
              "                                                     [key], {});\n",
              "          if (!dataTable) return;\n",
              "\n",
              "          const docLinkHtml = 'Like what you see? Visit the ' +\n",
              "            '<a target=\"_blank\" href=https://colab.research.google.com/notebooks/data_table.ipynb>data table notebook</a>'\n",
              "            + ' to learn more about interactive tables.';\n",
              "          element.innerHTML = '';\n",
              "          dataTable['output_type'] = 'display_data';\n",
              "          await google.colab.output.renderOutput(dataTable, element);\n",
              "          const docLink = document.createElement('div');\n",
              "          docLink.innerHTML = docLinkHtml;\n",
              "          element.appendChild(docLink);\n",
              "        }\n",
              "      </script>\n",
              "    </div>\n",
              "  </div>\n",
              "  "
            ]
          },
          "metadata": {},
          "execution_count": 3
        }
      ]
    },
    {
      "cell_type": "code",
      "source": [
        "df.info()"
      ],
      "metadata": {
        "colab": {
          "base_uri": "https://localhost:8080/"
        },
        "id": "l2AAl0K0dq-L",
        "outputId": "4b9b38d4-f4ee-48d5-8aa8-7bbca1ae147d"
      },
      "execution_count": 4,
      "outputs": [
        {
          "output_type": "stream",
          "name": "stdout",
          "text": [
            "<class 'pandas.core.frame.DataFrame'>\n",
            "RangeIndex: 155 entries, 0 to 154\n",
            "Data columns (total 20 columns):\n",
            " #   Column           Non-Null Count  Dtype \n",
            "---  ------           --------------  ----- \n",
            " 0   AGE              155 non-null    int64 \n",
            " 1   SEX              155 non-null    object\n",
            " 2   STEROID          155 non-null    object\n",
            " 3   ANTIVIRALS       155 non-null    object\n",
            " 4   FATIGUE          155 non-null    object\n",
            " 5   MALAISE          155 non-null    object\n",
            " 6   ANOREXIA         155 non-null    object\n",
            " 7   LIVER_BIG        155 non-null    object\n",
            " 8   LIVER_FIRM       155 non-null    object\n",
            " 9   SPLEEN_PALPABLE  155 non-null    object\n",
            " 10  SPIDERS          155 non-null    object\n",
            " 11  ASCITES          155 non-null    object\n",
            " 12  VARICES          155 non-null    object\n",
            " 13  BILIRUBIN        155 non-null    object\n",
            " 14  ALK_PHOSPHATE    155 non-null    object\n",
            " 15  SGOT             155 non-null    object\n",
            " 16  ALBUMIN          155 non-null    object\n",
            " 17  PROTIME          155 non-null    object\n",
            " 18  HISTOLOGY        155 non-null    object\n",
            " 19  Class            155 non-null    object\n",
            "dtypes: int64(1), object(19)\n",
            "memory usage: 24.3+ KB\n"
          ]
        }
      ]
    },
    {
      "cell_type": "code",
      "execution_count": 5,
      "metadata": {
        "id": "jI3Kpre0NnAn"
      },
      "outputs": [],
      "source": [
        "df.to_csv(path_or_buf='data.csv')"
      ]
    },
    {
      "cell_type": "code",
      "execution_count": 6,
      "metadata": {
        "id": "u7CoEtMxKRM2"
      },
      "outputs": [],
      "source": [
        "%%capture\n",
        "%pip install pyspark -U"
      ]
    },
    {
      "cell_type": "code",
      "source": [
        "import pyspark"
      ],
      "metadata": {
        "id": "lJtBYvyQ0z2c"
      },
      "execution_count": 7,
      "outputs": []
    },
    {
      "cell_type": "code",
      "source": [
        "print(f'[VERSION] PySpark: {pyspark.__version__}')"
      ],
      "metadata": {
        "colab": {
          "base_uri": "https://localhost:8080/"
        },
        "id": "zFFPEsBM02tl",
        "outputId": "6c58b973-0fe7-4520-ec68-feaba6411744"
      },
      "execution_count": 8,
      "outputs": [
        {
          "output_type": "stream",
          "name": "stdout",
          "text": [
            "[VERSION] PySpark: 3.3.2\n"
          ]
        }
      ]
    },
    {
      "cell_type": "code",
      "execution_count": 9,
      "metadata": {
        "id": "A1OK6dOfKk-V"
      },
      "outputs": [],
      "source": [
        "from pyspark.sql import SparkSession"
      ]
    },
    {
      "cell_type": "code",
      "execution_count": 12,
      "metadata": {
        "id": "Ds2TROcTKk7j"
      },
      "outputs": [],
      "source": [
        "spark_session = SparkSession\\\n",
        "    .builder\\\n",
        "    .master('local[*]')\\\n",
        "    .appName(name='Machine Learning with Pypark: Example 2')\\\n",
        "    .getOrCreate()"
      ]
    },
    {
      "cell_type": "code",
      "execution_count": 13,
      "metadata": {
        "colab": {
          "base_uri": "https://localhost:8080/",
          "height": 219
        },
        "id": "xmDXDpU3Kk4y",
        "outputId": "38f47615-fedd-4abe-a837-ee9bceb7a914"
      },
      "outputs": [
        {
          "output_type": "execute_result",
          "data": {
            "text/plain": [
              "<pyspark.sql.session.SparkSession at 0x7f5100760b80>"
            ],
            "text/html": [
              "\n",
              "            <div>\n",
              "                <p><b>SparkSession - in-memory</b></p>\n",
              "                \n",
              "        <div>\n",
              "            <p><b>SparkContext</b></p>\n",
              "\n",
              "            <p><a href=\"http://65a9bfd8a8a2:4040\">Spark UI</a></p>\n",
              "\n",
              "            <dl>\n",
              "              <dt>Version</dt>\n",
              "                <dd><code>v3.3.2</code></dd>\n",
              "              <dt>Master</dt>\n",
              "                <dd><code>local[*]</code></dd>\n",
              "              <dt>AppName</dt>\n",
              "                <dd><code>Machine Learning with Pypark: Example 2</code></dd>\n",
              "            </dl>\n",
              "        </div>\n",
              "        \n",
              "            </div>\n",
              "        "
            ]
          },
          "metadata": {},
          "execution_count": 13
        }
      ],
      "source": [
        "spark_session"
      ]
    },
    {
      "cell_type": "code",
      "execution_count": 14,
      "metadata": {
        "colab": {
          "base_uri": "https://localhost:8080/"
        },
        "id": "Hipl2EfQKkzZ",
        "outputId": "b4ba98a3-7d8d-432d-bc2d-6f5d958bc44c"
      },
      "outputs": [
        {
          "output_type": "stream",
          "name": "stdout",
          "text": [
            ",AGE,SEX,STEROID,ANTIVIRALS,FATIGUE,MALAISE,ANOREXIA,LIVER_BIG,LIVER_FIRM,SPLEEN_PALPABLE,SPIDERS,ASCITES,VARICES,BILIRUBIN,ALK_PHOSPHATE,SGOT,ALBUMIN,PROTIME,HISTOLOGY,Class\n",
            "0,30,male,no,no,no,no,no,no,no,no,no,no,no,1,85,18,4,?,no,LIVE\n",
            "1,50,female,no,no,yes,no,no,no,no,no,no,no,no,0.9,135,42,3.5,?,no,LIVE\n",
            "2,78,female,yes,no,yes,no,no,yes,no,no,no,no,no,0.7,96,32,4,?,no,LIVE\n",
            "3,31,female,?,yes,no,no,no,yes,no,no,no,no,no,0.7,46,52,4,80,no,LIVE\n",
            "4,34,female,yes,no,no,no,no,yes,no,no,no,no,no,1,?,200,4,?,no,LIVE\n",
            "5,34,female,yes,no,no,no,no,yes,no,no,no,no,no,0.9,95,28,4,75,no,LIVE\n",
            "6,51,female,no,no,yes,no,yes,yes,no,yes,yes,no,no,?,?,?,?,?,no,DIE\n",
            "7,23,female,yes,no,no,no,no,yes,no,no,no,no,no,1,?,?,?,?,no,LIVE\n",
            "8,39,female,yes,no,yes,no,no,yes,yes,no,no,no,no,0.7,?,48,4.4,?,no,LIVE\n"
          ]
        }
      ],
      "source": [
        "!head data.csv"
      ]
    },
    {
      "cell_type": "code",
      "execution_count": 15,
      "metadata": {
        "id": "JHo3uGqnKkxQ"
      },
      "outputs": [],
      "source": [
        "df = spark_session \\\n",
        "        .read \\\n",
        "        .csv(path='data.csv',\n",
        "             header=True,\n",
        "             inferSchema=True)"
      ]
    },
    {
      "cell_type": "code",
      "execution_count": 16,
      "metadata": {
        "colab": {
          "base_uri": "https://localhost:8080/"
        },
        "id": "OApt5LSxKkt-",
        "outputId": "2e77f4fe-e5f1-488b-87c3-9c454b4d5cdc"
      },
      "outputs": [
        {
          "output_type": "execute_result",
          "data": {
            "text/plain": [
              "pyspark.sql.dataframe.DataFrame"
            ]
          },
          "metadata": {},
          "execution_count": 16
        }
      ],
      "source": [
        "type(df)"
      ]
    },
    {
      "cell_type": "code",
      "execution_count": 17,
      "metadata": {
        "colab": {
          "base_uri": "https://localhost:8080/"
        },
        "id": "9TnjPZpIN0Z-",
        "outputId": "5efb097d-470a-4c8e-ee3d-27136bbda8be"
      },
      "outputs": [
        {
          "output_type": "stream",
          "name": "stdout",
          "text": [
            "root\n",
            " |-- _c0: integer (nullable = true)\n",
            " |-- AGE: integer (nullable = true)\n",
            " |-- SEX: string (nullable = true)\n",
            " |-- STEROID: string (nullable = true)\n",
            " |-- ANTIVIRALS: string (nullable = true)\n",
            " |-- FATIGUE: string (nullable = true)\n",
            " |-- MALAISE: string (nullable = true)\n",
            " |-- ANOREXIA: string (nullable = true)\n",
            " |-- LIVER_BIG: string (nullable = true)\n",
            " |-- LIVER_FIRM: string (nullable = true)\n",
            " |-- SPLEEN_PALPABLE: string (nullable = true)\n",
            " |-- SPIDERS: string (nullable = true)\n",
            " |-- ASCITES: string (nullable = true)\n",
            " |-- VARICES: string (nullable = true)\n",
            " |-- BILIRUBIN: string (nullable = true)\n",
            " |-- ALK_PHOSPHATE: string (nullable = true)\n",
            " |-- SGOT: string (nullable = true)\n",
            " |-- ALBUMIN: string (nullable = true)\n",
            " |-- PROTIME: string (nullable = true)\n",
            " |-- HISTOLOGY: string (nullable = true)\n",
            " |-- Class: string (nullable = true)\n",
            "\n"
          ]
        }
      ],
      "source": [
        "df.printSchema()"
      ]
    },
    {
      "cell_type": "code",
      "execution_count": 18,
      "metadata": {
        "colab": {
          "base_uri": "https://localhost:8080/"
        },
        "id": "1AKYLZ64N0ZL",
        "outputId": "f2241d4a-0ceb-418f-9291-fa9d629d3f5a"
      },
      "outputs": [
        {
          "output_type": "execute_result",
          "data": {
            "text/plain": [
              "['_c0',\n",
              " 'AGE',\n",
              " 'SEX',\n",
              " 'STEROID',\n",
              " 'ANTIVIRALS',\n",
              " 'FATIGUE',\n",
              " 'MALAISE',\n",
              " 'ANOREXIA',\n",
              " 'LIVER_BIG',\n",
              " 'LIVER_FIRM',\n",
              " 'SPLEEN_PALPABLE',\n",
              " 'SPIDERS',\n",
              " 'ASCITES',\n",
              " 'VARICES',\n",
              " 'BILIRUBIN',\n",
              " 'ALK_PHOSPHATE',\n",
              " 'SGOT',\n",
              " 'ALBUMIN',\n",
              " 'PROTIME',\n",
              " 'HISTOLOGY',\n",
              " 'Class']"
            ]
          },
          "metadata": {},
          "execution_count": 18
        }
      ],
      "source": [
        "df.columns"
      ]
    },
    {
      "cell_type": "code",
      "execution_count": 19,
      "metadata": {
        "id": "uKHMp6eAN0X2"
      },
      "outputs": [],
      "source": [
        "df = df.select(\n",
        "    'AGE',\n",
        "    'SEX',\n",
        "    'STEROID',\n",
        "    'ANTIVIRALS',\n",
        "    'FATIGUE',\n",
        "    'MALAISE',\n",
        "    'ANOREXIA',\n",
        "    'LIVER_BIG',\n",
        "    'LIVER_FIRM',\n",
        "    'SPLEEN_PALPABLE',\n",
        "    'SPIDERS',\n",
        "    'ASCITES',\n",
        "    'VARICES',\n",
        "    'BILIRUBIN',\n",
        "    'ALK_PHOSPHATE',\n",
        "    'SGOT',\n",
        "    'ALBUMIN',\n",
        "    'PROTIME',\n",
        "    'HISTOLOGY',\n",
        "    'Class'\n",
        ")"
      ]
    },
    {
      "cell_type": "code",
      "execution_count": 20,
      "metadata": {
        "colab": {
          "base_uri": "https://localhost:8080/"
        },
        "id": "thqv3_XfN0PF",
        "outputId": "7621b901-45a1-427d-bd30-420f4466bffd"
      },
      "outputs": [
        {
          "output_type": "stream",
          "name": "stdout",
          "text": [
            "+---+------+-------+----------+-------+-------+--------+---------+----------+---------------+-------+-------+-------+---------+-------------+----+-------+-------+---------+-----+\n",
            "|AGE|   SEX|STEROID|ANTIVIRALS|FATIGUE|MALAISE|ANOREXIA|LIVER_BIG|LIVER_FIRM|SPLEEN_PALPABLE|SPIDERS|ASCITES|VARICES|BILIRUBIN|ALK_PHOSPHATE|SGOT|ALBUMIN|PROTIME|HISTOLOGY|Class|\n",
            "+---+------+-------+----------+-------+-------+--------+---------+----------+---------------+-------+-------+-------+---------+-------------+----+-------+-------+---------+-----+\n",
            "| 30|  male|     no|        no|     no|     no|      no|       no|        no|             no|     no|     no|     no|        1|           85|  18|      4|      ?|       no| LIVE|\n",
            "| 50|female|     no|        no|    yes|     no|      no|       no|        no|             no|     no|     no|     no|      0.9|          135|  42|    3.5|      ?|       no| LIVE|\n",
            "| 78|female|    yes|        no|    yes|     no|      no|      yes|        no|             no|     no|     no|     no|      0.7|           96|  32|      4|      ?|       no| LIVE|\n",
            "| 31|female|      ?|       yes|     no|     no|      no|      yes|        no|             no|     no|     no|     no|      0.7|           46|  52|      4|     80|       no| LIVE|\n",
            "| 34|female|    yes|        no|     no|     no|      no|      yes|        no|             no|     no|     no|     no|        1|            ?| 200|      4|      ?|       no| LIVE|\n",
            "| 34|female|    yes|        no|     no|     no|      no|      yes|        no|             no|     no|     no|     no|      0.9|           95|  28|      4|     75|       no| LIVE|\n",
            "| 51|female|     no|        no|    yes|     no|     yes|      yes|        no|            yes|    yes|     no|     no|        ?|            ?|   ?|      ?|      ?|       no|  DIE|\n",
            "| 23|female|    yes|        no|     no|     no|      no|      yes|        no|             no|     no|     no|     no|        1|            ?|   ?|      ?|      ?|       no| LIVE|\n",
            "| 39|female|    yes|        no|    yes|     no|      no|      yes|       yes|             no|     no|     no|     no|      0.7|            ?|  48|    4.4|      ?|       no| LIVE|\n",
            "| 30|female|    yes|        no|     no|     no|      no|      yes|        no|             no|     no|     no|     no|        1|            ?| 120|    3.9|      ?|       no| LIVE|\n",
            "| 39|female|     no|       yes|     no|     no|      no|       no|       yes|             no|     no|     no|     no|      1.3|           78|  30|    4.4|     85|       no| LIVE|\n",
            "| 32|female|    yes|       yes|    yes|     no|      no|      yes|       yes|             no|    yes|     no|     no|        1|           59| 249|    3.7|     54|       no| LIVE|\n",
            "| 41|female|    yes|       yes|    yes|     no|      no|      yes|       yes|             no|     no|     no|     no|      0.9|           81|  60|    3.9|     52|       no| LIVE|\n",
            "| 30|female|    yes|        no|    yes|     no|      no|      yes|       yes|             no|     no|     no|     no|      2.2|           57| 144|    4.9|     78|       no| LIVE|\n",
            "| 47|female|     no|       yes|     no|     no|      no|      yes|        no|             no|     no|     no|     no|        ?|            ?|  60|      ?|      ?|       no| LIVE|\n",
            "| 38|female|     no|        no|    yes|    yes|     yes|      yes|        no|             no|     no|    yes|     no|        2|           72|  89|    2.9|     46|       no| LIVE|\n",
            "| 66|female|    yes|        no|    yes|     no|      no|      yes|        no|             no|     no|     no|     no|      1.2|          102|  53|    4.3|      ?|       no| LIVE|\n",
            "| 40|female|     no|        no|    yes|     no|      no|      yes|       yes|             no|     no|     no|     no|      0.6|           62| 166|      4|     63|       no| LIVE|\n",
            "| 38|female|    yes|        no|     no|     no|      no|      yes|        no|             no|     no|     no|     no|      0.7|           53|  42|    4.1|     85|      yes| LIVE|\n",
            "| 38|female|     no|       yes|     no|     no|      no|       no|       yes|             no|     no|     no|     no|      0.7|           70|  28|    4.2|     62|       no| LIVE|\n",
            "+---+------+-------+----------+-------+-------+--------+---------+----------+---------------+-------+-------+-------+---------+-------------+----+-------+-------+---------+-----+\n",
            "only showing top 20 rows\n",
            "\n"
          ]
        }
      ],
      "source": [
        "df.show()"
      ]
    },
    {
      "cell_type": "code",
      "execution_count": 21,
      "metadata": {
        "colab": {
          "base_uri": "https://localhost:8080/"
        },
        "id": "vgmBcIi_N0OM",
        "outputId": "6abac635-e0ff-4291-9477-d3ae64ed76a5"
      },
      "outputs": [
        {
          "output_type": "execute_result",
          "data": {
            "text/plain": [
              "['AGE',\n",
              " 'SEX',\n",
              " 'STEROID',\n",
              " 'ANTIVIRALS',\n",
              " 'FATIGUE',\n",
              " 'MALAISE',\n",
              " 'ANOREXIA',\n",
              " 'LIVER_BIG',\n",
              " 'LIVER_FIRM',\n",
              " 'SPLEEN_PALPABLE',\n",
              " 'SPIDERS',\n",
              " 'ASCITES',\n",
              " 'VARICES',\n",
              " 'BILIRUBIN',\n",
              " 'ALK_PHOSPHATE',\n",
              " 'SGOT',\n",
              " 'ALBUMIN',\n",
              " 'PROTIME',\n",
              " 'HISTOLOGY',\n",
              " 'Class']"
            ]
          },
          "metadata": {},
          "execution_count": 21
        }
      ],
      "source": [
        "df.columns"
      ]
    },
    {
      "cell_type": "code",
      "execution_count": 22,
      "metadata": {
        "colab": {
          "base_uri": "https://localhost:8080/"
        },
        "id": "PHTl7BcfTiRU",
        "outputId": "1aa5b972-8425-4a00-99ee-1dc48b014cd6"
      },
      "outputs": [
        {
          "output_type": "stream",
          "name": "stdout",
          "text": [
            "+-----+-----+\n",
            "|Class|count|\n",
            "+-----+-----+\n",
            "|  DIE|   32|\n",
            "| LIVE|  123|\n",
            "+-----+-----+\n",
            "\n"
          ]
        }
      ],
      "source": [
        "df.groupby('Class').count().show()"
      ]
    },
    {
      "cell_type": "code",
      "execution_count": 23,
      "metadata": {
        "colab": {
          "base_uri": "https://localhost:8080/",
          "height": 112
        },
        "id": "ZuU46qELN0MW",
        "outputId": "fa035df8-225f-4251-8cbb-e95ec0091c05"
      },
      "outputs": [
        {
          "output_type": "execute_result",
          "data": {
            "text/plain": [
              "  Class  count\n",
              "0   DIE     32\n",
              "1  LIVE    123"
            ],
            "text/html": [
              "\n",
              "  <div id=\"df-8ee59978-01de-44c8-9671-e1995e03a6f7\">\n",
              "    <div class=\"colab-df-container\">\n",
              "      <div>\n",
              "<style scoped>\n",
              "    .dataframe tbody tr th:only-of-type {\n",
              "        vertical-align: middle;\n",
              "    }\n",
              "\n",
              "    .dataframe tbody tr th {\n",
              "        vertical-align: top;\n",
              "    }\n",
              "\n",
              "    .dataframe thead th {\n",
              "        text-align: right;\n",
              "    }\n",
              "</style>\n",
              "<table border=\"1\" class=\"dataframe\">\n",
              "  <thead>\n",
              "    <tr style=\"text-align: right;\">\n",
              "      <th></th>\n",
              "      <th>Class</th>\n",
              "      <th>count</th>\n",
              "    </tr>\n",
              "  </thead>\n",
              "  <tbody>\n",
              "    <tr>\n",
              "      <th>0</th>\n",
              "      <td>DIE</td>\n",
              "      <td>32</td>\n",
              "    </tr>\n",
              "    <tr>\n",
              "      <th>1</th>\n",
              "      <td>LIVE</td>\n",
              "      <td>123</td>\n",
              "    </tr>\n",
              "  </tbody>\n",
              "</table>\n",
              "</div>\n",
              "      <button class=\"colab-df-convert\" onclick=\"convertToInteractive('df-8ee59978-01de-44c8-9671-e1995e03a6f7')\"\n",
              "              title=\"Convert this dataframe to an interactive table.\"\n",
              "              style=\"display:none;\">\n",
              "        \n",
              "  <svg xmlns=\"http://www.w3.org/2000/svg\" height=\"24px\"viewBox=\"0 0 24 24\"\n",
              "       width=\"24px\">\n",
              "    <path d=\"M0 0h24v24H0V0z\" fill=\"none\"/>\n",
              "    <path d=\"M18.56 5.44l.94 2.06.94-2.06 2.06-.94-2.06-.94-.94-2.06-.94 2.06-2.06.94zm-11 1L8.5 8.5l.94-2.06 2.06-.94-2.06-.94L8.5 2.5l-.94 2.06-2.06.94zm10 10l.94 2.06.94-2.06 2.06-.94-2.06-.94-.94-2.06-.94 2.06-2.06.94z\"/><path d=\"M17.41 7.96l-1.37-1.37c-.4-.4-.92-.59-1.43-.59-.52 0-1.04.2-1.43.59L10.3 9.45l-7.72 7.72c-.78.78-.78 2.05 0 2.83L4 21.41c.39.39.9.59 1.41.59.51 0 1.02-.2 1.41-.59l7.78-7.78 2.81-2.81c.8-.78.8-2.07 0-2.86zM5.41 20L4 18.59l7.72-7.72 1.47 1.35L5.41 20z\"/>\n",
              "  </svg>\n",
              "      </button>\n",
              "      \n",
              "  <style>\n",
              "    .colab-df-container {\n",
              "      display:flex;\n",
              "      flex-wrap:wrap;\n",
              "      gap: 12px;\n",
              "    }\n",
              "\n",
              "    .colab-df-convert {\n",
              "      background-color: #E8F0FE;\n",
              "      border: none;\n",
              "      border-radius: 50%;\n",
              "      cursor: pointer;\n",
              "      display: none;\n",
              "      fill: #1967D2;\n",
              "      height: 32px;\n",
              "      padding: 0 0 0 0;\n",
              "      width: 32px;\n",
              "    }\n",
              "\n",
              "    .colab-df-convert:hover {\n",
              "      background-color: #E2EBFA;\n",
              "      box-shadow: 0px 1px 2px rgba(60, 64, 67, 0.3), 0px 1px 3px 1px rgba(60, 64, 67, 0.15);\n",
              "      fill: #174EA6;\n",
              "    }\n",
              "\n",
              "    [theme=dark] .colab-df-convert {\n",
              "      background-color: #3B4455;\n",
              "      fill: #D2E3FC;\n",
              "    }\n",
              "\n",
              "    [theme=dark] .colab-df-convert:hover {\n",
              "      background-color: #434B5C;\n",
              "      box-shadow: 0px 1px 3px 1px rgba(0, 0, 0, 0.15);\n",
              "      filter: drop-shadow(0px 1px 2px rgba(0, 0, 0, 0.3));\n",
              "      fill: #FFFFFF;\n",
              "    }\n",
              "  </style>\n",
              "\n",
              "      <script>\n",
              "        const buttonEl =\n",
              "          document.querySelector('#df-8ee59978-01de-44c8-9671-e1995e03a6f7 button.colab-df-convert');\n",
              "        buttonEl.style.display =\n",
              "          google.colab.kernel.accessAllowed ? 'block' : 'none';\n",
              "\n",
              "        async function convertToInteractive(key) {\n",
              "          const element = document.querySelector('#df-8ee59978-01de-44c8-9671-e1995e03a6f7');\n",
              "          const dataTable =\n",
              "            await google.colab.kernel.invokeFunction('convertToInteractive',\n",
              "                                                     [key], {});\n",
              "          if (!dataTable) return;\n",
              "\n",
              "          const docLinkHtml = 'Like what you see? Visit the ' +\n",
              "            '<a target=\"_blank\" href=https://colab.research.google.com/notebooks/data_table.ipynb>data table notebook</a>'\n",
              "            + ' to learn more about interactive tables.';\n",
              "          element.innerHTML = '';\n",
              "          dataTable['output_type'] = 'display_data';\n",
              "          await google.colab.output.renderOutput(dataTable, element);\n",
              "          const docLink = document.createElement('div');\n",
              "          docLink.innerHTML = docLinkHtml;\n",
              "          element.appendChild(docLink);\n",
              "        }\n",
              "      </script>\n",
              "    </div>\n",
              "  </div>\n",
              "  "
            ]
          },
          "metadata": {},
          "execution_count": 23
        }
      ],
      "source": [
        "df.groupBy('Class').count().sort('Class').toPandas()"
      ]
    },
    {
      "cell_type": "code",
      "execution_count": 24,
      "metadata": {
        "colab": {
          "base_uri": "https://localhost:8080/"
        },
        "id": "6zrV3wM9N0Lh",
        "outputId": "0fd7f4ec-1ffe-4d8c-93fa-7ed0d1efc9ef"
      },
      "outputs": [
        {
          "output_type": "execute_result",
          "data": {
            "text/plain": [
              "[('AGE', 'int'),\n",
              " ('SEX', 'string'),\n",
              " ('STEROID', 'string'),\n",
              " ('ANTIVIRALS', 'string'),\n",
              " ('FATIGUE', 'string'),\n",
              " ('MALAISE', 'string'),\n",
              " ('ANOREXIA', 'string'),\n",
              " ('LIVER_BIG', 'string'),\n",
              " ('LIVER_FIRM', 'string'),\n",
              " ('SPLEEN_PALPABLE', 'string'),\n",
              " ('SPIDERS', 'string'),\n",
              " ('ASCITES', 'string'),\n",
              " ('VARICES', 'string'),\n",
              " ('BILIRUBIN', 'string'),\n",
              " ('ALK_PHOSPHATE', 'string'),\n",
              " ('SGOT', 'string'),\n",
              " ('ALBUMIN', 'string'),\n",
              " ('PROTIME', 'string'),\n",
              " ('HISTOLOGY', 'string'),\n",
              " ('Class', 'string')]"
            ]
          },
          "metadata": {},
          "execution_count": 24
        }
      ],
      "source": [
        "df.dtypes"
      ]
    },
    {
      "cell_type": "code",
      "execution_count": 25,
      "metadata": {
        "colab": {
          "base_uri": "https://localhost:8080/"
        },
        "id": "Nt91lns0N0B6",
        "outputId": "9c0a53f7-c992-4530-9d06-b5f9b2051db9"
      },
      "outputs": [
        {
          "output_type": "stream",
          "name": "stdout",
          "text": [
            "+---+------+-------+----------+-------+-------+--------+---------+----------+---------------+-------+-------+-------+---------+-------------+----+-------+-------+---------+-----+\n",
            "|AGE|   SEX|STEROID|ANTIVIRALS|FATIGUE|MALAISE|ANOREXIA|LIVER_BIG|LIVER_FIRM|SPLEEN_PALPABLE|SPIDERS|ASCITES|VARICES|BILIRUBIN|ALK_PHOSPHATE|SGOT|ALBUMIN|PROTIME|HISTOLOGY|Class|\n",
            "+---+------+-------+----------+-------+-------+--------+---------+----------+---------------+-------+-------+-------+---------+-------------+----+-------+-------+---------+-----+\n",
            "| 30|  male|     no|        no|     no|     no|      no|       no|        no|             no|     no|     no|     no|        1|           85|  18|      4|      ?|       no| LIVE|\n",
            "| 50|female|     no|        no|    yes|     no|      no|       no|        no|             no|     no|     no|     no|      0.9|          135|  42|    3.5|      ?|       no| LIVE|\n",
            "| 78|female|    yes|        no|    yes|     no|      no|      yes|        no|             no|     no|     no|     no|      0.7|           96|  32|      4|      ?|       no| LIVE|\n",
            "| 31|female|      ?|       yes|     no|     no|      no|      yes|        no|             no|     no|     no|     no|      0.7|           46|  52|      4|     80|       no| LIVE|\n",
            "| 34|female|    yes|        no|     no|     no|      no|      yes|        no|             no|     no|     no|     no|        1|            ?| 200|      4|      ?|       no| LIVE|\n",
            "| 34|female|    yes|        no|     no|     no|      no|      yes|        no|             no|     no|     no|     no|      0.9|           95|  28|      4|     75|       no| LIVE|\n",
            "| 51|female|     no|        no|    yes|     no|     yes|      yes|        no|            yes|    yes|     no|     no|        ?|            ?|   ?|      ?|      ?|       no|  DIE|\n",
            "| 23|female|    yes|        no|     no|     no|      no|      yes|        no|             no|     no|     no|     no|        1|            ?|   ?|      ?|      ?|       no| LIVE|\n",
            "| 39|female|    yes|        no|    yes|     no|      no|      yes|       yes|             no|     no|     no|     no|      0.7|            ?|  48|    4.4|      ?|       no| LIVE|\n",
            "| 30|female|    yes|        no|     no|     no|      no|      yes|        no|             no|     no|     no|     no|        1|            ?| 120|    3.9|      ?|       no| LIVE|\n",
            "+---+------+-------+----------+-------+-------+--------+---------+----------+---------------+-------+-------+-------+---------+-------------+----+-------+-------+---------+-----+\n",
            "only showing top 10 rows\n",
            "\n"
          ]
        }
      ],
      "source": [
        "df.show(n=10)"
      ]
    },
    {
      "cell_type": "code",
      "execution_count": 26,
      "metadata": {
        "colab": {
          "base_uri": "https://localhost:8080/"
        },
        "id": "xeLaUuyPNz_R",
        "outputId": "70206c87-a95a-4cc4-9fca-d81b4bd66ca4"
      },
      "outputs": [
        {
          "output_type": "stream",
          "name": "stdout",
          "text": [
            "+-------+------------------+------+-------+----------+-------+-------+--------+---------+----------+---------------+-------+-------+-------+------------------+------------------+-----------------+------------------+-----------------+---------+-----+\n",
            "|summary|               AGE|   SEX|STEROID|ANTIVIRALS|FATIGUE|MALAISE|ANOREXIA|LIVER_BIG|LIVER_FIRM|SPLEEN_PALPABLE|SPIDERS|ASCITES|VARICES|         BILIRUBIN|     ALK_PHOSPHATE|             SGOT|           ALBUMIN|          PROTIME|HISTOLOGY|Class|\n",
            "+-------+------------------+------+-------+----------+-------+-------+--------+---------+----------+---------------+-------+-------+-------+------------------+------------------+-----------------+------------------+-----------------+---------+-----+\n",
            "|  count|               155|   155|    155|       155|    155|    155|     155|      155|       155|            155|    155|    155|    155|               155|               155|              155|               155|              155|      155|  155|\n",
            "|   mean|              41.2|  null|   null|      null|   null|   null|    null|     null|      null|           null|   null|   null|   null|1.4275167785234895|105.32539682539682|85.89403973509934|3.8172661870503592|61.85227272727273|     null| null|\n",
            "| stddev|12.565878349773197|  null|   null|      null|   null|   null|    null|     null|      null|           null|   null|   null|   null|1.2121490330948559| 51.50810877756305|89.65088973850219|0.6515230826162131|22.87524374481145|     null| null|\n",
            "|    min|                 7|female|      ?|        no|      ?|      ?|       ?|        ?|         ?|              ?|      ?|      ?|      ?|               0.3|               100|              100|               2.1|                0|       no|  DIE|\n",
            "|    max|                78|  male|    yes|       yes|    yes|    yes|     yes|      yes|       yes|            yes|    yes|    yes|    yes|                 ?|                 ?|                ?|                 ?|                ?|      yes| LIVE|\n",
            "+-------+------------------+------+-------+----------+-------+-------+--------+---------+----------+---------------+-------+-------+-------+------------------+------------------+-----------------+------------------+-----------------+---------+-----+\n",
            "\n"
          ]
        }
      ],
      "source": [
        "df.describe().show()"
      ]
    },
    {
      "cell_type": "code",
      "source": [
        "def dataframe_dim(df: object) -> object:\n",
        "    num_rows = df.count()\n",
        "    num_cols = len(df.columns)\n",
        "    return (f'Rows: {num_rows} | Cols: {num_cols}')"
      ],
      "metadata": {
        "id": "vW3Xd6sQbBlx"
      },
      "execution_count": 27,
      "outputs": []
    },
    {
      "cell_type": "code",
      "source": [
        "dataframe_dim(df=df)"
      ],
      "metadata": {
        "colab": {
          "base_uri": "https://localhost:8080/",
          "height": 35
        },
        "id": "hyEFiuQPbV21",
        "outputId": "a62efec5-7495-4e91-8900-a8626a8d5b22"
      },
      "execution_count": 28,
      "outputs": [
        {
          "output_type": "execute_result",
          "data": {
            "text/plain": [
              "'Rows: 155 | Cols: 20'"
            ],
            "application/vnd.google.colaboratory.intrinsic+json": {
              "type": "string"
            }
          },
          "metadata": {},
          "execution_count": 28
        }
      ]
    },
    {
      "cell_type": "code",
      "execution_count": 29,
      "metadata": {
        "id": "_olOKhcSRek7"
      },
      "outputs": [],
      "source": [
        "import pyspark.ml"
      ]
    },
    {
      "cell_type": "code",
      "execution_count": 30,
      "metadata": {
        "colab": {
          "base_uri": "https://localhost:8080/"
        },
        "id": "gWXUbATMRekC",
        "outputId": "54c89d00-c05f-4297-fc16-895ec72fde1f"
      },
      "outputs": [
        {
          "output_type": "execute_result",
          "data": {
            "text/plain": [
              "['Estimator',\n",
              " 'Model',\n",
              " 'Pipeline',\n",
              " 'PipelineModel',\n",
              " 'PredictionModel',\n",
              " 'Predictor',\n",
              " 'Transformer',\n",
              " 'UnaryTransformer',\n",
              " '__all__',\n",
              " '__builtins__',\n",
              " '__cached__',\n",
              " '__doc__',\n",
              " '__file__',\n",
              " '__loader__',\n",
              " '__name__',\n",
              " '__package__',\n",
              " '__path__',\n",
              " '__spec__',\n",
              " 'base',\n",
              " 'classification',\n",
              " 'clustering',\n",
              " 'common',\n",
              " 'evaluation',\n",
              " 'feature',\n",
              " 'fpm',\n",
              " 'image',\n",
              " 'linalg',\n",
              " 'param',\n",
              " 'pipeline',\n",
              " 'recommendation',\n",
              " 'regression',\n",
              " 'stat',\n",
              " 'tree',\n",
              " 'tuning',\n",
              " 'util',\n",
              " 'wrapper']"
            ]
          },
          "metadata": {},
          "execution_count": 30
        }
      ],
      "source": [
        "dir(pyspark.ml)"
      ]
    },
    {
      "cell_type": "code",
      "execution_count": 31,
      "metadata": {
        "colab": {
          "base_uri": "https://localhost:8080/"
        },
        "id": "jPK-vZM1Reek",
        "outputId": "16a33ab0-8125-4ee9-8b52-88256e7bf885"
      },
      "outputs": [
        {
          "output_type": "stream",
          "name": "stdout",
          "text": [
            "+---+------+-------+----------+-------+-------+--------+---------+----------+---------------+-------+-------+-------+---------+-------------+----+-------+-------+---------+-----+\n",
            "|AGE|   SEX|STEROID|ANTIVIRALS|FATIGUE|MALAISE|ANOREXIA|LIVER_BIG|LIVER_FIRM|SPLEEN_PALPABLE|SPIDERS|ASCITES|VARICES|BILIRUBIN|ALK_PHOSPHATE|SGOT|ALBUMIN|PROTIME|HISTOLOGY|Class|\n",
            "+---+------+-------+----------+-------+-------+--------+---------+----------+---------------+-------+-------+-------+---------+-------------+----+-------+-------+---------+-----+\n",
            "| 30|  male|     no|        no|     no|     no|      no|       no|        no|             no|     no|     no|     no|        1|           85|  18|      4|      ?|       no| LIVE|\n",
            "| 50|female|     no|        no|    yes|     no|      no|       no|        no|             no|     no|     no|     no|      0.9|          135|  42|    3.5|      ?|       no| LIVE|\n",
            "| 78|female|    yes|        no|    yes|     no|      no|      yes|        no|             no|     no|     no|     no|      0.7|           96|  32|      4|      ?|       no| LIVE|\n",
            "| 31|female|      ?|       yes|     no|     no|      no|      yes|        no|             no|     no|     no|     no|      0.7|           46|  52|      4|     80|       no| LIVE|\n",
            "| 34|female|    yes|        no|     no|     no|      no|      yes|        no|             no|     no|     no|     no|        1|            ?| 200|      4|      ?|       no| LIVE|\n",
            "+---+------+-------+----------+-------+-------+--------+---------+----------+---------------+-------+-------+-------+---------+-------------+----+-------+-------+---------+-----+\n",
            "only showing top 5 rows\n",
            "\n"
          ]
        }
      ],
      "source": [
        "df.show(5)"
      ]
    },
    {
      "cell_type": "code",
      "execution_count": 32,
      "metadata": {
        "colab": {
          "base_uri": "https://localhost:8080/"
        },
        "id": "gL6tL_4EUYp5",
        "outputId": "6468b619-cc82-4fe6-f8d8-07426c1171f7"
      },
      "outputs": [
        {
          "output_type": "stream",
          "name": "stdout",
          "text": [
            "+------+-----+\n",
            "|   SEX|count|\n",
            "+------+-----+\n",
            "|female|  139|\n",
            "|  male|   16|\n",
            "+------+-----+\n",
            "\n"
          ]
        }
      ],
      "source": [
        "df.groupby('SEX').count().show()"
      ]
    },
    {
      "cell_type": "code",
      "execution_count": 33,
      "metadata": {
        "colab": {
          "base_uri": "https://localhost:8080/"
        },
        "id": "5uQhEJp8Redx",
        "outputId": "61eb92b1-127f-4062-b7eb-ec66901d6036"
      },
      "outputs": [
        {
          "output_type": "execute_result",
          "data": {
            "text/plain": [
              "155"
            ]
          },
          "metadata": {},
          "execution_count": 33
        }
      ],
      "source": [
        "df.select('SEX').count()"
      ]
    },
    {
      "cell_type": "code",
      "execution_count": 34,
      "metadata": {
        "id": "ah3kEVUdRefc"
      },
      "outputs": [],
      "source": [
        "from pyspark.ml.feature import VectorAssembler, StringIndexer"
      ]
    },
    {
      "cell_type": "code",
      "execution_count": 35,
      "metadata": {
        "id": "1sIYzlFYRec_",
        "colab": {
          "base_uri": "https://localhost:8080/"
        },
        "outputId": "b7134e81-0262-425d-fdda-a3078936dda0"
      },
      "outputs": [
        {
          "output_type": "stream",
          "name": "stdout",
          "text": [
            "+---+------+-------+----------+-------+-------+--------+---------+----------+---------------+-------+-------+-------+---------+-------------+----+-------+-------+---------+-----+\n",
            "|AGE|   SEX|STEROID|ANTIVIRALS|FATIGUE|MALAISE|ANOREXIA|LIVER_BIG|LIVER_FIRM|SPLEEN_PALPABLE|SPIDERS|ASCITES|VARICES|BILIRUBIN|ALK_PHOSPHATE|SGOT|ALBUMIN|PROTIME|HISTOLOGY|Class|\n",
            "+---+------+-------+----------+-------+-------+--------+---------+----------+---------------+-------+-------+-------+---------+-------------+----+-------+-------+---------+-----+\n",
            "| 30|  male|     no|        no|     no|     no|      no|       no|        no|             no|     no|     no|     no|        1|           85|  18|      4|      ?|       no| LIVE|\n",
            "| 50|female|     no|        no|    yes|     no|      no|       no|        no|             no|     no|     no|     no|      0.9|          135|  42|    3.5|      ?|       no| LIVE|\n",
            "| 78|female|    yes|        no|    yes|     no|      no|      yes|        no|             no|     no|     no|     no|      0.7|           96|  32|      4|      ?|       no| LIVE|\n",
            "+---+------+-------+----------+-------+-------+--------+---------+----------+---------------+-------+-------+-------+---------+-------------+----+-------+-------+---------+-----+\n",
            "only showing top 3 rows\n",
            "\n"
          ]
        }
      ],
      "source": [
        "df.show(n=3)"
      ]
    },
    {
      "cell_type": "code",
      "source": [
        "df.dtypes"
      ],
      "metadata": {
        "colab": {
          "base_uri": "https://localhost:8080/"
        },
        "id": "LxFlowdkW3Bd",
        "outputId": "61becabf-2f14-46e7-88ec-da5bc936c980"
      },
      "execution_count": 36,
      "outputs": [
        {
          "output_type": "execute_result",
          "data": {
            "text/plain": [
              "[('AGE', 'int'),\n",
              " ('SEX', 'string'),\n",
              " ('STEROID', 'string'),\n",
              " ('ANTIVIRALS', 'string'),\n",
              " ('FATIGUE', 'string'),\n",
              " ('MALAISE', 'string'),\n",
              " ('ANOREXIA', 'string'),\n",
              " ('LIVER_BIG', 'string'),\n",
              " ('LIVER_FIRM', 'string'),\n",
              " ('SPLEEN_PALPABLE', 'string'),\n",
              " ('SPIDERS', 'string'),\n",
              " ('ASCITES', 'string'),\n",
              " ('VARICES', 'string'),\n",
              " ('BILIRUBIN', 'string'),\n",
              " ('ALK_PHOSPHATE', 'string'),\n",
              " ('SGOT', 'string'),\n",
              " ('ALBUMIN', 'string'),\n",
              " ('PROTIME', 'string'),\n",
              " ('HISTOLOGY', 'string'),\n",
              " ('Class', 'string')]"
            ]
          },
          "metadata": {},
          "execution_count": 36
        }
      ]
    },
    {
      "cell_type": "code",
      "source": [
        "df.columns"
      ],
      "metadata": {
        "colab": {
          "base_uri": "https://localhost:8080/"
        },
        "id": "scuL5rRSWzjG",
        "outputId": "1023ccab-1151-4b1b-964c-e9956b2b2328"
      },
      "execution_count": 37,
      "outputs": [
        {
          "output_type": "execute_result",
          "data": {
            "text/plain": [
              "['AGE',\n",
              " 'SEX',\n",
              " 'STEROID',\n",
              " 'ANTIVIRALS',\n",
              " 'FATIGUE',\n",
              " 'MALAISE',\n",
              " 'ANOREXIA',\n",
              " 'LIVER_BIG',\n",
              " 'LIVER_FIRM',\n",
              " 'SPLEEN_PALPABLE',\n",
              " 'SPIDERS',\n",
              " 'ASCITES',\n",
              " 'VARICES',\n",
              " 'BILIRUBIN',\n",
              " 'ALK_PHOSPHATE',\n",
              " 'SGOT',\n",
              " 'ALBUMIN',\n",
              " 'PROTIME',\n",
              " 'HISTOLOGY',\n",
              " 'Class']"
            ]
          },
          "metadata": {},
          "execution_count": 37
        }
      ]
    },
    {
      "cell_type": "code",
      "execution_count": 38,
      "metadata": {
        "id": "nYUfMUZKRecG"
      },
      "outputs": [],
      "source": [
        "indexer = StringIndexer(\n",
        "    inputCols=['SEX', 'STEROID', 'ANTIVIRALS', 'FATIGUE', \n",
        "               'MALAISE', 'ANOREXIA', 'LIVER_BIG', 'LIVER_FIRM', \n",
        "               'SPLEEN_PALPABLE', 'SPIDERS', 'ASCITES', 'VARICES', \n",
        "               'BILIRUBIN', 'ALK_PHOSPHATE', 'SGOT', 'ALBUMIN', \n",
        "               'PROTIME', 'HISTOLOGY'],\n",
        "               \n",
        "    outputCols=['SEX_idx', 'STEROID_idx', 'ANTIVIRALS_idx', 'FATIGUE_idx', \n",
        "               'MALAISE_idx', 'ANOREXIA_idx', 'LIVER_BIG_idx', 'LIVER_FIRM_idx', \n",
        "               'SPLEEN_PALPABLE_idx', 'SPIDERS_idx', 'ASCITES_idx', 'VARICES_idx', \n",
        "               'BILIRUBIN_idx', 'ALK_PHOSPHATE_idx', 'SGOT_idx', 'ALBUMIN_idx', \n",
        "               'PROTIME_idx', 'HISTOLOGY_idx'],\n",
        ").fit(df)"
      ]
    },
    {
      "cell_type": "code",
      "source": [
        "df = indexer.transform(dataset=df)"
      ],
      "metadata": {
        "id": "5zKnW3fHWn3V"
      },
      "execution_count": 39,
      "outputs": []
    },
    {
      "cell_type": "code",
      "source": [
        "df.dtypes"
      ],
      "metadata": {
        "colab": {
          "base_uri": "https://localhost:8080/"
        },
        "id": "sVlgxkrlWn2o",
        "outputId": "f7670e17-1a66-4960-9a9d-7ee6827b3f3b"
      },
      "execution_count": 40,
      "outputs": [
        {
          "output_type": "execute_result",
          "data": {
            "text/plain": [
              "[('AGE', 'int'),\n",
              " ('SEX', 'string'),\n",
              " ('STEROID', 'string'),\n",
              " ('ANTIVIRALS', 'string'),\n",
              " ('FATIGUE', 'string'),\n",
              " ('MALAISE', 'string'),\n",
              " ('ANOREXIA', 'string'),\n",
              " ('LIVER_BIG', 'string'),\n",
              " ('LIVER_FIRM', 'string'),\n",
              " ('SPLEEN_PALPABLE', 'string'),\n",
              " ('SPIDERS', 'string'),\n",
              " ('ASCITES', 'string'),\n",
              " ('VARICES', 'string'),\n",
              " ('BILIRUBIN', 'string'),\n",
              " ('ALK_PHOSPHATE', 'string'),\n",
              " ('SGOT', 'string'),\n",
              " ('ALBUMIN', 'string'),\n",
              " ('PROTIME', 'string'),\n",
              " ('HISTOLOGY', 'string'),\n",
              " ('Class', 'string'),\n",
              " ('SEX_idx', 'double'),\n",
              " ('STEROID_idx', 'double'),\n",
              " ('ANTIVIRALS_idx', 'double'),\n",
              " ('FATIGUE_idx', 'double'),\n",
              " ('MALAISE_idx', 'double'),\n",
              " ('ANOREXIA_idx', 'double'),\n",
              " ('LIVER_BIG_idx', 'double'),\n",
              " ('LIVER_FIRM_idx', 'double'),\n",
              " ('SPLEEN_PALPABLE_idx', 'double'),\n",
              " ('SPIDERS_idx', 'double'),\n",
              " ('ASCITES_idx', 'double'),\n",
              " ('VARICES_idx', 'double'),\n",
              " ('BILIRUBIN_idx', 'double'),\n",
              " ('ALK_PHOSPHATE_idx', 'double'),\n",
              " ('SGOT_idx', 'double'),\n",
              " ('ALBUMIN_idx', 'double'),\n",
              " ('PROTIME_idx', 'double'),\n",
              " ('HISTOLOGY_idx', 'double')]"
            ]
          },
          "metadata": {},
          "execution_count": 40
        }
      ]
    },
    {
      "cell_type": "code",
      "source": [
        "df.show()"
      ],
      "metadata": {
        "colab": {
          "base_uri": "https://localhost:8080/"
        },
        "id": "v86Bn3n5Wn1m",
        "outputId": "46d28026-bc6e-40e8-f2cb-ac4a414d62e5"
      },
      "execution_count": 41,
      "outputs": [
        {
          "output_type": "stream",
          "name": "stdout",
          "text": [
            "+---+------+-------+----------+-------+-------+--------+---------+----------+---------------+-------+-------+-------+---------+-------------+----+-------+-------+---------+-----+-------+-----------+--------------+-----------+-----------+------------+-------------+--------------+-------------------+-----------+-----------+-----------+-------------+-----------------+--------+-----------+-----------+-------------+\n",
            "|AGE|   SEX|STEROID|ANTIVIRALS|FATIGUE|MALAISE|ANOREXIA|LIVER_BIG|LIVER_FIRM|SPLEEN_PALPABLE|SPIDERS|ASCITES|VARICES|BILIRUBIN|ALK_PHOSPHATE|SGOT|ALBUMIN|PROTIME|HISTOLOGY|Class|SEX_idx|STEROID_idx|ANTIVIRALS_idx|FATIGUE_idx|MALAISE_idx|ANOREXIA_idx|LIVER_BIG_idx|LIVER_FIRM_idx|SPLEEN_PALPABLE_idx|SPIDERS_idx|ASCITES_idx|VARICES_idx|BILIRUBIN_idx|ALK_PHOSPHATE_idx|SGOT_idx|ALBUMIN_idx|PROTIME_idx|HISTOLOGY_idx|\n",
            "+---+------+-------+----------+-------+-------+--------+---------+----------+---------------+-------+-------+-------+---------+-------------+----+-------+-------+---------+-----+-------+-----------+--------------+-----------+-----------+------------+-------------+--------------+-------------------+-----------+-----------+-----------+-------------+-----------------+--------+-----------+-----------+-------------+\n",
            "| 30|  male|     no|        no|     no|     no|      no|       no|        no|             no|     no|     no|     no|        1|           85|  18|      4|      ?|       no| LIVE|    1.0|        1.0|           0.0|        1.0|        0.0|         0.0|          1.0|           0.0|                0.0|        0.0|        0.0|        0.0|          0.0|              1.0|     5.0|        0.0|        0.0|          0.0|\n",
            "| 50|female|     no|        no|    yes|     no|      no|       no|        no|             no|     no|     no|     no|      0.9|          135|  42|    3.5|      ?|       no| LIVE|    0.0|        1.0|           0.0|        0.0|        0.0|         0.0|          1.0|           0.0|                0.0|        0.0|        0.0|        0.0|          2.0|              5.0|    28.0|        9.0|        0.0|          0.0|\n",
            "| 78|female|    yes|        no|    yes|     no|      no|      yes|        no|             no|     no|     no|     no|      0.7|           96|  32|      4|      ?|       no| LIVE|    0.0|        0.0|           0.0|        0.0|        0.0|         0.0|          0.0|           0.0|                0.0|        0.0|        0.0|        0.0|          1.0|             83.0|    69.0|        0.0|        0.0|          0.0|\n",
            "| 31|female|      ?|       yes|     no|     no|      no|      yes|        no|             no|     no|     no|     no|      0.7|           46|  52|      4|     80|       no| LIVE|    0.0|        2.0|           1.0|        1.0|        0.0|         0.0|          0.0|           0.0|                0.0|        0.0|        0.0|        0.0|          1.0|             13.0|    31.0|        0.0|       43.0|          0.0|\n",
            "| 34|female|    yes|        no|     no|     no|      no|      yes|        no|             no|     no|     no|     no|        1|            ?| 200|      4|      ?|       no| LIVE|    0.0|        0.0|           0.0|        1.0|        0.0|         0.0|          0.0|           0.0|                0.0|        0.0|        0.0|        0.0|          0.0|              0.0|    58.0|        0.0|        0.0|          0.0|\n",
            "| 34|female|    yes|        no|     no|     no|      no|      yes|        no|             no|     no|     no|     no|      0.9|           95|  28|      4|     75|       no| LIVE|    0.0|        0.0|           0.0|        1.0|        0.0|         0.0|          0.0|           0.0|                0.0|        0.0|        0.0|        0.0|          2.0|             19.0|     2.0|        0.0|       39.0|          0.0|\n",
            "| 51|female|     no|        no|    yes|     no|     yes|      yes|        no|            yes|    yes|     no|     no|        ?|            ?|   ?|      ?|      ?|       no|  DIE|    0.0|        1.0|           0.0|        0.0|        0.0|         1.0|          0.0|           0.0|                1.0|        1.0|        0.0|        0.0|          8.0|              0.0|     7.0|        1.0|        0.0|          0.0|\n",
            "| 23|female|    yes|        no|     no|     no|      no|      yes|        no|             no|     no|     no|     no|        1|            ?|   ?|      ?|      ?|       no| LIVE|    0.0|        0.0|           0.0|        1.0|        0.0|         0.0|          0.0|           0.0|                0.0|        0.0|        0.0|        0.0|          0.0|              0.0|     7.0|        1.0|        0.0|          0.0|\n",
            "| 39|female|    yes|        no|    yes|     no|      no|      yes|       yes|             no|     no|     no|     no|      0.7|            ?|  48|    4.4|      ?|       no| LIVE|    0.0|        0.0|           0.0|        0.0|        0.0|         0.0|          0.0|           1.0|                0.0|        0.0|        0.0|        0.0|          1.0|              0.0|    12.0|        4.0|        0.0|          0.0|\n",
            "| 30|female|    yes|        no|     no|     no|      no|      yes|        no|             no|     no|     no|     no|        1|            ?| 120|    3.9|      ?|       no| LIVE|    0.0|        0.0|           0.0|        1.0|        0.0|         0.0|          0.0|           0.0|                0.0|        0.0|        0.0|        0.0|          0.0|              0.0|    18.0|        5.0|        0.0|          0.0|\n",
            "| 39|female|     no|       yes|     no|     no|      no|       no|       yes|             no|     no|     no|     no|      1.3|           78|  30|    4.4|     85|       no| LIVE|    0.0|        1.0|           1.0|        1.0|        0.0|         0.0|          1.0|           1.0|                0.0|        0.0|        0.0|        0.0|          7.0|              7.0|     3.0|        4.0|        5.0|          0.0|\n",
            "| 32|female|    yes|       yes|    yes|     no|      no|      yes|       yes|             no|    yes|     no|     no|        1|           59| 249|    3.7|     54|       no| LIVE|    0.0|        0.0|           1.0|        0.0|        0.0|         0.0|          0.0|           1.0|                0.0|        1.0|        0.0|        0.0|          0.0|             70.0|    64.0|       18.0|        9.0|          0.0|\n",
            "| 41|female|    yes|       yes|    yes|     no|      no|      yes|       yes|             no|     no|     no|     no|      0.9|           81|  60|    3.9|     52|       no| LIVE|    0.0|        0.0|           1.0|        0.0|        0.0|         0.0|          0.0|           1.0|                0.0|        0.0|        0.0|        0.0|          2.0|              3.0|     1.0|        5.0|        8.0|          0.0|\n",
            "| 30|female|    yes|        no|    yes|     no|      no|      yes|       yes|             no|     no|     no|     no|      2.2|           57| 144|    4.9|     78|       no| LIVE|    0.0|        0.0|           0.0|        0.0|        0.0|         0.0|          0.0|           1.0|                0.0|        0.0|        0.0|        0.0|         23.0|             68.0|    47.0|       22.0|       42.0|          0.0|\n",
            "| 47|female|     no|       yes|     no|     no|      no|      yes|        no|             no|     no|     no|     no|        ?|            ?|  60|      ?|      ?|       no| LIVE|    0.0|        1.0|           1.0|        1.0|        0.0|         0.0|          0.0|           0.0|                0.0|        0.0|        0.0|        0.0|          8.0|              0.0|     1.0|        1.0|        0.0|          0.0|\n",
            "| 38|female|     no|        no|    yes|    yes|     yes|      yes|        no|             no|     no|    yes|     no|        2|           72|  89|    2.9|     46|       no| LIVE|    0.0|        1.0|           0.0|        0.0|        1.0|         1.0|          0.0|           0.0|                0.0|        0.0|        1.0|        0.0|          9.0|             15.0|    83.0|       10.0|        2.0|          0.0|\n",
            "| 66|female|    yes|        no|    yes|     no|      no|      yes|        no|             no|     no|     no|     no|      1.2|          102|  53|    4.3|      ?|       no| LIVE|    0.0|        0.0|           0.0|        0.0|        0.0|         0.0|          0.0|           0.0|                0.0|        0.0|        0.0|        0.0|          5.0|              8.0|    13.0|        7.0|        0.0|          0.0|\n",
            "| 40|female|     no|        no|    yes|     no|      no|      yes|       yes|             no|     no|     no|     no|      0.6|           62| 166|      4|     63|       no| LIVE|    0.0|        1.0|           0.0|        0.0|        0.0|         0.0|          0.0|           1.0|                0.0|        0.0|        0.0|        0.0|          3.0|              2.0|    54.0|        0.0|       18.0|          0.0|\n",
            "| 38|female|    yes|        no|     no|     no|      no|      yes|        no|             no|     no|     no|     no|      0.7|           53|  42|    4.1|     85|      yes| LIVE|    0.0|        0.0|           0.0|        1.0|        0.0|         0.0|          0.0|           0.0|                0.0|        0.0|        0.0|        0.0|          1.0|             65.0|    28.0|        6.0|        5.0|          1.0|\n",
            "| 38|female|     no|       yes|     no|     no|      no|       no|       yes|             no|     no|     no|     no|      0.7|           70|  28|    4.2|     62|       no| LIVE|    0.0|        1.0|           1.0|        1.0|        0.0|         0.0|          1.0|           1.0|                0.0|        0.0|        0.0|        0.0|          1.0|             14.0|     2.0|        2.0|       17.0|          0.0|\n",
            "+---+------+-------+----------+-------+-------+--------+---------+----------+---------------+-------+-------+-------+---------+-------------+----+-------+-------+---------+-----+-------+-----------+--------------+-----------+-----------+------------+-------------+--------------+-------------------+-----------+-----------+-----------+-------------+-----------------+--------+-----------+-----------+-------------+\n",
            "only showing top 20 rows\n",
            "\n"
          ]
        }
      ]
    },
    {
      "cell_type": "code",
      "source": [
        "cat_encoder = StringIndexer(\n",
        "    inputCol='Class', \n",
        "    outputCol='TARGET'\n",
        ").fit(df)"
      ],
      "metadata": {
        "id": "YN6hi2oUWnwP"
      },
      "execution_count": 42,
      "outputs": []
    },
    {
      "cell_type": "code",
      "source": [
        "df = cat_encoder.transform(df)"
      ],
      "metadata": {
        "id": "9gewEJgPWnvE"
      },
      "execution_count": 43,
      "outputs": []
    },
    {
      "cell_type": "code",
      "source": [
        "df.show(n=3)"
      ],
      "metadata": {
        "colab": {
          "base_uri": "https://localhost:8080/"
        },
        "id": "BWpG0EsOWnpa",
        "outputId": "1225d98d-71f8-44cd-a8ea-fb9342bef2fd"
      },
      "execution_count": 44,
      "outputs": [
        {
          "output_type": "stream",
          "name": "stdout",
          "text": [
            "+---+------+-------+----------+-------+-------+--------+---------+----------+---------------+-------+-------+-------+---------+-------------+----+-------+-------+---------+-----+-------+-----------+--------------+-----------+-----------+------------+-------------+--------------+-------------------+-----------+-----------+-----------+-------------+-----------------+--------+-----------+-----------+-------------+------+\n",
            "|AGE|   SEX|STEROID|ANTIVIRALS|FATIGUE|MALAISE|ANOREXIA|LIVER_BIG|LIVER_FIRM|SPLEEN_PALPABLE|SPIDERS|ASCITES|VARICES|BILIRUBIN|ALK_PHOSPHATE|SGOT|ALBUMIN|PROTIME|HISTOLOGY|Class|SEX_idx|STEROID_idx|ANTIVIRALS_idx|FATIGUE_idx|MALAISE_idx|ANOREXIA_idx|LIVER_BIG_idx|LIVER_FIRM_idx|SPLEEN_PALPABLE_idx|SPIDERS_idx|ASCITES_idx|VARICES_idx|BILIRUBIN_idx|ALK_PHOSPHATE_idx|SGOT_idx|ALBUMIN_idx|PROTIME_idx|HISTOLOGY_idx|TARGET|\n",
            "+---+------+-------+----------+-------+-------+--------+---------+----------+---------------+-------+-------+-------+---------+-------------+----+-------+-------+---------+-----+-------+-----------+--------------+-----------+-----------+------------+-------------+--------------+-------------------+-----------+-----------+-----------+-------------+-----------------+--------+-----------+-----------+-------------+------+\n",
            "| 30|  male|     no|        no|     no|     no|      no|       no|        no|             no|     no|     no|     no|        1|           85|  18|      4|      ?|       no| LIVE|    1.0|        1.0|           0.0|        1.0|        0.0|         0.0|          1.0|           0.0|                0.0|        0.0|        0.0|        0.0|          0.0|              1.0|     5.0|        0.0|        0.0|          0.0|   0.0|\n",
            "| 50|female|     no|        no|    yes|     no|      no|       no|        no|             no|     no|     no|     no|      0.9|          135|  42|    3.5|      ?|       no| LIVE|    0.0|        1.0|           0.0|        0.0|        0.0|         0.0|          1.0|           0.0|                0.0|        0.0|        0.0|        0.0|          2.0|              5.0|    28.0|        9.0|        0.0|          0.0|   0.0|\n",
            "| 78|female|    yes|        no|    yes|     no|      no|      yes|        no|             no|     no|     no|     no|      0.7|           96|  32|      4|      ?|       no| LIVE|    0.0|        0.0|           0.0|        0.0|        0.0|         0.0|          0.0|           0.0|                0.0|        0.0|        0.0|        0.0|          1.0|             83.0|    69.0|        0.0|        0.0|          0.0|   0.0|\n",
            "+---+------+-------+----------+-------+-------+--------+---------+----------+---------------+-------+-------+-------+---------+-------------+----+-------+-------+---------+-----+-------+-----------+--------------+-----------+-----------+------------+-------------+--------------+-------------------+-----------+-----------+-----------+-------------+-----------------+--------+-----------+-----------+-------------+------+\n",
            "only showing top 3 rows\n",
            "\n"
          ]
        }
      ]
    },
    {
      "cell_type": "code",
      "source": [
        "df.columns"
      ],
      "metadata": {
        "colab": {
          "base_uri": "https://localhost:8080/"
        },
        "id": "7J8Elo2ZZxYJ",
        "outputId": "06a43a6c-95b0-4b65-874d-7094b2f06e9d"
      },
      "execution_count": 45,
      "outputs": [
        {
          "output_type": "execute_result",
          "data": {
            "text/plain": [
              "['AGE',\n",
              " 'SEX',\n",
              " 'STEROID',\n",
              " 'ANTIVIRALS',\n",
              " 'FATIGUE',\n",
              " 'MALAISE',\n",
              " 'ANOREXIA',\n",
              " 'LIVER_BIG',\n",
              " 'LIVER_FIRM',\n",
              " 'SPLEEN_PALPABLE',\n",
              " 'SPIDERS',\n",
              " 'ASCITES',\n",
              " 'VARICES',\n",
              " 'BILIRUBIN',\n",
              " 'ALK_PHOSPHATE',\n",
              " 'SGOT',\n",
              " 'ALBUMIN',\n",
              " 'PROTIME',\n",
              " 'HISTOLOGY',\n",
              " 'Class',\n",
              " 'SEX_idx',\n",
              " 'STEROID_idx',\n",
              " 'ANTIVIRALS_idx',\n",
              " 'FATIGUE_idx',\n",
              " 'MALAISE_idx',\n",
              " 'ANOREXIA_idx',\n",
              " 'LIVER_BIG_idx',\n",
              " 'LIVER_FIRM_idx',\n",
              " 'SPLEEN_PALPABLE_idx',\n",
              " 'SPIDERS_idx',\n",
              " 'ASCITES_idx',\n",
              " 'VARICES_idx',\n",
              " 'BILIRUBIN_idx',\n",
              " 'ALK_PHOSPHATE_idx',\n",
              " 'SGOT_idx',\n",
              " 'ALBUMIN_idx',\n",
              " 'PROTIME_idx',\n",
              " 'HISTOLOGY_idx',\n",
              " 'TARGET']"
            ]
          },
          "metadata": {},
          "execution_count": 45
        }
      ]
    },
    {
      "cell_type": "code",
      "source": [
        "df2 = df.select(\n",
        "    'AGE',\n",
        "    'SEX_idx',\n",
        "    'STEROID_idx',\n",
        "    'ANTIVIRALS_idx',\n",
        "    'FATIGUE_idx',\n",
        "    'MALAISE_idx',\n",
        "    'ANOREXIA_idx',\n",
        "    'LIVER_BIG_idx',\n",
        "    'LIVER_FIRM_idx',\n",
        "    'SPLEEN_PALPABLE_idx',\n",
        "    'SPIDERS_idx',\n",
        "    'ASCITES_idx',\n",
        "    'VARICES_idx',\n",
        "    'BILIRUBIN_idx',\n",
        "    'ALK_PHOSPHATE_idx',\n",
        "    'SGOT_idx',\n",
        "    'ALBUMIN_idx',\n",
        "    'PROTIME_idx',\n",
        "    'HISTOLOGY_idx',\n",
        "    'TARGET'\n",
        ")"
      ],
      "metadata": {
        "id": "K2Nabca5WnoC"
      },
      "execution_count": 46,
      "outputs": []
    },
    {
      "cell_type": "code",
      "source": [
        "df2.show()"
      ],
      "metadata": {
        "colab": {
          "base_uri": "https://localhost:8080/"
        },
        "id": "N088k6FYWnnH",
        "outputId": "31ae5464-bd15-436c-e254-4b9f2bf719ea"
      },
      "execution_count": 47,
      "outputs": [
        {
          "output_type": "stream",
          "name": "stdout",
          "text": [
            "+---+-------+-----------+--------------+-----------+-----------+------------+-------------+--------------+-------------------+-----------+-----------+-----------+-------------+-----------------+--------+-----------+-----------+-------------+------+\n",
            "|AGE|SEX_idx|STEROID_idx|ANTIVIRALS_idx|FATIGUE_idx|MALAISE_idx|ANOREXIA_idx|LIVER_BIG_idx|LIVER_FIRM_idx|SPLEEN_PALPABLE_idx|SPIDERS_idx|ASCITES_idx|VARICES_idx|BILIRUBIN_idx|ALK_PHOSPHATE_idx|SGOT_idx|ALBUMIN_idx|PROTIME_idx|HISTOLOGY_idx|TARGET|\n",
            "+---+-------+-----------+--------------+-----------+-----------+------------+-------------+--------------+-------------------+-----------+-----------+-----------+-------------+-----------------+--------+-----------+-----------+-------------+------+\n",
            "| 30|    1.0|        1.0|           0.0|        1.0|        0.0|         0.0|          1.0|           0.0|                0.0|        0.0|        0.0|        0.0|          0.0|              1.0|     5.0|        0.0|        0.0|          0.0|   0.0|\n",
            "| 50|    0.0|        1.0|           0.0|        0.0|        0.0|         0.0|          1.0|           0.0|                0.0|        0.0|        0.0|        0.0|          2.0|              5.0|    28.0|        9.0|        0.0|          0.0|   0.0|\n",
            "| 78|    0.0|        0.0|           0.0|        0.0|        0.0|         0.0|          0.0|           0.0|                0.0|        0.0|        0.0|        0.0|          1.0|             83.0|    69.0|        0.0|        0.0|          0.0|   0.0|\n",
            "| 31|    0.0|        2.0|           1.0|        1.0|        0.0|         0.0|          0.0|           0.0|                0.0|        0.0|        0.0|        0.0|          1.0|             13.0|    31.0|        0.0|       43.0|          0.0|   0.0|\n",
            "| 34|    0.0|        0.0|           0.0|        1.0|        0.0|         0.0|          0.0|           0.0|                0.0|        0.0|        0.0|        0.0|          0.0|              0.0|    58.0|        0.0|        0.0|          0.0|   0.0|\n",
            "| 34|    0.0|        0.0|           0.0|        1.0|        0.0|         0.0|          0.0|           0.0|                0.0|        0.0|        0.0|        0.0|          2.0|             19.0|     2.0|        0.0|       39.0|          0.0|   0.0|\n",
            "| 51|    0.0|        1.0|           0.0|        0.0|        0.0|         1.0|          0.0|           0.0|                1.0|        1.0|        0.0|        0.0|          8.0|              0.0|     7.0|        1.0|        0.0|          0.0|   1.0|\n",
            "| 23|    0.0|        0.0|           0.0|        1.0|        0.0|         0.0|          0.0|           0.0|                0.0|        0.0|        0.0|        0.0|          0.0|              0.0|     7.0|        1.0|        0.0|          0.0|   0.0|\n",
            "| 39|    0.0|        0.0|           0.0|        0.0|        0.0|         0.0|          0.0|           1.0|                0.0|        0.0|        0.0|        0.0|          1.0|              0.0|    12.0|        4.0|        0.0|          0.0|   0.0|\n",
            "| 30|    0.0|        0.0|           0.0|        1.0|        0.0|         0.0|          0.0|           0.0|                0.0|        0.0|        0.0|        0.0|          0.0|              0.0|    18.0|        5.0|        0.0|          0.0|   0.0|\n",
            "| 39|    0.0|        1.0|           1.0|        1.0|        0.0|         0.0|          1.0|           1.0|                0.0|        0.0|        0.0|        0.0|          7.0|              7.0|     3.0|        4.0|        5.0|          0.0|   0.0|\n",
            "| 32|    0.0|        0.0|           1.0|        0.0|        0.0|         0.0|          0.0|           1.0|                0.0|        1.0|        0.0|        0.0|          0.0|             70.0|    64.0|       18.0|        9.0|          0.0|   0.0|\n",
            "| 41|    0.0|        0.0|           1.0|        0.0|        0.0|         0.0|          0.0|           1.0|                0.0|        0.0|        0.0|        0.0|          2.0|              3.0|     1.0|        5.0|        8.0|          0.0|   0.0|\n",
            "| 30|    0.0|        0.0|           0.0|        0.0|        0.0|         0.0|          0.0|           1.0|                0.0|        0.0|        0.0|        0.0|         23.0|             68.0|    47.0|       22.0|       42.0|          0.0|   0.0|\n",
            "| 47|    0.0|        1.0|           1.0|        1.0|        0.0|         0.0|          0.0|           0.0|                0.0|        0.0|        0.0|        0.0|          8.0|              0.0|     1.0|        1.0|        0.0|          0.0|   0.0|\n",
            "| 38|    0.0|        1.0|           0.0|        0.0|        1.0|         1.0|          0.0|           0.0|                0.0|        0.0|        1.0|        0.0|          9.0|             15.0|    83.0|       10.0|        2.0|          0.0|   0.0|\n",
            "| 66|    0.0|        0.0|           0.0|        0.0|        0.0|         0.0|          0.0|           0.0|                0.0|        0.0|        0.0|        0.0|          5.0|              8.0|    13.0|        7.0|        0.0|          0.0|   0.0|\n",
            "| 40|    0.0|        1.0|           0.0|        0.0|        0.0|         0.0|          0.0|           1.0|                0.0|        0.0|        0.0|        0.0|          3.0|              2.0|    54.0|        0.0|       18.0|          0.0|   0.0|\n",
            "| 38|    0.0|        0.0|           0.0|        1.0|        0.0|         0.0|          0.0|           0.0|                0.0|        0.0|        0.0|        0.0|          1.0|             65.0|    28.0|        6.0|        5.0|          1.0|   0.0|\n",
            "| 38|    0.0|        1.0|           1.0|        1.0|        0.0|         0.0|          1.0|           1.0|                0.0|        0.0|        0.0|        0.0|          1.0|             14.0|     2.0|        2.0|       17.0|          0.0|   0.0|\n",
            "+---+-------+-----------+--------------+-----------+-----------+------------+-------------+--------------+-------------------+-----------+-----------+-----------+-------------+-----------------+--------+-----------+-----------+-------------+------+\n",
            "only showing top 20 rows\n",
            "\n"
          ]
        }
      ]
    },
    {
      "cell_type": "code",
      "source": [
        "df2.printSchema()"
      ],
      "metadata": {
        "colab": {
          "base_uri": "https://localhost:8080/"
        },
        "id": "go3O8rIDWng0",
        "outputId": "1872271d-23ab-44d4-ee92-2c33d4ffaef8"
      },
      "execution_count": 48,
      "outputs": [
        {
          "output_type": "stream",
          "name": "stdout",
          "text": [
            "root\n",
            " |-- AGE: integer (nullable = true)\n",
            " |-- SEX_idx: double (nullable = false)\n",
            " |-- STEROID_idx: double (nullable = false)\n",
            " |-- ANTIVIRALS_idx: double (nullable = false)\n",
            " |-- FATIGUE_idx: double (nullable = false)\n",
            " |-- MALAISE_idx: double (nullable = false)\n",
            " |-- ANOREXIA_idx: double (nullable = false)\n",
            " |-- LIVER_BIG_idx: double (nullable = false)\n",
            " |-- LIVER_FIRM_idx: double (nullable = false)\n",
            " |-- SPLEEN_PALPABLE_idx: double (nullable = false)\n",
            " |-- SPIDERS_idx: double (nullable = false)\n",
            " |-- ASCITES_idx: double (nullable = false)\n",
            " |-- VARICES_idx: double (nullable = false)\n",
            " |-- BILIRUBIN_idx: double (nullable = false)\n",
            " |-- ALK_PHOSPHATE_idx: double (nullable = false)\n",
            " |-- SGOT_idx: double (nullable = false)\n",
            " |-- ALBUMIN_idx: double (nullable = false)\n",
            " |-- PROTIME_idx: double (nullable = false)\n",
            " |-- HISTOLOGY_idx: double (nullable = false)\n",
            " |-- TARGET: double (nullable = false)\n",
            "\n"
          ]
        }
      ]
    },
    {
      "cell_type": "code",
      "execution_count": 49,
      "metadata": {
        "id": "uQkXZCJbReaX"
      },
      "outputs": [],
      "source": [
        "df2 = df2.toPandas().replace(\n",
        "    to_replace='NA', value=0\n",
        ").astype(float)"
      ]
    },
    {
      "cell_type": "code",
      "execution_count": 50,
      "metadata": {
        "id": "VTXsfWiMReQb",
        "colab": {
          "base_uri": "https://localhost:8080/"
        },
        "outputId": "fd96b56e-2067-427a-d0b9-0f92721acfb6"
      },
      "outputs": [
        {
          "output_type": "execute_result",
          "data": {
            "text/plain": [
              "pandas.core.frame.DataFrame"
            ]
          },
          "metadata": {},
          "execution_count": 50
        }
      ],
      "source": [
        "type(df2)"
      ]
    },
    {
      "cell_type": "code",
      "source": [
        "df_spark = spark_session.createDataFrame(\n",
        "    data=df2\n",
        ")"
      ],
      "metadata": {
        "id": "u1Hrk_8manKp"
      },
      "execution_count": 51,
      "outputs": []
    },
    {
      "cell_type": "code",
      "source": [
        "type(df_spark)"
      ],
      "metadata": {
        "colab": {
          "base_uri": "https://localhost:8080/"
        },
        "id": "5heu12vyanJu",
        "outputId": "f57f6c7d-4569-4f39-e1e4-ca77421b639b"
      },
      "execution_count": 52,
      "outputs": [
        {
          "output_type": "execute_result",
          "data": {
            "text/plain": [
              "pyspark.sql.dataframe.DataFrame"
            ]
          },
          "metadata": {},
          "execution_count": 52
        }
      ]
    },
    {
      "cell_type": "code",
      "source": [
        "df_spark.show(n=5)"
      ],
      "metadata": {
        "colab": {
          "base_uri": "https://localhost:8080/"
        },
        "id": "701P-OiHanDy",
        "outputId": "3248db4d-3551-4109-fac7-331a6da0b622"
      },
      "execution_count": 53,
      "outputs": [
        {
          "output_type": "stream",
          "name": "stdout",
          "text": [
            "+----+-------+-----------+--------------+-----------+-----------+------------+-------------+--------------+-------------------+-----------+-----------+-----------+-------------+-----------------+--------+-----------+-----------+-------------+------+\n",
            "| AGE|SEX_idx|STEROID_idx|ANTIVIRALS_idx|FATIGUE_idx|MALAISE_idx|ANOREXIA_idx|LIVER_BIG_idx|LIVER_FIRM_idx|SPLEEN_PALPABLE_idx|SPIDERS_idx|ASCITES_idx|VARICES_idx|BILIRUBIN_idx|ALK_PHOSPHATE_idx|SGOT_idx|ALBUMIN_idx|PROTIME_idx|HISTOLOGY_idx|TARGET|\n",
            "+----+-------+-----------+--------------+-----------+-----------+------------+-------------+--------------+-------------------+-----------+-----------+-----------+-------------+-----------------+--------+-----------+-----------+-------------+------+\n",
            "|30.0|    1.0|        1.0|           0.0|        1.0|        0.0|         0.0|          1.0|           0.0|                0.0|        0.0|        0.0|        0.0|          0.0|              1.0|     5.0|        0.0|        0.0|          0.0|   0.0|\n",
            "|50.0|    0.0|        1.0|           0.0|        0.0|        0.0|         0.0|          1.0|           0.0|                0.0|        0.0|        0.0|        0.0|          2.0|              5.0|    28.0|        9.0|        0.0|          0.0|   0.0|\n",
            "|78.0|    0.0|        0.0|           0.0|        0.0|        0.0|         0.0|          0.0|           0.0|                0.0|        0.0|        0.0|        0.0|          1.0|             83.0|    69.0|        0.0|        0.0|          0.0|   0.0|\n",
            "|31.0|    0.0|        2.0|           1.0|        1.0|        0.0|         0.0|          0.0|           0.0|                0.0|        0.0|        0.0|        0.0|          1.0|             13.0|    31.0|        0.0|       43.0|          0.0|   0.0|\n",
            "|34.0|    0.0|        0.0|           0.0|        1.0|        0.0|         0.0|          0.0|           0.0|                0.0|        0.0|        0.0|        0.0|          0.0|              0.0|    58.0|        0.0|        0.0|          0.0|   0.0|\n",
            "+----+-------+-----------+--------------+-----------+-----------+------------+-------------+--------------+-------------------+-----------+-----------+-----------+-------------+-----------------+--------+-----------+-----------+-------------+------+\n",
            "only showing top 5 rows\n",
            "\n"
          ]
        }
      ]
    },
    {
      "cell_type": "code",
      "source": [
        "df_spark.printSchema()"
      ],
      "metadata": {
        "colab": {
          "base_uri": "https://localhost:8080/"
        },
        "id": "vaCBrv32anCv",
        "outputId": "7d35c4ba-dcec-439b-fb75-b0b591241e49"
      },
      "execution_count": 54,
      "outputs": [
        {
          "output_type": "stream",
          "name": "stdout",
          "text": [
            "root\n",
            " |-- AGE: double (nullable = true)\n",
            " |-- SEX_idx: double (nullable = true)\n",
            " |-- STEROID_idx: double (nullable = true)\n",
            " |-- ANTIVIRALS_idx: double (nullable = true)\n",
            " |-- FATIGUE_idx: double (nullable = true)\n",
            " |-- MALAISE_idx: double (nullable = true)\n",
            " |-- ANOREXIA_idx: double (nullable = true)\n",
            " |-- LIVER_BIG_idx: double (nullable = true)\n",
            " |-- LIVER_FIRM_idx: double (nullable = true)\n",
            " |-- SPLEEN_PALPABLE_idx: double (nullable = true)\n",
            " |-- SPIDERS_idx: double (nullable = true)\n",
            " |-- ASCITES_idx: double (nullable = true)\n",
            " |-- VARICES_idx: double (nullable = true)\n",
            " |-- BILIRUBIN_idx: double (nullable = true)\n",
            " |-- ALK_PHOSPHATE_idx: double (nullable = true)\n",
            " |-- SGOT_idx: double (nullable = true)\n",
            " |-- ALBUMIN_idx: double (nullable = true)\n",
            " |-- PROTIME_idx: double (nullable = true)\n",
            " |-- HISTOLOGY_idx: double (nullable = true)\n",
            " |-- TARGET: double (nullable = true)\n",
            "\n"
          ]
        }
      ]
    },
    {
      "cell_type": "code",
      "source": [
        "df_spark.columns"
      ],
      "metadata": {
        "colab": {
          "base_uri": "https://localhost:8080/"
        },
        "id": "4D7sr4ldcgVE",
        "outputId": "2ebe339c-11e3-48d8-edf2-443e703e87c5"
      },
      "execution_count": 55,
      "outputs": [
        {
          "output_type": "execute_result",
          "data": {
            "text/plain": [
              "['AGE',\n",
              " 'SEX_idx',\n",
              " 'STEROID_idx',\n",
              " 'ANTIVIRALS_idx',\n",
              " 'FATIGUE_idx',\n",
              " 'MALAISE_idx',\n",
              " 'ANOREXIA_idx',\n",
              " 'LIVER_BIG_idx',\n",
              " 'LIVER_FIRM_idx',\n",
              " 'SPLEEN_PALPABLE_idx',\n",
              " 'SPIDERS_idx',\n",
              " 'ASCITES_idx',\n",
              " 'VARICES_idx',\n",
              " 'BILIRUBIN_idx',\n",
              " 'ALK_PHOSPHATE_idx',\n",
              " 'SGOT_idx',\n",
              " 'ALBUMIN_idx',\n",
              " 'PROTIME_idx',\n",
              " 'HISTOLOGY_idx',\n",
              " 'TARGET']"
            ]
          },
          "metadata": {},
          "execution_count": 55
        }
      ]
    },
    {
      "cell_type": "code",
      "source": [
        "features = [\n",
        "    'AGE',\n",
        "    'SEX_idx',\n",
        "    'STEROID_idx',\n",
        "    'ANTIVIRALS_idx',\n",
        "    'FATIGUE_idx',\n",
        "    'MALAISE_idx',\n",
        "    'ANOREXIA_idx',\n",
        "    'LIVER_BIG_idx',\n",
        "    'LIVER_FIRM_idx',\n",
        "    'SPLEEN_PALPABLE_idx',\n",
        "    'SPIDERS_idx',\n",
        "    'ASCITES_idx',\n",
        "    'VARICES_idx',\n",
        "    'BILIRUBIN_idx',\n",
        "    'ALK_PHOSPHATE_idx',\n",
        "    'SGOT_idx',\n",
        "    'ALBUMIN_idx',\n",
        "    'PROTIME_idx',\n",
        "    'HISTOLOGY_idx',\n",
        "    'TARGET'\n",
        "]"
      ],
      "metadata": {
        "id": "kkV_8OFiam9j"
      },
      "execution_count": 56,
      "outputs": []
    },
    {
      "cell_type": "code",
      "source": [
        "vector = VectorAssembler(\n",
        "    inputCols=features,\n",
        "    outputCol='input_features'\n",
        ")"
      ],
      "metadata": {
        "id": "ZECOZTTKb9PI"
      },
      "execution_count": 57,
      "outputs": []
    },
    {
      "cell_type": "code",
      "source": [
        "vector_df = vector.transform(df_spark)"
      ],
      "metadata": {
        "id": "V7zImPU9b9OE"
      },
      "execution_count": 58,
      "outputs": []
    },
    {
      "cell_type": "code",
      "source": [
        "vector_df.show(n=5)"
      ],
      "metadata": {
        "colab": {
          "base_uri": "https://localhost:8080/"
        },
        "id": "WAsPHw8Bb9Ho",
        "outputId": "9491ed38-4d47-4ec4-a143-4c470305c5a0"
      },
      "execution_count": 59,
      "outputs": [
        {
          "output_type": "stream",
          "name": "stdout",
          "text": [
            "+----+-------+-----------+--------------+-----------+-----------+------------+-------------+--------------+-------------------+-----------+-----------+-----------+-------------+-----------------+--------+-----------+-----------+-------------+------+--------------------+\n",
            "| AGE|SEX_idx|STEROID_idx|ANTIVIRALS_idx|FATIGUE_idx|MALAISE_idx|ANOREXIA_idx|LIVER_BIG_idx|LIVER_FIRM_idx|SPLEEN_PALPABLE_idx|SPIDERS_idx|ASCITES_idx|VARICES_idx|BILIRUBIN_idx|ALK_PHOSPHATE_idx|SGOT_idx|ALBUMIN_idx|PROTIME_idx|HISTOLOGY_idx|TARGET|      input_features|\n",
            "+----+-------+-----------+--------------+-----------+-----------+------------+-------------+--------------+-------------------+-----------+-----------+-----------+-------------+-----------------+--------+-----------+-----------+-------------+------+--------------------+\n",
            "|30.0|    1.0|        1.0|           0.0|        1.0|        0.0|         0.0|          1.0|           0.0|                0.0|        0.0|        0.0|        0.0|          0.0|              1.0|     5.0|        0.0|        0.0|          0.0|   0.0|(20,[0,1,2,4,7,14...|\n",
            "|50.0|    0.0|        1.0|           0.0|        0.0|        0.0|         0.0|          1.0|           0.0|                0.0|        0.0|        0.0|        0.0|          2.0|              5.0|    28.0|        9.0|        0.0|          0.0|   0.0|(20,[0,2,7,13,14,...|\n",
            "|78.0|    0.0|        0.0|           0.0|        0.0|        0.0|         0.0|          0.0|           0.0|                0.0|        0.0|        0.0|        0.0|          1.0|             83.0|    69.0|        0.0|        0.0|          0.0|   0.0|(20,[0,13,14,15],...|\n",
            "|31.0|    0.0|        2.0|           1.0|        1.0|        0.0|         0.0|          0.0|           0.0|                0.0|        0.0|        0.0|        0.0|          1.0|             13.0|    31.0|        0.0|       43.0|          0.0|   0.0|(20,[0,2,3,4,13,1...|\n",
            "|34.0|    0.0|        0.0|           0.0|        1.0|        0.0|         0.0|          0.0|           0.0|                0.0|        0.0|        0.0|        0.0|          0.0|              0.0|    58.0|        0.0|        0.0|          0.0|   0.0|(20,[0,4,15],[34....|\n",
            "+----+-------+-----------+--------------+-----------+-----------+------------+-------------+--------------+-------------------+-----------+-----------+-----------+-------------+-----------------+--------+-----------+-----------+-------------+------+--------------------+\n",
            "only showing top 5 rows\n",
            "\n"
          ]
        }
      ]
    },
    {
      "cell_type": "code",
      "source": [
        "(train_data, val_data) = vector_df.randomSplit(\n",
        "    weights=[0.80, 0.20],\n",
        "    seed=1522\n",
        ")"
      ],
      "metadata": {
        "id": "zXucFy8Wb9Gr"
      },
      "execution_count": 63,
      "outputs": []
    },
    {
      "cell_type": "code",
      "source": [
        "train_data.count(), val_data.count()"
      ],
      "metadata": {
        "colab": {
          "base_uri": "https://localhost:8080/"
        },
        "id": "6L0CqewOb9Bg",
        "outputId": "c3c4c426-28ba-46c2-df09-5a69c97d074e"
      },
      "execution_count": 64,
      "outputs": [
        {
          "output_type": "execute_result",
          "data": {
            "text/plain": [
              "(120, 35)"
            ]
          },
          "metadata": {},
          "execution_count": 64
        }
      ]
    },
    {
      "cell_type": "code",
      "source": [
        "train_data.show(n=5)"
      ],
      "metadata": {
        "colab": {
          "base_uri": "https://localhost:8080/"
        },
        "id": "KkOokBq-b9Am",
        "outputId": "fc117029-3abf-41f0-d78b-daa00054f3e9"
      },
      "execution_count": 65,
      "outputs": [
        {
          "output_type": "stream",
          "name": "stdout",
          "text": [
            "+----+-------+-----------+--------------+-----------+-----------+------------+-------------+--------------+-------------------+-----------+-----------+-----------+-------------+-----------------+--------+-----------+-----------+-------------+------+--------------------+\n",
            "| AGE|SEX_idx|STEROID_idx|ANTIVIRALS_idx|FATIGUE_idx|MALAISE_idx|ANOREXIA_idx|LIVER_BIG_idx|LIVER_FIRM_idx|SPLEEN_PALPABLE_idx|SPIDERS_idx|ASCITES_idx|VARICES_idx|BILIRUBIN_idx|ALK_PHOSPHATE_idx|SGOT_idx|ALBUMIN_idx|PROTIME_idx|HISTOLOGY_idx|TARGET|      input_features|\n",
            "+----+-------+-----------+--------------+-----------+-----------+------------+-------------+--------------+-------------------+-----------+-----------+-----------+-------------+-----------------+--------+-----------+-----------+-------------+------+--------------------+\n",
            "|20.0|    1.0|        1.0|           0.0|        0.0|        1.0|         1.0|          1.0|           1.0|                1.0|        1.0|        0.0|        0.0|         13.0|             37.0|    16.0|        5.0|        0.0|          0.0|   0.0|[20.0,1.0,1.0,0.0...|\n",
            "|22.0|    1.0|        0.0|           1.0|        0.0|        0.0|         0.0|          0.0|           0.0|                0.0|        0.0|        0.0|        0.0|          2.0|             62.0|     0.0|        2.0|       37.0|          0.0|   0.0|(20,[0,1,3,13,14,...|\n",
            "|23.0|    0.0|        0.0|           0.0|        0.0|        1.0|         1.0|          0.0|           0.0|                1.0|        0.0|        0.0|        0.0|          7.0|             50.0|    50.0|        6.0|       11.0|          0.0|   0.0|(20,[0,5,6,9,13,1...|\n",
            "|23.0|    0.0|        0.0|           0.0|        1.0|        0.0|         0.0|          0.0|           0.0|                0.0|        0.0|        0.0|        0.0|          0.0|              0.0|     7.0|        1.0|        0.0|          0.0|   0.0|(20,[0,4,15,16],[...|\n",
            "|23.0|    0.0|        0.0|           0.0|        1.0|        0.0|         0.0|          2.0|           2.0|                2.0|        2.0|        2.0|        2.0|         10.0|             67.0|    21.0|       21.0|        0.0|          0.0|   0.0|(20,[0,4,7,8,9,10...|\n",
            "+----+-------+-----------+--------------+-----------+-----------+------------+-------------+--------------+-------------------+-----------+-----------+-----------+-------------+-----------------+--------+-----------+-----------+-------------+------+--------------------+\n",
            "only showing top 5 rows\n",
            "\n"
          ]
        }
      ]
    },
    {
      "cell_type": "code",
      "source": [
        "from pyspark.ml.classification import (LogisticRegression, \n",
        "                                       DecisionTreeClassifier,\n",
        "                                       RandomForestClassifier, \n",
        "                                       NaiveBayes)"
      ],
      "metadata": {
        "id": "dyY8CTl_b8-U"
      },
      "execution_count": 66,
      "outputs": []
    },
    {
      "cell_type": "code",
      "source": [
        "train_data.columns"
      ],
      "metadata": {
        "colab": {
          "base_uri": "https://localhost:8080/"
        },
        "id": "6mEE69FFb87a",
        "outputId": "44a622f3-a6b1-4450-9642-94b46f43ea53"
      },
      "execution_count": 67,
      "outputs": [
        {
          "output_type": "execute_result",
          "data": {
            "text/plain": [
              "['AGE',\n",
              " 'SEX_idx',\n",
              " 'STEROID_idx',\n",
              " 'ANTIVIRALS_idx',\n",
              " 'FATIGUE_idx',\n",
              " 'MALAISE_idx',\n",
              " 'ANOREXIA_idx',\n",
              " 'LIVER_BIG_idx',\n",
              " 'LIVER_FIRM_idx',\n",
              " 'SPLEEN_PALPABLE_idx',\n",
              " 'SPIDERS_idx',\n",
              " 'ASCITES_idx',\n",
              " 'VARICES_idx',\n",
              " 'BILIRUBIN_idx',\n",
              " 'ALK_PHOSPHATE_idx',\n",
              " 'SGOT_idx',\n",
              " 'ALBUMIN_idx',\n",
              " 'PROTIME_idx',\n",
              " 'HISTOLOGY_idx',\n",
              " 'TARGET',\n",
              " 'input_features']"
            ]
          },
          "metadata": {},
          "execution_count": 67
        }
      ]
    },
    {
      "cell_type": "code",
      "source": [
        "mdl_logReg = LogisticRegression(\n",
        "    featuresCol='input_features',\n",
        "    labelCol='TARGET'\n",
        ")\n",
        "\n",
        "mdl_decTree = DecisionTreeClassifier(\n",
        "    featuresCol='input_features',\n",
        "    labelCol='TARGET'\n",
        ")\n",
        "\n",
        "mdl_randFor = RandomForestClassifier(\n",
        "    featuresCol='input_features',\n",
        "    labelCol='TARGET'\n",
        ")\n",
        "\n",
        "mdl_nBayes = NaiveBayes(\n",
        "    featuresCol='input_features',\n",
        "    labelCol='TARGET'\n",
        ")"
      ],
      "metadata": {
        "id": "3ibVHbxib8zV"
      },
      "execution_count": 68,
      "outputs": []
    },
    {
      "cell_type": "code",
      "source": [
        "mdl_training_logReg = mdl_logReg.fit(train_data)\n",
        "mdl_training_decTree = mdl_decTree.fit(train_data)\n",
        "mdl_training_randFor = mdl_randFor.fit(train_data)\n",
        "mdl_training_nBayes = mdl_nBayes.fit(train_data)"
      ],
      "metadata": {
        "id": "SqtxFiY3am6O"
      },
      "execution_count": 69,
      "outputs": []
    },
    {
      "cell_type": "code",
      "source": [
        "pred_logReg = mdl_training_logReg.transform(val_data)\n",
        "pred_decTree = mdl_training_decTree.transform(val_data)\n",
        "pred_randFor = mdl_training_randFor.transform(val_data)\n",
        "pred_nBayes = mdl_training_nBayes.transform(val_data)"
      ],
      "metadata": {
        "id": "VWcEkqpVam3I"
      },
      "execution_count": 70,
      "outputs": []
    },
    {
      "cell_type": "code",
      "source": [
        "pred_logReg.show(n=50)"
      ],
      "metadata": {
        "colab": {
          "base_uri": "https://localhost:8080/"
        },
        "id": "T73nMZQIe-po",
        "outputId": "1443b524-9498-4628-f01b-44c468d34d6f"
      },
      "execution_count": 71,
      "outputs": [
        {
          "output_type": "stream",
          "name": "stdout",
          "text": [
            "+----+-------+-----------+--------------+-----------+-----------+------------+-------------+--------------+-------------------+-----------+-----------+-----------+-------------+-----------------+--------+-----------+-----------+-------------+------+--------------------+--------------------+--------------------+----------+\n",
            "| AGE|SEX_idx|STEROID_idx|ANTIVIRALS_idx|FATIGUE_idx|MALAISE_idx|ANOREXIA_idx|LIVER_BIG_idx|LIVER_FIRM_idx|SPLEEN_PALPABLE_idx|SPIDERS_idx|ASCITES_idx|VARICES_idx|BILIRUBIN_idx|ALK_PHOSPHATE_idx|SGOT_idx|ALBUMIN_idx|PROTIME_idx|HISTOLOGY_idx|TARGET|      input_features|       rawPrediction|         probability|prediction|\n",
            "+----+-------+-----------+--------------+-----------+-----------+------------+-------------+--------------+-------------------+-----------+-----------+-----------+-------------+-----------------+--------+-----------+-----------+-------------+------+--------------------+--------------------+--------------------+----------+\n",
            "|24.0|    0.0|        0.0|           0.0|        1.0|        0.0|         0.0|          0.0|           0.0|                0.0|        0.0|        0.0|        0.0|          4.0|             18.0|    70.0|        7.0|        0.0|          0.0|   0.0|(20,[0,4,13,14,15...|[20.2411414761408...|[0.99999999838048...|       0.0|\n",
            "|25.0|    1.0|        1.0|           1.0|        1.0|        0.0|         0.0|          0.0|           0.0|                0.0|        0.0|        0.0|        0.0|         14.0|             61.0|     5.0|        7.0|       20.0|          0.0|   0.0|(20,[0,1,2,3,4,13...|[20.0932058059995...|[0.99999999812227...|       0.0|\n",
            "|30.0|    0.0|        0.0|           0.0|        1.0|        0.0|         0.0|          0.0|           0.0|                0.0|        0.0|        0.0|        0.0|          0.0|              0.0|    18.0|        5.0|        0.0|          0.0|   0.0|(20,[0,4,15,16],[...|[20.1472023969731...|[0.99999999822097...|       0.0|\n",
            "|30.0|    1.0|        1.0|           0.0|        1.0|        0.0|         0.0|          1.0|           0.0|                0.0|        0.0|        0.0|        0.0|          0.0|              1.0|     5.0|        0.0|        0.0|          0.0|   0.0|(20,[0,1,2,4,7,14...|[21.0394949608087...|[0.99999999927110...|       0.0|\n",
            "|31.0|    0.0|        2.0|           1.0|        1.0|        0.0|         0.0|          0.0|           0.0|                0.0|        0.0|        0.0|        0.0|          1.0|             13.0|    31.0|        0.0|       43.0|          0.0|   0.0|(20,[0,2,3,4,13,1...|[19.6487231072844...|[0.99999999707134...|       0.0|\n",
            "|32.0|    0.0|        0.0|           1.0|        0.0|        0.0|         0.0|          0.0|           1.0|                0.0|        1.0|        0.0|        0.0|          0.0|             70.0|    64.0|       18.0|        9.0|          0.0|   0.0|(20,[0,3,8,10,14,...|[19.3874235894077...|[0.99999999619680...|       0.0|\n",
            "|36.0|    0.0|        1.0|           0.0|        0.0|        1.0|         1.0|          0.0|           1.0|                0.0|        0.0|        0.0|        0.0|          0.0|              0.0|    29.0|        0.0|       10.0|          0.0|   0.0|(20,[0,2,5,6,8,15...|[19.4205928607977...|[0.99999999632088...|       0.0|\n",
            "|36.0|    0.0|        1.0|           0.0|        1.0|        0.0|         0.0|          0.0|           0.0|                1.0|        0.0|        0.0|        0.0|          4.0|              1.0|    11.0|        2.0|        5.0|          0.0|   0.0|(20,[0,2,4,9,13,1...|[19.4702928938569...|[0.99999999649926...|       0.0|\n",
            "|37.0|    0.0|        0.0|           0.0|        0.0|        0.0|         0.0|          0.0|           0.0|                0.0|        1.0|        0.0|        0.0|          3.0|             74.0|     2.0|        2.0|        0.0|          0.0|   1.0|(20,[0,10,13,14,1...|[-18.014097795649...|[1.50167767526572...|       1.0|\n",
            "|37.0|    0.0|        1.0|           0.0|        1.0|        0.0|         0.0|          0.0|           1.0|                0.0|        1.0|        0.0|        0.0|          3.0|             17.0|    33.0|        3.0|        0.0|          0.0|   0.0|(20,[0,2,4,8,10,1...|[19.4816472346658...|[0.99999999653878...|       0.0|\n",
            "|42.0|    0.0|        1.0|           0.0|        1.0|        0.0|         0.0|          0.0|           0.0|                0.0|        0.0|        0.0|        0.0|          0.0|              1.0|    19.0|        0.0|        1.0|          0.0|   0.0|(20,[0,2,4,14,15,...|[19.7466043112288...|[0.99999999734442...|       0.0|\n",
            "|51.0|    0.0|        1.0|           1.0|        0.0|        1.0|         0.0|          0.0|           0.0|                0.0|        0.0|        0.0|        0.0|          0.0|              7.0|    14.0|       21.0|        8.0|          0.0|   0.0|(20,[0,2,3,5,14,1...|[18.7086317015721...|[0.99999999250201...|       0.0|\n",
            "|65.0|    0.0|        0.0|           0.0|        0.0|        1.0|         0.0|          0.0|           1.0|                1.0|        1.0|        1.0|        0.0|         19.0|             47.0|    13.0|       10.0|        4.0|          1.0|   0.0|(20,[0,5,8,9,10,1...|[16.5694671052895...|[0.99999993632457...|       0.0|\n",
            "|28.0|    0.0|        0.0|           0.0|        0.0|        1.0|         1.0|          2.0|           2.0|                0.0|        1.0|        1.0|        0.0|          0.0|              0.0|     0.0|        0.0|        0.0|          1.0|   0.0|(20,[0,5,6,7,8,10...|[18.9186638850117...|[0.99999999392244...|       0.0|\n",
            "|28.0|    0.0|        0.0|           0.0|        1.0|        0.0|         0.0|          0.0|           0.0|                0.0|        0.0|        0.0|        0.0|          1.0|              1.0|     9.0|       22.0|        0.0|          0.0|   0.0|(20,[0,4,13,14,15...|[19.9661776685979...|[0.99999999786794...|       0.0|\n",
            "|36.0|    0.0|        0.0|           0.0|        1.0|        0.0|         0.0|          0.0|           0.0|                0.0|        0.0|        0.0|        0.0|          3.0|              9.0|     3.0|        0.0|        0.0|          1.0|   0.0|(20,[0,4,13,14,15...|[19.2703592736943...|[0.99999999572447...|       0.0|\n",
            "|36.0|    0.0|        1.0|           0.0|        0.0|        1.0|         1.0|          1.0|           1.0|                0.0|        1.0|        0.0|        1.0|         12.0|             56.0|     1.0|       15.0|        0.0|          1.0|   0.0|[36.0,0.0,1.0,0.0...|[18.2680566505124...|[0.99999998835113...|       0.0|\n",
            "|38.0|    0.0|        1.0|           0.0|        0.0|        1.0|         1.0|          0.0|           1.0|                0.0|        1.0|        1.0|        1.0|          5.0|             26.0|    21.0|       16.0|        0.0|          1.0|   1.0|[38.0,0.0,1.0,0.0...|[-18.565045345140...|[8.65572094411123...|       1.0|\n",
            "|42.0|    0.0|        1.0|           1.0|        0.0|        1.0|         0.0|          0.0|           0.0|                0.0|        1.0|        0.0|        0.0|         15.0|              2.0|    16.0|        3.0|       12.0|          1.0|   1.0|(20,[0,2,3,5,10,1...|[-19.481212711268...|[3.46271554976283...|       1.0|\n",
            "|43.0|    0.0|        0.0|           0.0|        0.0|        0.0|         0.0|          0.0|           0.0|                1.0|        1.0|        1.0|        0.0|          5.0|              4.0|    22.0|       17.0|       31.0|          1.0|   1.0|(20,[0,9,10,11,13...|[-19.005555840330...|[5.57175447593266...|       1.0|\n",
            "|44.0|    0.0|        1.0|           0.0|        0.0|        1.0|         0.0|          0.0|           0.0|                1.0|        0.0|        0.0|        1.0|          2.0|              5.0|     4.0|        1.0|        7.0|          1.0|   1.0|(20,[0,2,5,9,12,1...|[-18.474401645764...|[9.47696561008294...|       1.0|\n",
            "|45.0|    0.0|        0.0|           1.0|        1.0|        0.0|         0.0|          0.0|           0.0|                0.0|        0.0|        0.0|        0.0|          7.0|              1.0|    11.0|        2.0|        5.0|          1.0|   0.0|(20,[0,3,4,13,14,...|[18.9011595532046...|[0.99999999381512...|       0.0|\n",
            "|45.0|    0.0|        1.0|           0.0|        0.0|        1.0|         1.0|          0.0|           0.0|                0.0|        0.0|        0.0|        0.0|         13.0|              0.0|    78.0|        1.0|        0.0|          1.0|   0.0|(20,[0,2,5,6,13,1...|[18.3426585925458...|[0.99999998918853...|       0.0|\n",
            "|47.0|    0.0|        0.0|           0.0|        0.0|        1.0|         0.0|          0.0|           1.0|                0.0|        0.0|        1.0|        1.0|         12.0|             79.0|     0.0|       23.0|        2.0|          1.0|   1.0|(20,[0,5,8,11,12,...|[-19.309233730228...|[4.11250405704101...|       1.0|\n",
            "|48.0|    0.0|        1.0|           0.0|        0.0|        1.0|         0.0|          0.0|           1.0|                0.0|        1.0|        1.0|        1.0|         32.0|             28.0|    20.0|       15.0|        6.0|          1.0|   1.0|[48.0,0.0,1.0,0.0...|[-20.391883163729...|[1.39289271112929...|       1.0|\n",
            "|50.0|    1.0|        1.0|           0.0|        0.0|        0.0|         0.0|          1.0|           1.0|                1.0|        1.0|        0.0|        0.0|          2.0|             51.0|    40.0|       12.0|        7.0|          1.0|   0.0|[50.0,1.0,1.0,0.0...|[19.1247626083356...|[0.99999999505437...|       0.0|\n",
            "|51.0|    0.0|        0.0|           0.0|        1.0|        0.0|         0.0|          1.0|           1.0|                0.0|        1.0|        0.0|        0.0|          4.0|              0.0|    25.0|       13.0|        0.0|          1.0|   0.0|(20,[0,4,7,8,10,1...|[18.7740217843498...|[0.99999999297662...|       0.0|\n",
            "|54.0|    0.0|        0.0|           0.0|        1.0|        0.0|         0.0|          0.0|           0.0|                0.0|        0.0|        0.0|        0.0|          0.0|              1.0|     3.0|       13.0|       22.0|          1.0|   0.0|(20,[0,4,14,15,16...|[18.8917307722375...|[0.99999999375653...|       0.0|\n",
            "|54.0|    0.0|        1.0|           1.0|        1.0|        0.0|         0.0|          1.0|           1.0|                0.0|        0.0|        0.0|        0.0|          0.0|             11.0|    60.0|       20.0|       19.0|          1.0|   0.0|(20,[0,2,3,4,7,8,...|[18.8886959587844...|[0.99999999373756...|       0.0|\n",
            "|56.0|    0.0|        1.0|           0.0|        0.0|        1.0|         1.0|          1.0|           1.0|                0.0|        1.0|        0.0|        0.0|         26.0|             81.0|    52.0|        0.0|        0.0|          1.0|   1.0|(20,[0,2,5,6,7,8,...|[-20.101275162543...|[1.86263224455857...|       1.0|\n",
            "|57.0|    0.0|        1.0|           0.0|        0.0|        1.0|         0.0|          0.0|           0.0|                0.0|        1.0|        1.0|        0.0|         10.0|             18.0|     4.0|        8.0|       25.0|          1.0|   1.0|(20,[0,2,5,10,11,...|[-19.862986286468...|[2.36382140316625...|       1.0|\n",
            "|60.0|    0.0|        1.0|           0.0|        0.0|        0.0|         0.0|          1.0|           1.0|                1.0|        1.0|        0.0|        0.0|          8.0|              0.0|    27.0|        1.0|        0.0|          1.0|   0.0|(20,[0,2,7,8,9,10...|[17.7697342928940...|[0.99999998082645...|       0.0|\n",
            "|61.0|    0.0|        1.0|           0.0|        0.0|        1.0|         0.0|          1.0|           1.0|                0.0|        1.0|        0.0|        0.0|          4.0|              6.0|     0.0|        6.0|        0.0|          1.0|   0.0|(20,[0,2,5,7,8,10...|[17.6821239386992...|[0.99999997907087...|       0.0|\n",
            "|61.0|    0.0|        1.0|           0.0|        0.0|        1.0|         0.0|          2.0|           2.0|                0.0|        1.0|        0.0|        0.0|          8.0|              0.0|     7.0|        1.0|        0.0|          1.0|   1.0|(20,[0,2,5,7,8,10...|[-19.524600542479...|[3.31568848929372...|       1.0|\n",
            "|72.0|    0.0|        0.0|           1.0|        0.0|        0.0|         0.0|          0.0|           1.0|                0.0|        0.0|        0.0|        0.0|          0.0|             25.0|    31.0|       12.0|       14.0|          1.0|   0.0|(20,[0,3,8,14,15,...|[18.1295543315941...|[0.99999998662066...|       0.0|\n",
            "+----+-------+-----------+--------------+-----------+-----------+------------+-------------+--------------+-------------------+-----------+-----------+-----------+-------------+-----------------+--------+-----------+-----------+-------------+------+--------------------+--------------------+--------------------+----------+\n",
            "\n"
          ]
        }
      ]
    },
    {
      "cell_type": "code",
      "source": [
        "pred_logReg.columns"
      ],
      "metadata": {
        "colab": {
          "base_uri": "https://localhost:8080/"
        },
        "id": "kFF42DJsfN97",
        "outputId": "3a2c42dd-4a7a-4e15-d57e-a4332ec4e148"
      },
      "execution_count": 72,
      "outputs": [
        {
          "output_type": "execute_result",
          "data": {
            "text/plain": [
              "['AGE',\n",
              " 'SEX_idx',\n",
              " 'STEROID_idx',\n",
              " 'ANTIVIRALS_idx',\n",
              " 'FATIGUE_idx',\n",
              " 'MALAISE_idx',\n",
              " 'ANOREXIA_idx',\n",
              " 'LIVER_BIG_idx',\n",
              " 'LIVER_FIRM_idx',\n",
              " 'SPLEEN_PALPABLE_idx',\n",
              " 'SPIDERS_idx',\n",
              " 'ASCITES_idx',\n",
              " 'VARICES_idx',\n",
              " 'BILIRUBIN_idx',\n",
              " 'ALK_PHOSPHATE_idx',\n",
              " 'SGOT_idx',\n",
              " 'ALBUMIN_idx',\n",
              " 'PROTIME_idx',\n",
              " 'HISTOLOGY_idx',\n",
              " 'TARGET',\n",
              " 'input_features',\n",
              " 'rawPrediction',\n",
              " 'probability',\n",
              " 'prediction']"
            ]
          },
          "metadata": {},
          "execution_count": 72
        }
      ]
    },
    {
      "cell_type": "code",
      "source": [
        "pred_logReg.select('input_features', 'TARGET',\n",
        "                   'rawPrediction', 'probability', 'prediction').show()"
      ],
      "metadata": {
        "colab": {
          "base_uri": "https://localhost:8080/"
        },
        "id": "hnhReU8me-oM",
        "outputId": "88f0658a-d219-48c9-9948-781f1278f08f"
      },
      "execution_count": 73,
      "outputs": [
        {
          "output_type": "stream",
          "name": "stdout",
          "text": [
            "+--------------------+------+--------------------+--------------------+----------+\n",
            "|      input_features|TARGET|       rawPrediction|         probability|prediction|\n",
            "+--------------------+------+--------------------+--------------------+----------+\n",
            "|(20,[0,4,13,14,15...|   0.0|[20.2411414761408...|[0.99999999838048...|       0.0|\n",
            "|(20,[0,1,2,3,4,13...|   0.0|[20.0932058059995...|[0.99999999812227...|       0.0|\n",
            "|(20,[0,4,15,16],[...|   0.0|[20.1472023969731...|[0.99999999822097...|       0.0|\n",
            "|(20,[0,1,2,4,7,14...|   0.0|[21.0394949608087...|[0.99999999927110...|       0.0|\n",
            "|(20,[0,2,3,4,13,1...|   0.0|[19.6487231072844...|[0.99999999707134...|       0.0|\n",
            "|(20,[0,3,8,10,14,...|   0.0|[19.3874235894077...|[0.99999999619680...|       0.0|\n",
            "|(20,[0,2,5,6,8,15...|   0.0|[19.4205928607977...|[0.99999999632088...|       0.0|\n",
            "|(20,[0,2,4,9,13,1...|   0.0|[19.4702928938569...|[0.99999999649926...|       0.0|\n",
            "|(20,[0,10,13,14,1...|   1.0|[-18.014097795649...|[1.50167767526572...|       1.0|\n",
            "|(20,[0,2,4,8,10,1...|   0.0|[19.4816472346658...|[0.99999999653878...|       0.0|\n",
            "|(20,[0,2,4,14,15,...|   0.0|[19.7466043112288...|[0.99999999734442...|       0.0|\n",
            "|(20,[0,2,3,5,14,1...|   0.0|[18.7086317015721...|[0.99999999250201...|       0.0|\n",
            "|(20,[0,5,8,9,10,1...|   0.0|[16.5694671052895...|[0.99999993632457...|       0.0|\n",
            "|(20,[0,5,6,7,8,10...|   0.0|[18.9186638850117...|[0.99999999392244...|       0.0|\n",
            "|(20,[0,4,13,14,15...|   0.0|[19.9661776685979...|[0.99999999786794...|       0.0|\n",
            "|(20,[0,4,13,14,15...|   0.0|[19.2703592736943...|[0.99999999572447...|       0.0|\n",
            "|[36.0,0.0,1.0,0.0...|   0.0|[18.2680566505124...|[0.99999998835113...|       0.0|\n",
            "|[38.0,0.0,1.0,0.0...|   1.0|[-18.565045345140...|[8.65572094411123...|       1.0|\n",
            "|(20,[0,2,3,5,10,1...|   1.0|[-19.481212711268...|[3.46271554976283...|       1.0|\n",
            "|(20,[0,9,10,11,13...|   1.0|[-19.005555840330...|[5.57175447593266...|       1.0|\n",
            "+--------------------+------+--------------------+--------------------+----------+\n",
            "only showing top 20 rows\n",
            "\n"
          ]
        }
      ]
    },
    {
      "cell_type": "code",
      "source": [
        "pred_decTree.select('input_features', 'TARGET',\n",
        "                    'rawPrediction', 'probability', 'prediction').show()"
      ],
      "metadata": {
        "colab": {
          "base_uri": "https://localhost:8080/"
        },
        "id": "gvauHozCe-jj",
        "outputId": "36a0ea71-2d06-4349-aafe-9deac0a30a82"
      },
      "execution_count": 74,
      "outputs": [
        {
          "output_type": "stream",
          "name": "stdout",
          "text": [
            "+--------------------+------+-------------+-----------+----------+\n",
            "|      input_features|TARGET|rawPrediction|probability|prediction|\n",
            "+--------------------+------+-------------+-----------+----------+\n",
            "|(20,[0,4,13,14,15...|   0.0|   [98.0,0.0]|  [1.0,0.0]|       0.0|\n",
            "|(20,[0,1,2,3,4,13...|   0.0|   [98.0,0.0]|  [1.0,0.0]|       0.0|\n",
            "|(20,[0,4,15,16],[...|   0.0|   [98.0,0.0]|  [1.0,0.0]|       0.0|\n",
            "|(20,[0,1,2,4,7,14...|   0.0|   [98.0,0.0]|  [1.0,0.0]|       0.0|\n",
            "|(20,[0,2,3,4,13,1...|   0.0|   [98.0,0.0]|  [1.0,0.0]|       0.0|\n",
            "|(20,[0,3,8,10,14,...|   0.0|   [98.0,0.0]|  [1.0,0.0]|       0.0|\n",
            "|(20,[0,2,5,6,8,15...|   0.0|   [98.0,0.0]|  [1.0,0.0]|       0.0|\n",
            "|(20,[0,2,4,9,13,1...|   0.0|   [98.0,0.0]|  [1.0,0.0]|       0.0|\n",
            "|(20,[0,10,13,14,1...|   1.0|   [0.0,22.0]|  [0.0,1.0]|       1.0|\n",
            "|(20,[0,2,4,8,10,1...|   0.0|   [98.0,0.0]|  [1.0,0.0]|       0.0|\n",
            "|(20,[0,2,4,14,15,...|   0.0|   [98.0,0.0]|  [1.0,0.0]|       0.0|\n",
            "|(20,[0,2,3,5,14,1...|   0.0|   [98.0,0.0]|  [1.0,0.0]|       0.0|\n",
            "|(20,[0,5,8,9,10,1...|   0.0|   [98.0,0.0]|  [1.0,0.0]|       0.0|\n",
            "|(20,[0,5,6,7,8,10...|   0.0|   [98.0,0.0]|  [1.0,0.0]|       0.0|\n",
            "|(20,[0,4,13,14,15...|   0.0|   [98.0,0.0]|  [1.0,0.0]|       0.0|\n",
            "|(20,[0,4,13,14,15...|   0.0|   [98.0,0.0]|  [1.0,0.0]|       0.0|\n",
            "|[36.0,0.0,1.0,0.0...|   0.0|   [98.0,0.0]|  [1.0,0.0]|       0.0|\n",
            "|[38.0,0.0,1.0,0.0...|   1.0|   [0.0,22.0]|  [0.0,1.0]|       1.0|\n",
            "|(20,[0,2,3,5,10,1...|   1.0|   [0.0,22.0]|  [0.0,1.0]|       1.0|\n",
            "|(20,[0,9,10,11,13...|   1.0|   [0.0,22.0]|  [0.0,1.0]|       1.0|\n",
            "+--------------------+------+-------------+-----------+----------+\n",
            "only showing top 20 rows\n",
            "\n"
          ]
        }
      ]
    },
    {
      "cell_type": "code",
      "source": [
        "pred_randFor.select('input_features', 'TARGET',\n",
        "                    'rawPrediction', 'probability', 'prediction').show()"
      ],
      "metadata": {
        "colab": {
          "base_uri": "https://localhost:8080/"
        },
        "id": "G3te-RP8e-iq",
        "outputId": "bc01ee98-ba3d-4b78-bbd0-aa0cb46032eb"
      },
      "execution_count": 75,
      "outputs": [
        {
          "output_type": "stream",
          "name": "stdout",
          "text": [
            "+--------------------+------+--------------------+--------------------+----------+\n",
            "|      input_features|TARGET|       rawPrediction|         probability|prediction|\n",
            "+--------------------+------+--------------------+--------------------+----------+\n",
            "|(20,[0,4,13,14,15...|   0.0|[19.9162959737041...|[0.99581479868520...|       0.0|\n",
            "|(20,[0,1,2,3,4,13...|   0.0|[18.9378013500482...|[0.94689006750241...|       0.0|\n",
            "|(20,[0,4,15,16],[...|   0.0|[19.9162959737041...|[0.99581479868520...|       0.0|\n",
            "|(20,[0,1,2,4,7,14...|   0.0|[19.8137318711400...|[0.99068659355700...|       0.0|\n",
            "|(20,[0,2,3,4,13,1...|   0.0|[19.9162959737041...|[0.99581479868520...|       0.0|\n",
            "|(20,[0,3,8,10,14,...|   0.0|[17.8162959737041...|[0.89081479868520...|       0.0|\n",
            "|(20,[0,2,5,6,8,15...|   0.0|[16.9149223473305...|[0.84574611736652...|       0.0|\n",
            "|(20,[0,2,4,9,13,1...|   0.0|[19.8137318711400...|[0.99068659355700...|       0.0|\n",
            "|(20,[0,10,13,14,1...|   1.0|[11.8162959737041...|[0.59081479868520...|       0.0|\n",
            "|(20,[0,2,4,8,10,1...|   0.0|[19.5410045984127...|[0.97705022992063...|       0.0|\n",
            "|(20,[0,2,4,14,15,...|   0.0|[19.8137318711400...|[0.99068659355700...|       0.0|\n",
            "|(20,[0,2,3,5,14,1...|   0.0|[19.6292080616162...|[0.98146040308081...|       0.0|\n",
            "|(20,[0,5,8,9,10,1...|   0.0|[14.4304388422035...|[0.72152194211017...|       0.0|\n",
            "|(20,[0,5,6,7,8,10...|   0.0|[14.1134453781512...|[0.70567226890756...|       0.0|\n",
            "|(20,[0,4,13,14,15...|   0.0|[19.9162959737041...|[0.99581479868520...|       0.0|\n",
            "|(20,[0,4,13,14,15...|   0.0|[19.9490828589500...|[0.99745414294750...|       0.0|\n",
            "|[36.0,0.0,1.0,0.0...|   0.0|[12.1616448068060...|[0.60808224034030...|       0.0|\n",
            "|[38.0,0.0,1.0,0.0...|   1.0|[8.14285714285714...|[0.40714285714285...|       1.0|\n",
            "|(20,[0,2,3,5,10,1...|   1.0|[4.90221216691805...|[0.24511060834590...|       1.0|\n",
            "|(20,[0,9,10,11,13...|   1.0|[7.87058823529411...|[0.39352941176470...|       1.0|\n",
            "+--------------------+------+--------------------+--------------------+----------+\n",
            "only showing top 20 rows\n",
            "\n"
          ]
        }
      ]
    },
    {
      "cell_type": "code",
      "source": [
        "pred_nBayes.select('input_features', 'TARGET',\n",
        "                   'rawPrediction', 'probability', 'prediction').show()"
      ],
      "metadata": {
        "colab": {
          "base_uri": "https://localhost:8080/"
        },
        "id": "2ZyYrU4ie-hg",
        "outputId": "0f52c1f6-764b-4d43-c581-540c639460f9"
      },
      "execution_count": 76,
      "outputs": [
        {
          "output_type": "stream",
          "name": "stdout",
          "text": [
            "+--------------------+------+--------------------+--------------------+----------+\n",
            "|      input_features|TARGET|       rawPrediction|         probability|prediction|\n",
            "+--------------------+------+--------------------+--------------------+----------+\n",
            "|(20,[0,4,13,14,15...|   0.0|[-188.37784663869...|[0.99999995075425...|       0.0|\n",
            "|(20,[0,1,2,3,4,13...|   0.0|[-271.07133443842...|[0.96942025682618...|       0.0|\n",
            "|(20,[0,4,15,16],[...|   0.0|[-77.998490016045...|[0.99880160261267...|       0.0|\n",
            "|(20,[0,1,2,4,7,14...|   0.0|[-65.843001231535...|[0.99754538340399...|       0.0|\n",
            "|(20,[0,2,3,4,13,1...|   0.0|[-235.36235047011...|[0.99999999477876...|       0.0|\n",
            "|(20,[0,3,8,10,14,...|   0.0|[-325.83129081052...|[0.99999999988703...|       0.0|\n",
            "|(20,[0,2,5,6,8,15...|   0.0|[-128.59172458697...|[0.99994081197973...|       0.0|\n",
            "|(20,[0,2,4,9,13,1...|   0.0|[-105.35431244521...|[0.93208928753265...|       0.0|\n",
            "|(20,[0,10,13,14,1...|   1.0|[-190.20305261148...|[0.99287314780453...|       0.0|\n",
            "|(20,[0,2,4,8,10,1...|   0.0|[-153.32472368402...|[0.99992155917630...|       0.0|\n",
            "|(20,[0,2,4,14,15,...|   0.0|[-87.788469811359...|[0.99988347630671...|       0.0|\n",
            "|(20,[0,2,3,5,14,1...|   0.0|[-186.59133038698...|[0.94640048791667...|       0.0|\n",
            "|(20,[0,5,8,9,10,1...|   0.0|[-298.70880095791...|[3.51010291820304...|       1.0|\n",
            "|(20,[0,5,6,7,8,10...|   0.0|[-85.342554330830...|[0.06767088801857...|       1.0|\n",
            "|(20,[0,4,13,14,15...|   0.0|[-117.86649570117...|[0.22722753660264...|       1.0|\n",
            "|(20,[0,4,13,14,15...|   0.0|[-79.096313266407...|[0.94342470954545...|       0.0|\n",
            "|[36.0,0.0,1.0,0.0...|   0.0|[-258.32717050421...|[1.54571795790214...|       1.0|\n",
            "|[38.0,0.0,1.0,0.0...|   1.0|[-231.60351660428...|[7.82002175315414...|       1.0|\n",
            "|(20,[0,2,3,5,10,1...|   1.0|[-197.79905694626...|[1.36197089274364...|       1.0|\n",
            "|(20,[0,9,10,11,13...|   1.0|[-264.08451459992...|[0.02318295875323...|       1.0|\n",
            "+--------------------+------+--------------------+--------------------+----------+\n",
            "only showing top 20 rows\n",
            "\n"
          ]
        }
      ]
    },
    {
      "cell_type": "code",
      "source": [
        "from pyspark.ml.evaluation import MulticlassClassificationEvaluator"
      ],
      "metadata": {
        "id": "RxehJjZde-Zm"
      },
      "execution_count": 77,
      "outputs": []
    },
    {
      "cell_type": "code",
      "source": [
        "eval = MulticlassClassificationEvaluator(\n",
        "    predictionCol='prediction',         # coluna da predição final realizada\n",
        "    labelCol='TARGET',                  # coluna do atributo alvo - valor real\n",
        "    metricName='accuracy'               # métrica de avaliação\n",
        ")"
      ],
      "metadata": {
        "id": "O_4v7NH5e-WI"
      },
      "execution_count": 78,
      "outputs": []
    },
    {
      "cell_type": "code",
      "source": [
        "dir(eval)"
      ],
      "metadata": {
        "colab": {
          "base_uri": "https://localhost:8080/"
        },
        "id": "FOe5m75WtxWQ",
        "outputId": "b1f6cde0-e110-46a3-cf07-76c6651da930"
      },
      "execution_count": 79,
      "outputs": [
        {
          "output_type": "execute_result",
          "data": {
            "text/plain": [
              "['__abstractmethods__',\n",
              " '__annotations__',\n",
              " '__class__',\n",
              " '__class_getitem__',\n",
              " '__del__',\n",
              " '__delattr__',\n",
              " '__dict__',\n",
              " '__dir__',\n",
              " '__doc__',\n",
              " '__eq__',\n",
              " '__format__',\n",
              " '__ge__',\n",
              " '__getattribute__',\n",
              " '__gt__',\n",
              " '__hash__',\n",
              " '__init__',\n",
              " '__init_subclass__',\n",
              " '__le__',\n",
              " '__lt__',\n",
              " '__module__',\n",
              " '__ne__',\n",
              " '__new__',\n",
              " '__orig_bases__',\n",
              " '__parameters__',\n",
              " '__reduce__',\n",
              " '__reduce_ex__',\n",
              " '__repr__',\n",
              " '__setattr__',\n",
              " '__sizeof__',\n",
              " '__slots__',\n",
              " '__str__',\n",
              " '__subclasshook__',\n",
              " '__weakref__',\n",
              " '_abc_impl',\n",
              " '_call_java',\n",
              " '_copyValues',\n",
              " '_copy_params',\n",
              " '_create_from_java_class',\n",
              " '_create_params_from_java',\n",
              " '_defaultParamMap',\n",
              " '_dummy',\n",
              " '_empty_java_param_map',\n",
              " '_evaluate',\n",
              " '_from_java',\n",
              " '_input_kwargs',\n",
              " '_is_protocol',\n",
              " '_java_obj',\n",
              " '_make_java_param_pair',\n",
              " '_new_java_array',\n",
              " '_new_java_obj',\n",
              " '_paramMap',\n",
              " '_params',\n",
              " '_randomUID',\n",
              " '_resetUid',\n",
              " '_resolveParam',\n",
              " '_set',\n",
              " '_setDefault',\n",
              " '_shouldOwn',\n",
              " '_testOwnParam',\n",
              " '_to_java',\n",
              " '_transfer_param_map_from_java',\n",
              " '_transfer_param_map_to_java',\n",
              " '_transfer_params_from_java',\n",
              " '_transfer_params_to_java',\n",
              " 'beta',\n",
              " 'clear',\n",
              " 'copy',\n",
              " 'eps',\n",
              " 'evaluate',\n",
              " 'explainParam',\n",
              " 'explainParams',\n",
              " 'extractParamMap',\n",
              " 'getBeta',\n",
              " 'getEps',\n",
              " 'getLabelCol',\n",
              " 'getMetricLabel',\n",
              " 'getMetricName',\n",
              " 'getOrDefault',\n",
              " 'getParam',\n",
              " 'getPredictionCol',\n",
              " 'getProbabilityCol',\n",
              " 'getWeightCol',\n",
              " 'hasDefault',\n",
              " 'hasParam',\n",
              " 'isDefined',\n",
              " 'isLargerBetter',\n",
              " 'isSet',\n",
              " 'labelCol',\n",
              " 'load',\n",
              " 'metricLabel',\n",
              " 'metricName',\n",
              " 'params',\n",
              " 'predictionCol',\n",
              " 'probabilityCol',\n",
              " 'read',\n",
              " 'save',\n",
              " 'set',\n",
              " 'setBeta',\n",
              " 'setEps',\n",
              " 'setLabelCol',\n",
              " 'setMetricLabel',\n",
              " 'setMetricName',\n",
              " 'setParams',\n",
              " 'setPredictionCol',\n",
              " 'setProbabilityCol',\n",
              " 'setWeightCol',\n",
              " 'uid',\n",
              " 'weightCol',\n",
              " 'write']"
            ]
          },
          "metadata": {},
          "execution_count": 79
        }
      ]
    },
    {
      "cell_type": "code",
      "source": [
        "acc_logReg = eval.evaluate(dataset=pred_logReg)\n",
        "acc_decTree = eval.evaluate(dataset=pred_decTree)\n",
        "acc_randFor = eval.evaluate(dataset=pred_randFor)\n",
        "acc_nBayes = eval.evaluate(dataset=pred_nBayes)"
      ],
      "metadata": {
        "id": "vLCKMXtTe-Tm"
      },
      "execution_count": 80,
      "outputs": []
    },
    {
      "cell_type": "code",
      "source": [
        "print('\\t[ACCURACY]')\n",
        "print('=' * 30)\n",
        "print(f'Logistic Regression: {(acc_logReg * 100):.2f}%')\n",
        "print(f'Decision Tree      : {(acc_decTree * 100):.2f}%')\n",
        "print(f'Random Forest      : {(acc_randFor * 100):.2f}%')\n",
        "print(f'Naive Bayes        : {(acc_nBayes * 100):.2f}%')"
      ],
      "metadata": {
        "colab": {
          "base_uri": "https://localhost:8080/"
        },
        "id": "DTKzKlqJgKQs",
        "outputId": "769c7905-c455-4932-c1ab-d19690280f41"
      },
      "execution_count": 81,
      "outputs": [
        {
          "output_type": "stream",
          "name": "stdout",
          "text": [
            "\t[ACCURACY]\n",
            "==============================\n",
            "Logistic Regression: 100.00%\n",
            "Decision Tree      : 100.00%\n",
            "Random Forest      : 97.14%\n",
            "Naive Bayes        : 80.00%\n"
          ]
        }
      ]
    },
    {
      "cell_type": "code",
      "source": [
        "from sklearn.metrics import confusion_matrix"
      ],
      "metadata": {
        "id": "PgDy5N86gKPj"
      },
      "execution_count": 82,
      "outputs": []
    },
    {
      "cell_type": "code",
      "source": [
        "df_pred_logReg = pred_logReg.select(\n",
        "    'prediction', 'TARGET'\n",
        ").toPandas()\n",
        "\n",
        "df_pred_decTree = pred_decTree.select(\n",
        "    'prediction', 'TARGET'\n",
        ").toPandas()\n",
        "\n",
        "df_pred_randFor = pred_randFor.select(\n",
        "    'prediction', 'TARGET'\n",
        ").toPandas()\n",
        "\n",
        "df_pred_nBayes = pred_nBayes.select(\n",
        "    'prediction', 'TARGET'\n",
        ").toPandas()"
      ],
      "metadata": {
        "id": "TPqkT4RugKOk"
      },
      "execution_count": 83,
      "outputs": []
    },
    {
      "cell_type": "code",
      "source": [
        "conf_mat_logReg = confusion_matrix(\n",
        "    y_true=df_pred_logReg['TARGET'],\n",
        "    y_pred=df_pred_logReg['prediction']\n",
        ")\n",
        "\n",
        "conf_mat_logReg"
      ],
      "metadata": {
        "colab": {
          "base_uri": "https://localhost:8080/"
        },
        "id": "0t6qmkj0gKId",
        "outputId": "7f8534f2-876c-4751-87c1-ce8b987df657"
      },
      "execution_count": 84,
      "outputs": [
        {
          "output_type": "execute_result",
          "data": {
            "text/plain": [
              "array([[25,  0],\n",
              "       [ 0, 10]])"
            ]
          },
          "metadata": {},
          "execution_count": 84
        }
      ]
    },
    {
      "cell_type": "code",
      "source": [
        "conf_mat_decTree = confusion_matrix(\n",
        "    y_true=df_pred_decTree['TARGET'],\n",
        "    y_pred=df_pred_decTree['prediction']\n",
        ")\n",
        "\n",
        "conf_mat_decTree"
      ],
      "metadata": {
        "colab": {
          "base_uri": "https://localhost:8080/"
        },
        "id": "8-yZm09BgKHd",
        "outputId": "78d07cbd-c965-4c4a-d978-df77685e0f9c"
      },
      "execution_count": 85,
      "outputs": [
        {
          "output_type": "execute_result",
          "data": {
            "text/plain": [
              "array([[25,  0],\n",
              "       [ 0, 10]])"
            ]
          },
          "metadata": {},
          "execution_count": 85
        }
      ]
    },
    {
      "cell_type": "code",
      "source": [
        "conf_mat_randFor = confusion_matrix(\n",
        "    y_true=df_pred_randFor['TARGET'],\n",
        "    y_pred=df_pred_randFor['prediction']\n",
        ")\n",
        "\n",
        "conf_mat_randFor"
      ],
      "metadata": {
        "colab": {
          "base_uri": "https://localhost:8080/"
        },
        "id": "-AFwaYKOgKCp",
        "outputId": "8cd06d0d-74b7-4f4a-e134-9fa9dda609dd"
      },
      "execution_count": 86,
      "outputs": [
        {
          "output_type": "execute_result",
          "data": {
            "text/plain": [
              "array([[25,  0],\n",
              "       [ 1,  9]])"
            ]
          },
          "metadata": {},
          "execution_count": 86
        }
      ]
    },
    {
      "cell_type": "code",
      "source": [
        "conf_mat_nBayes = confusion_matrix(\n",
        "    y_true=df_pred_nBayes['TARGET'],\n",
        "    y_pred=df_pred_nBayes['prediction']\n",
        ")\n",
        "\n",
        "conf_mat_nBayes"
      ],
      "metadata": {
        "colab": {
          "base_uri": "https://localhost:8080/"
        },
        "id": "suhbnPDCgKBv",
        "outputId": "af6ea0bb-7a15-42d8-c4cb-43c546f11128"
      },
      "execution_count": 87,
      "outputs": [
        {
          "output_type": "execute_result",
          "data": {
            "text/plain": [
              "array([[19,  6],\n",
              "       [ 1,  9]])"
            ]
          },
          "metadata": {},
          "execution_count": 87
        }
      ]
    },
    {
      "cell_type": "code",
      "source": [
        "pred_logReg.columns"
      ],
      "metadata": {
        "colab": {
          "base_uri": "https://localhost:8080/"
        },
        "id": "S80HMp0U0Hls",
        "outputId": "97f6ae6d-346a-4977-ae2e-8d0432fab63c"
      },
      "execution_count": 88,
      "outputs": [
        {
          "output_type": "execute_result",
          "data": {
            "text/plain": [
              "['AGE',\n",
              " 'SEX_idx',\n",
              " 'STEROID_idx',\n",
              " 'ANTIVIRALS_idx',\n",
              " 'FATIGUE_idx',\n",
              " 'MALAISE_idx',\n",
              " 'ANOREXIA_idx',\n",
              " 'LIVER_BIG_idx',\n",
              " 'LIVER_FIRM_idx',\n",
              " 'SPLEEN_PALPABLE_idx',\n",
              " 'SPIDERS_idx',\n",
              " 'ASCITES_idx',\n",
              " 'VARICES_idx',\n",
              " 'BILIRUBIN_idx',\n",
              " 'ALK_PHOSPHATE_idx',\n",
              " 'SGOT_idx',\n",
              " 'ALBUMIN_idx',\n",
              " 'PROTIME_idx',\n",
              " 'HISTOLOGY_idx',\n",
              " 'TARGET',\n",
              " 'input_features',\n",
              " 'rawPrediction',\n",
              " 'probability',\n",
              " 'prediction']"
            ]
          },
          "metadata": {},
          "execution_count": 88
        }
      ]
    },
    {
      "cell_type": "code",
      "source": [
        "from pyspark.sql.types import FloatType\n",
        "from pyspark.sql.functions import col"
      ],
      "metadata": {
        "id": "UK54M-nWgJ1Z"
      },
      "execution_count": 89,
      "outputs": []
    },
    {
      "cell_type": "code",
      "source": [
        "preds_and_labels_logReg = pred_logReg.select(['prediction', 'TARGET'])\\\n",
        "    .withColumn('TARGET', col('TARGET')\\\n",
        "                .cast(FloatType()))\\\n",
        "                .orderBy('prediction')\n",
        "\n",
        "preds_and_labels_decTree = pred_decTree.select(['prediction', 'TARGET'])\\\n",
        "    .withColumn('TARGET', col('TARGET')\\\n",
        "                .cast(FloatType()))\\\n",
        "                .orderBy('prediction')\n",
        "\n",
        "preds_and_labels_randFor = pred_randFor.select(['prediction', 'TARGET'])\\\n",
        "    .withColumn('TARGET', col('TARGET')\\\n",
        "                .cast(FloatType()))\\\n",
        "                .orderBy('prediction')\n",
        "\n",
        "preds_and_labels_nBayes = pred_nBayes.select(['prediction', 'TARGET'])\\\n",
        "    .withColumn('TARGET', col('TARGET')\\\n",
        "                .cast(FloatType()))\\\n",
        "                .orderBy('prediction')"
      ],
      "metadata": {
        "id": "Z801DFe4xgyx"
      },
      "execution_count": 91,
      "outputs": []
    },
    {
      "cell_type": "code",
      "source": [
        "from pyspark.mllib.evaluation import MulticlassMetrics"
      ],
      "metadata": {
        "id": "Jl4ZPYyfgJ_5"
      },
      "execution_count": 92,
      "outputs": []
    },
    {
      "cell_type": "code",
      "source": [
        "metrics_logReg = MulticlassMetrics(preds_and_labels_logReg.rdd.map(tuple))\n",
        "metrics_decTree = MulticlassMetrics(preds_and_labels_decTree.rdd.map(tuple))\n",
        "metrics_randFor = MulticlassMetrics(preds_and_labels_randFor.rdd.map(tuple))\n",
        "metrics_nBayes = MulticlassMetrics(preds_and_labels_nBayes.rdd.map(tuple))"
      ],
      "metadata": {
        "id": "ZQnNC2x5xgvT"
      },
      "execution_count": 93,
      "outputs": []
    },
    {
      "cell_type": "code",
      "source": [
        "print(\n",
        "    'LOGISTIC REGRESSION',\n",
        "    '=' * 20,\n",
        "    f'Acurracy : {metrics_logReg.accuracy:.2f}', \n",
        "    f'Precision: {metrics_logReg.precision(label=1.0):.2f}', \n",
        "    f'Recall   : {metrics_logReg.recall(label=1.0):.2f}', \n",
        "    f'F1 score : {metrics_logReg.fMeasure(label=1.0):.2f}',\n",
        "    sep='\\n'\n",
        ")"
      ],
      "metadata": {
        "colab": {
          "base_uri": "https://localhost:8080/"
        },
        "id": "mXBDbGXK2lXE",
        "outputId": "12b704cc-f6b8-418a-d596-85d1a57d6ca4"
      },
      "execution_count": 94,
      "outputs": [
        {
          "output_type": "stream",
          "name": "stdout",
          "text": [
            "LOGISTIC REGRESSION\n",
            "====================\n",
            "Acurracy : 1.00\n",
            "Precision: 1.00\n",
            "Recall   : 1.00\n",
            "F1 score : 1.00\n"
          ]
        }
      ]
    },
    {
      "cell_type": "code",
      "source": [
        "print(\n",
        "    'DECISION TREE',\n",
        "    '=' * 20,\n",
        "    f'Acurracy : {metrics_decTree.accuracy:.2f}', \n",
        "    f'Precision: {metrics_decTree.precision(label=1.0):.2f}', \n",
        "    f'Recall   : {metrics_decTree.recall(label=1.0):.2f}', \n",
        "    f'F1 score : {metrics_decTree.fMeasure(label=1.0):.2f}',\n",
        "    sep='\\n'\n",
        ")"
      ],
      "metadata": {
        "colab": {
          "base_uri": "https://localhost:8080/"
        },
        "id": "NeVMUJF78Y8O",
        "outputId": "7caf07fe-1d48-4223-d46c-e7af1906e68d"
      },
      "execution_count": 95,
      "outputs": [
        {
          "output_type": "stream",
          "name": "stdout",
          "text": [
            "DECISION TREE\n",
            "====================\n",
            "Acurracy : 1.00\n",
            "Precision: 1.00\n",
            "Recall   : 1.00\n",
            "F1 score : 1.00\n"
          ]
        }
      ]
    },
    {
      "cell_type": "code",
      "source": [
        "print(\n",
        "    'RANDOM FOREST',\n",
        "    '=' * 20,\n",
        "    f'Acurracy : {metrics_randFor.accuracy:.2f}', \n",
        "    f'Precision: {metrics_randFor.precision(label=1.0):.2f}', \n",
        "    f'Recall   : {metrics_randFor.recall(label=1.0):.2f}', \n",
        "    f'F1 score : {metrics_randFor.fMeasure(label=1.0):.2f}',\n",
        "    sep='\\n'\n",
        ")"
      ],
      "metadata": {
        "colab": {
          "base_uri": "https://localhost:8080/"
        },
        "id": "LakVwf9w8Yz7",
        "outputId": "67596746-2e94-48d0-cfa2-d5ce1639c786"
      },
      "execution_count": 96,
      "outputs": [
        {
          "output_type": "stream",
          "name": "stdout",
          "text": [
            "RANDOM FOREST\n",
            "====================\n",
            "Acurracy : 0.97\n",
            "Precision: 1.00\n",
            "Recall   : 0.90\n",
            "F1 score : 0.95\n"
          ]
        }
      ]
    },
    {
      "cell_type": "code",
      "source": [
        "print(\n",
        "    'NAIVE BAYES',\n",
        "    '=' * 20,\n",
        "    f'Acurracy : {metrics_nBayes.accuracy:.2f}', \n",
        "    f'Precision: {metrics_nBayes.precision(label=1.0):.2f}', \n",
        "    f'Recall   : {metrics_nBayes.recall(label=1.0):.2f}', \n",
        "    f'F1 score : {metrics_nBayes.fMeasure(label=1.0):.2f}',\n",
        "    sep='\\n'\n",
        ")"
      ],
      "metadata": {
        "colab": {
          "base_uri": "https://localhost:8080/"
        },
        "id": "yWLkoWFC8YtX",
        "outputId": "e5783a9c-79c6-439e-e6e9-faf65e8f115b"
      },
      "execution_count": 97,
      "outputs": [
        {
          "output_type": "stream",
          "name": "stdout",
          "text": [
            "NAIVE BAYES\n",
            "====================\n",
            "Acurracy : 0.80\n",
            "Precision: 0.60\n",
            "Recall   : 0.90\n",
            "F1 score : 0.72\n"
          ]
        }
      ]
    },
    {
      "cell_type": "code",
      "source": [
        "import matplotlib.pyplot as plt\n",
        "import seaborn as sns\n",
        "\n",
        "from pylab import rcParams\n",
        "\n",
        "%matplotlib inline\n",
        "# plt.style.use('fivethirtyeight')\n",
        "plt.style.use('ggplot')\n",
        "# sns.set()\n",
        "rcParams['figure.figsize'] = 5, 5"
      ],
      "metadata": {
        "id": "jbEmK9QlxgtI"
      },
      "execution_count": 98,
      "outputs": []
    },
    {
      "cell_type": "code",
      "source": [
        "labels = ['DIE', 'LIVE']"
      ],
      "metadata": {
        "id": "U2noneJS3S-V"
      },
      "execution_count": 99,
      "outputs": []
    },
    {
      "cell_type": "code",
      "source": [
        "# figure object\n",
        "# _ = plt.figure(figsize=(5, 5))\n",
        "\n",
        "# plot confusion matrix\n",
        "sns.heatmap(metrics_logReg.confusionMatrix().toArray(),\n",
        "            # cmap='viridis',\n",
        "            annot=True, fmt='0',\n",
        "            cbar=False, \n",
        "            xticklabels=labels, \n",
        "            yticklabels=labels)\n",
        "\n",
        "plt.title('Confusion Matrix - Logistic Regression\\n', size=12)\n",
        "plt.show()"
      ],
      "metadata": {
        "colab": {
          "base_uri": "https://localhost:8080/",
          "height": 488
        },
        "id": "DGawnY1cxgpf",
        "outputId": "d19cce96-75c9-4abd-a812-a896b98c1fe3"
      },
      "execution_count": 100,
      "outputs": [
        {
          "output_type": "display_data",
          "data": {
            "text/plain": [
              "<Figure size 500x500 with 1 Axes>"
            ],
            "image/png": "[encoded data removed]"
          },
          "metadata": {}
        }
      ]
    },
    {
      "cell_type": "code",
      "source": [
        "# figure object\n",
        "# _ = plt.figure(figsize=(5, 5))\n",
        "\n",
        "# plot confusion matrix\n",
        "sns.heatmap(metrics_decTree.confusionMatrix().toArray(),\n",
        "            # cmap='viridis',\n",
        "            annot=True, fmt='0',\n",
        "            cbar=False, \n",
        "            xticklabels=labels, \n",
        "            yticklabels=labels)\n",
        "\n",
        "plt.title('Confusion Matrix - Decision Tree\\n', size=12)\n",
        "plt.show()"
      ],
      "metadata": {
        "colab": {
          "base_uri": "https://localhost:8080/",
          "height": 488
        },
        "id": "gZRIKngw2lgo",
        "outputId": "12042a55-ef6a-46c8-9c29-7b8f01d8e686"
      },
      "execution_count": 101,
      "outputs": [
        {
          "output_type": "display_data",
          "data": {
            "text/plain": [
              "<Figure size 500x500 with 1 Axes>"
            ],
            "image/png": "[encoded data removed]"
          },
          "metadata": {}
        }
      ]
    },
    {
      "cell_type": "code",
      "source": [
        "# figure object\n",
        "# _ = plt.figure(figsize=(5, 5))\n",
        "\n",
        "# plot confusion matrix\n",
        "sns.heatmap(metrics_randFor.confusionMatrix().toArray(),\n",
        "            # cmap='viridis',\n",
        "            annot=True, fmt='0',\n",
        "            cbar=False, \n",
        "            xticklabels=labels, \n",
        "            yticklabels=labels)\n",
        "\n",
        "plt.title('Confusion Matrix - Random Forest\\n', size=12)\n",
        "plt.show()"
      ],
      "metadata": {
        "colab": {
          "base_uri": "https://localhost:8080/",
          "height": 488
        },
        "id": "MNsnbQie2lfF",
        "outputId": "e08fdbcc-f617-4699-bfac-6032d823b2b4"
      },
      "execution_count": 102,
      "outputs": [
        {
          "output_type": "display_data",
          "data": {
            "text/plain": [
              "<Figure size 500x500 with 1 Axes>"
            ],
            "image/png": "[encoded data removed]"
          },
          "metadata": {}
        }
      ]
    },
    {
      "cell_type": "code",
      "source": [
        "# figure object\n",
        "# _ = plt.figure(figsize=(5, 5))\n",
        "\n",
        "# plot confusion matrix\n",
        "sns.heatmap(metrics_nBayes.confusionMatrix().toArray(),\n",
        "            # cmap='viridis',\n",
        "            annot=True, fmt='0',\n",
        "            cbar=False, \n",
        "            xticklabels=labels, \n",
        "            yticklabels=labels)\n",
        "\n",
        "plt.title('Confusion Matrix - Naive Bayes\\n', size=12)\n",
        "plt.show()"
      ],
      "metadata": {
        "colab": {
          "base_uri": "https://localhost:8080/",
          "height": 488
        },
        "id": "KvCBJlw92lcJ",
        "outputId": "14b8b0ee-7b18-47b0-9924-cf8b1643d626"
      },
      "execution_count": 103,
      "outputs": [
        {
          "output_type": "display_data",
          "data": {
            "text/plain": [
              "<Figure size 500x500 with 1 Axes>"
            ],
            "image/png": "[encoded data removed]"
          },
          "metadata": {}
        }
      ]
    },
    {
      "cell_type": "code",
      "source": [
        "mdl_randFor.save('model_randForClassifier')"
      ],
      "metadata": {
        "id": "rIHUjglF2lUh"
      },
      "execution_count": 104,
      "outputs": []
    },
    {
      "cell_type": "code",
      "source": [
        "mdl_randFor.write().save(path='myModel_PySpark')"
      ],
      "metadata": {
        "id": "a-FWusll2lRG"
      },
      "execution_count": 105,
      "outputs": []
    },
    {
      "cell_type": "code",
      "source": [
        "%whos"
      ],
      "metadata": {
        "colab": {
          "base_uri": "https://localhost:8080/"
        },
        "id": "fQZICBCO99t_",
        "outputId": "b43d6ccf-46f4-4acb-ced2-a84d5babaec8"
      },
      "execution_count": 106,
      "outputs": [
        {
          "output_type": "stream",
          "name": "stdout",
          "text": [
            "Variable                            Type                                 Data/Info\n",
            "----------------------------------------------------------------------------------\n",
            "DecisionTreeClassifier              ABCMeta                              <class 'pyspark.ml.classi<...>.DecisionTreeClassifier'>\n",
            "FloatType                           DataTypeSingleton                    <class 'pyspark.sql.types.FloatType'>\n",
            "LogisticRegression                  ABCMeta                              <class 'pyspark.ml.classi<...>tion.LogisticRegression'>\n",
            "MulticlassClassificationEvaluator   ABCMeta                              <class 'pyspark.ml.evalua<...>ClassificationEvaluator'>\n",
            "MulticlassMetrics                   type                                 <class 'pyspark.mllib.eva<...>ation.MulticlassMetrics'>\n",
            "NaiveBayes                          ABCMeta                              <class 'pyspark.ml.classification.NaiveBayes'>\n",
            "RandomForestClassifier              ABCMeta                              <class 'pyspark.ml.classi<...>.RandomForestClassifier'>\n",
            "SparkSession                        type                                 <class 'pyspark.sql.session.SparkSession'>\n",
            "StringIndexer                       ABCMeta                              <class 'pyspark.ml.feature.StringIndexer'>\n",
            "VectorAssembler                     ABCMeta                              <class 'pyspark.ml.feature.VectorAssembler'>\n",
            "acc_decTree                         float                                1.0\n",
            "acc_logReg                          float                                1.0\n",
            "acc_nBayes                          float                                0.8\n",
            "acc_randFor                         float                                0.9714285714285714\n",
            "cat_encoder                         StringIndexerModel                   StringIndexerModel: uid=S<...>078f, handleInvalid=error\n",
            "col                                 function                             <function col at 0x7f510092a8b0>\n",
            "conf_mat_decTree                    ndarray                              2x2: 4 elems, type `int64`, 32 bytes\n",
            "conf_mat_logReg                     ndarray                              2x2: 4 elems, type `int64`, 32 bytes\n",
            "conf_mat_nBayes                     ndarray                              2x2: 4 elems, type `int64`, 32 bytes\n",
            "conf_mat_randFor                    ndarray                              2x2: 4 elems, type `int64`, 32 bytes\n",
            "confusion_matrix                    function                             <function confusion_matrix at 0x7f50eef2a8b0>\n",
            "dataframe_dim                       function                             <function dataframe_dim at 0x7f50fabc8940>\n",
            "df                                  DataFrame                            DataFrame[AGE: int, SEX: <...>: double, TARGET: double]\n",
            "df2                                 DataFrame                                  AGE  SEX_idx  STERO<...>\\n[155 rows x 20 columns]\n",
            "df_pred_decTree                     DataFrame                                prediction  TARGET\\n0<...>0\\n34         0.0     0.0\n",
            "df_pred_logReg                      DataFrame                                prediction  TARGET\\n0<...>0\\n34         0.0     0.0\n",
            "df_pred_nBayes                      DataFrame                                prediction  TARGET\\n0<...>0\\n34         0.0     0.0\n",
            "df_pred_randFor                     DataFrame                                prediction  TARGET\\n0<...>0\\n34         0.0     0.0\n",
            "df_spark                            DataFrame                            DataFrame[AGE: double, SE<...>: double, TARGET: double]\n",
            "eval                                MulticlassClassificationEvaluator    MulticlassClassificationEvaluator_25fc31192e92\n",
            "features                            list                                 n=20\n",
            "indexer                             StringIndexerModel                   StringIndexerModel: uid=S<...>Cols=18, numOutputCols=18\n",
            "labels                              list                                 n=2\n",
            "mdl_decTree                         DecisionTreeClassifier               DecisionTreeClassifier_1c6ea50a573f\n",
            "mdl_logReg                          LogisticRegression                   LogisticRegression_d56fce714aac\n",
            "mdl_nBayes                          NaiveBayes                           NaiveBayes_00262997763b\n",
            "mdl_randFor                         RandomForestClassifier               RandomForestClassifier_18ee81028cd6\n",
            "mdl_training_decTree                DecisionTreeClassificationModel      DecisionTreeClassificatio<...>Classes=2, numFeatures=20\n",
            "mdl_training_logReg                 LogisticRegressionModel              LogisticRegressionModel: <...>Classes=2, numFeatures=20\n",
            "mdl_training_nBayes                 NaiveBayesModel                      NaiveBayesModel: uid=Naiv<...>Classes=2, numFeatures=20\n",
            "mdl_training_randFor                RandomForestClassificationModel      RandomForestClassificatio<...>Classes=2, numFeatures=20\n",
            "metrics_decTree                     MulticlassMetrics                    <pyspark.mllib.evaluation<...>object at 0x7f50eeb15ac0>\n",
            "metrics_logReg                      MulticlassMetrics                    <pyspark.mllib.evaluation<...>object at 0x7f50eeb11040>\n",
            "metrics_nBayes                      MulticlassMetrics                    <pyspark.mllib.evaluation<...>object at 0x7f50eead2070>\n",
            "metrics_randFor                     MulticlassMetrics                    <pyspark.mllib.evaluation<...>object at 0x7f50eeacf640>\n",
            "pd                                  module                               <module 'pandas' from '/u<...>ages/pandas/__init__.py'>\n",
            "plt                                 module                               <module 'matplotlib.pyplo<...>es/matplotlib/pyplot.py'>\n",
            "pred_decTree                        DataFrame                            DataFrame[AGE: double, SE<...>ctor, prediction: double]\n",
            "pred_logReg                         DataFrame                            DataFrame[AGE: double, SE<...>ctor, prediction: double]\n",
            "pred_nBayes                         DataFrame                            DataFrame[AGE: double, SE<...>ctor, prediction: double]\n",
            "pred_randFor                        DataFrame                            DataFrame[AGE: double, SE<...>ctor, prediction: double]\n",
            "preds_and_labels_decTree            DataFrame                            DataFrame[prediction: double, TARGET: float]\n",
            "preds_and_labels_logReg             DataFrame                            DataFrame[prediction: double, TARGET: float]\n",
            "preds_and_labels_nBayes             DataFrame                            DataFrame[prediction: double, TARGET: float]\n",
            "preds_and_labels_randFor            DataFrame                            DataFrame[prediction: double, TARGET: float]\n",
            "pyspark                             module                               <module 'pyspark' from '/<...>ges/pyspark/__init__.py'>\n",
            "rcParams                            RcParams                             _internal.classic_mode: F<...>: 0.6\\nytick.right: False\n",
            "sns                                 module                               <module 'seaborn' from '/<...>ges/seaborn/__init__.py'>\n",
            "spark_session                       SparkSession                         <pyspark.sql.session.Spar<...>object at 0x7f5100760b80>\n",
            "train_data                          DataFrame                            DataFrame[AGE: double, SE<...>, input_features: vector]\n",
            "val_data                            DataFrame                            DataFrame[AGE: double, SE<...>, input_features: vector]\n",
            "vector                              VectorAssembler                      VectorAssembler_cd77ad567a74\n",
            "vector_df                           DataFrame                            DataFrame[AGE: double, SE<...>, input_features: vector]\n",
            "warnings                            module                               <module 'warnings' from '<...>b/python3.9/warnings.py'>\n"
          ]
        }
      ]
    },
    {
      "cell_type": "code",
      "source": [
        "%who_ls"
      ],
      "metadata": {
        "colab": {
          "base_uri": "https://localhost:8080/"
        },
        "id": "zLIDx0Q39R3n",
        "outputId": "d4c6c485-6e48-4571-d1e2-02d946297a0d"
      },
      "execution_count": 107,
      "outputs": [
        {
          "output_type": "execute_result",
          "data": {
            "text/plain": [
              "['DecisionTreeClassifier',\n",
              " 'FloatType',\n",
              " 'LogisticRegression',\n",
              " 'MulticlassClassificationEvaluator',\n",
              " 'MulticlassMetrics',\n",
              " 'NaiveBayes',\n",
              " 'RandomForestClassifier',\n",
              " 'SparkSession',\n",
              " 'StringIndexer',\n",
              " 'VectorAssembler',\n",
              " 'acc_decTree',\n",
              " 'acc_logReg',\n",
              " 'acc_nBayes',\n",
              " 'acc_randFor',\n",
              " 'cat_encoder',\n",
              " 'col',\n",
              " 'conf_mat_decTree',\n",
              " 'conf_mat_logReg',\n",
              " 'conf_mat_nBayes',\n",
              " 'conf_mat_randFor',\n",
              " 'confusion_matrix',\n",
              " 'dataframe_dim',\n",
              " 'df',\n",
              " 'df2',\n",
              " 'df_pred_decTree',\n",
              " 'df_pred_logReg',\n",
              " 'df_pred_nBayes',\n",
              " 'df_pred_randFor',\n",
              " 'df_spark',\n",
              " 'eval',\n",
              " 'features',\n",
              " 'indexer',\n",
              " 'labels',\n",
              " 'mdl_decTree',\n",
              " 'mdl_logReg',\n",
              " 'mdl_nBayes',\n",
              " 'mdl_randFor',\n",
              " 'mdl_training_decTree',\n",
              " 'mdl_training_logReg',\n",
              " 'mdl_training_nBayes',\n",
              " 'mdl_training_randFor',\n",
              " 'metrics_decTree',\n",
              " 'metrics_logReg',\n",
              " 'metrics_nBayes',\n",
              " 'metrics_randFor',\n",
              " 'pd',\n",
              " 'plt',\n",
              " 'pred_decTree',\n",
              " 'pred_logReg',\n",
              " 'pred_nBayes',\n",
              " 'pred_randFor',\n",
              " 'preds_and_labels_decTree',\n",
              " 'preds_and_labels_logReg',\n",
              " 'preds_and_labels_nBayes',\n",
              " 'preds_and_labels_randFor',\n",
              " 'pyspark',\n",
              " 'rcParams',\n",
              " 'sns',\n",
              " 'spark_session',\n",
              " 'train_data',\n",
              " 'val_data',\n",
              " 'vector',\n",
              " 'vector_df',\n",
              " 'warnings']"
            ]
          },
          "metadata": {},
          "execution_count": 107
        }
      ]
    },
    {
      "cell_type": "code",
      "source": [],
      "metadata": {
        "id": "JTqQ91-W9Rzt"
      },
      "execution_count": 100,
      "outputs": []
    },
    {
      "cell_type": "code",
      "source": [],
      "metadata": {
        "id": "RN8ZZTGUBHZ3"
      },
      "execution_count": 100,
      "outputs": []
    },
    {
      "cell_type": "code",
      "source": [],
      "metadata": {
        "id": "wvoRXHNqBHTW"
      },
      "execution_count": 100,
      "outputs": []
    }
  ],
  "metadata": {
    "colab": {
      "provenance": [],
      "authorship_tag": "ABX9TyMPbYm0tmHoeSCO0YLzVoDR",
      "include_colab_link": true
    },
    "kernelspec": {
      "display_name": "Python 3",
      "name": "python3"
    },
    "language_info": {
      "name": "python"
    }
  },
  "nbformat": 4,
  "nbformat_minor": 0
}