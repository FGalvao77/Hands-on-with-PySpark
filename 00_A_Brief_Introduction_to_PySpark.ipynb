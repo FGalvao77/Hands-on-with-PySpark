{
  "nbformat": 4,
  "nbformat_minor": 0,
  "metadata": {
    "colab": {
      "provenance": [],
      "authorship_tag": "ABX9TyNvXhmavy3sCkxItWrYzyOH",
      "include_colab_link": true
    },
    "kernelspec": {
      "name": "python3",
      "display_name": "Python 3"
    },
    "language_info": {
      "name": "python"
    }
  },
  "cells": [
    {
      "cell_type": "markdown",
      "metadata": {
        "id": "view-in-github",
        "colab_type": "text"
      },
      "source": [
        "<a href=\"https://colab.research.google.com/github/FGalvao77/Hands-on-with-PySpark/blob/main/00_A_Brief_Introduction_to_PySpark.ipynb\" target=\"_parent\"><img src=\"https://colab.research.google.com/assets/colab-badge.svg\" alt=\"Open In Colab\"/></a>"
      ]
    },
    {
      "cell_type": "markdown",
      "source": [
        "## **A Brief Introduction to `PySpark`**\n",
        "---\n",
        "---"
      ],
      "metadata": {
        "id": "E4hTOZSSx_tM"
      }
    },
    {
      "cell_type": "code",
      "source": [
        "# import pandas as pd\n",
        "# import numpy as np\n",
        "import warnings\n",
        "\n",
        "warnings.filterwarnings('ignore')"
      ],
      "metadata": {
        "id": "qjOTaTGlyFH8"
      },
      "execution_count": 1,
      "outputs": []
    },
    {
      "cell_type": "code",
      "source": [
        "# import pandas as pd\n",
        "\n",
        "# df = pd.read_csv('https://query.data.world/s/tf57cjilrsdxd7robfvcbkjxmubwx5?dws=00000',\n",
        "#                  sep=';'\n",
        "# )"
      ],
      "metadata": {
        "id": "0SZrxgIKApGA"
      },
      "execution_count": 2,
      "outputs": []
    },
    {
      "cell_type": "code",
      "source": [
        "# df.to_csv('data.csv')"
      ],
      "metadata": {
        "id": "L9uJxBMhAsn5"
      },
      "execution_count": 3,
      "outputs": []
    },
    {
      "cell_type": "code",
      "source": [
        "!curl https://raw.githubusercontent.com/selva86/datasets/master/bank-full.csv >> data.csv"
      ],
      "metadata": {
        "colab": {
          "base_uri": "https://localhost:8080/"
        },
        "id": "O0A6wI1TyE9b",
        "outputId": "991a5c7d-9565-4885-8b89-1e433e68e462"
      },
      "execution_count": 4,
      "outputs": [
        {
          "output_type": "stream",
          "name": "stdout",
          "text": [
            "  % Total    % Received % Xferd  Average Speed   Time    Time     Time  Current\n",
            "                                 Dload  Upload   Total   Spent    Left  Speed\n",
            "100 5698k  100 5698k    0     0  7517k      0 --:--:-- --:--:-- --:--:-- 7507k\n"
          ]
        }
      ]
    },
    {
      "cell_type": "code",
      "execution_count": 6,
      "metadata": {
        "id": "6BFnFEnaxsWH"
      },
      "outputs": [],
      "source": [
        "%%capture\n",
        "!pip install pyspark -U"
      ]
    },
    {
      "cell_type": "code",
      "source": [
        "import pyspark"
      ],
      "metadata": {
        "id": "pIqZETxTTByZ"
      },
      "execution_count": 7,
      "outputs": []
    },
    {
      "cell_type": "code",
      "source": [
        "print(f'[VERSION] PySpark: {pyspark.__version__}')"
      ],
      "metadata": {
        "colab": {
          "base_uri": "https://localhost:8080/"
        },
        "id": "YOzY3LcvTE1C",
        "outputId": "5575680a-e7b8-46c6-d24f-32946988a5b0"
      },
      "execution_count": 8,
      "outputs": [
        {
          "output_type": "stream",
          "name": "stdout",
          "text": [
            "[VERSION] PySpark: 3.3.2\n"
          ]
        }
      ]
    },
    {
      "cell_type": "code",
      "source": [
        "from pyspark.sql import SparkSession\n",
        "# from pyspark.sql.functions import *"
      ],
      "metadata": {
        "id": "PrONHbu8yFJs"
      },
      "execution_count": 9,
      "outputs": []
    },
    {
      "cell_type": "code",
      "source": [
        "spark_session = SparkSession\\\n",
        "    .builder\\\n",
        "    .master('local[*]')\\\n",
        "    .appName(name='A Brief Introduction to PySpark | EDA & ML with PySpark')\\\n",
        "    .getOrCreate()"
      ],
      "metadata": {
        "id": "7WVHHQ5YyFC0"
      },
      "execution_count": 10,
      "outputs": []
    },
    {
      "cell_type": "code",
      "source": [
        "spark_session"
      ],
      "metadata": {
        "colab": {
          "base_uri": "https://localhost:8080/",
          "height": 219
        },
        "id": "6JOJAWJnyE_J",
        "outputId": "d35fd047-edd8-434e-ca69-5ea8052b7bec"
      },
      "execution_count": 11,
      "outputs": [
        {
          "output_type": "execute_result",
          "data": {
            "text/plain": [
              "<pyspark.sql.session.SparkSession at 0x7fa63c3c6820>"
            ],
            "text/html": [
              "\n",
              "            <div>\n",
              "                <p><b>SparkSession - in-memory</b></p>\n",
              "                \n",
              "        <div>\n",
              "            <p><b>SparkContext</b></p>\n",
              "\n",
              "            <p><a href=\"http://34c83e669aac:4040\">Spark UI</a></p>\n",
              "\n",
              "            <dl>\n",
              "              <dt>Version</dt>\n",
              "                <dd><code>v3.3.2</code></dd>\n",
              "              <dt>Master</dt>\n",
              "                <dd><code>local[*]</code></dd>\n",
              "              <dt>AppName</dt>\n",
              "                <dd><code>A Brief Introduction to PySpark | EDA & ML with PySpark</code></dd>\n",
              "            </dl>\n",
              "        </div>\n",
              "        \n",
              "            </div>\n",
              "        "
            ]
          },
          "metadata": {},
          "execution_count": 11
        }
      ]
    },
    {
      "cell_type": "code",
      "source": [
        "!head data.csv"
      ],
      "metadata": {
        "colab": {
          "base_uri": "https://localhost:8080/"
        },
        "id": "NgQbqxsNyE6O",
        "outputId": "071f4fd3-ef78-419c-e155-b227809319b9"
      },
      "execution_count": 5,
      "outputs": [
        {
          "output_type": "stream",
          "name": "stdout",
          "text": [
            "\"age\";\"job\";\"marital\";\"education\";\"default\";\"housing\";\"loan\";\"contact\";\"month\";\"day_of_week\";\"duration\";\"campaign\";\"pdays\";\"previous\";\"poutcome\";\"emp.var.rate\";\"cons.price.idx\";\"cons.conf.idx\";\"euribor3m\";\"nr.employed\";\"y\"\r\n",
            "56;\"housemaid\";\"married\";\"basic.4y\";\"no\";\"no\";\"no\";\"telephone\";\"may\";\"mon\";261;1;999;0;\"nonexistent\";1.1;93.994;-36.4;4.857;5191;\"no\"\r\n",
            "57;\"services\";\"married\";\"high.school\";\"unknown\";\"no\";\"no\";\"telephone\";\"may\";\"mon\";149;1;999;0;\"nonexistent\";1.1;93.994;-36.4;4.857;5191;\"no\"\r\n",
            "37;\"services\";\"married\";\"high.school\";\"no\";\"yes\";\"no\";\"telephone\";\"may\";\"mon\";226;1;999;0;\"nonexistent\";1.1;93.994;-36.4;4.857;5191;\"no\"\r\n",
            "40;\"admin.\";\"married\";\"basic.6y\";\"no\";\"no\";\"no\";\"telephone\";\"may\";\"mon\";151;1;999;0;\"nonexistent\";1.1;93.994;-36.4;4.857;5191;\"no\"\r\n",
            "56;\"services\";\"married\";\"high.school\";\"no\";\"no\";\"yes\";\"telephone\";\"may\";\"mon\";307;1;999;0;\"nonexistent\";1.1;93.994;-36.4;4.857;5191;\"no\"\r\n",
            "45;\"services\";\"married\";\"basic.9y\";\"unknown\";\"no\";\"no\";\"telephone\";\"may\";\"mon\";198;1;999;0;\"nonexistent\";1.1;93.994;-36.4;4.857;5191;\"no\"\r\n",
            "59;\"admin.\";\"married\";\"professional.course\";\"no\";\"no\";\"no\";\"telephone\";\"may\";\"mon\";139;1;999;0;\"nonexistent\";1.1;93.994;-36.4;4.857;5191;\"no\"\r\n",
            "41;\"blue-collar\";\"married\";\"unknown\";\"unknown\";\"no\";\"no\";\"telephone\";\"may\";\"mon\";217;1;999;0;\"nonexistent\";1.1;93.994;-36.4;4.857;5191;\"no\"\r\n",
            "24;\"technician\";\"single\";\"professional.course\";\"no\";\"yes\";\"no\";\"telephone\";\"may\";\"mon\";380;1;999;0;\"nonexistent\";1.1;93.994;-36.4;4.857;5191;\"no\"\r\n"
          ]
        }
      ]
    },
    {
      "cell_type": "code",
      "source": [
        "df = spark_session.read.csv(path='data.csv', \n",
        "                            header=True,\n",
        "                            inferSchema=True, \n",
        "                            sep=';')"
      ],
      "metadata": {
        "id": "Fgvc9YXgyE4Y"
      },
      "execution_count": 12,
      "outputs": []
    },
    {
      "cell_type": "code",
      "source": [
        "type(df)"
      ],
      "metadata": {
        "colab": {
          "base_uri": "https://localhost:8080/"
        },
        "id": "G44UP-BOyE0m",
        "outputId": "0cd4f164-b34e-442e-fff9-54ea98c5f6ae"
      },
      "execution_count": 13,
      "outputs": [
        {
          "output_type": "execute_result",
          "data": {
            "text/plain": [
              "pyspark.sql.dataframe.DataFrame"
            ]
          },
          "metadata": {},
          "execution_count": 13
        }
      ]
    },
    {
      "cell_type": "code",
      "source": [
        "df.printSchema()"
      ],
      "metadata": {
        "colab": {
          "base_uri": "https://localhost:8080/"
        },
        "id": "Ix5mSl2cyEyi",
        "outputId": "df2530f6-dca0-4f25-9f74-ad72ed544da8"
      },
      "execution_count": 14,
      "outputs": [
        {
          "output_type": "stream",
          "name": "stdout",
          "text": [
            "root\n",
            " |-- age: integer (nullable = true)\n",
            " |-- job: string (nullable = true)\n",
            " |-- marital: string (nullable = true)\n",
            " |-- education: string (nullable = true)\n",
            " |-- default: string (nullable = true)\n",
            " |-- housing: string (nullable = true)\n",
            " |-- loan: string (nullable = true)\n",
            " |-- contact: string (nullable = true)\n",
            " |-- month: string (nullable = true)\n",
            " |-- day_of_week: string (nullable = true)\n",
            " |-- duration: integer (nullable = true)\n",
            " |-- campaign: integer (nullable = true)\n",
            " |-- pdays: integer (nullable = true)\n",
            " |-- previous: integer (nullable = true)\n",
            " |-- poutcome: string (nullable = true)\n",
            " |-- emp.var.rate: double (nullable = true)\n",
            " |-- cons.price.idx: double (nullable = true)\n",
            " |-- cons.conf.idx: double (nullable = true)\n",
            " |-- euribor3m: double (nullable = true)\n",
            " |-- nr.employed: double (nullable = true)\n",
            " |-- y: string (nullable = true)\n",
            "\n"
          ]
        }
      ]
    },
    {
      "cell_type": "code",
      "source": [
        "df.head(n=10)"
      ],
      "metadata": {
        "colab": {
          "base_uri": "https://localhost:8080/"
        },
        "id": "MQtE3BKwyEu5",
        "outputId": "59f49555-e9d9-4b5c-907b-06b22852f357"
      },
      "execution_count": 15,
      "outputs": [
        {
          "output_type": "execute_result",
          "data": {
            "text/plain": [
              "[Row(age=56, job='housemaid', marital='married', education='basic.4y', default='no', housing='no', loan='no', contact='telephone', month='may', day_of_week='mon', duration=261, campaign=1, pdays=999, previous=0, poutcome='nonexistent', emp.var.rate=1.1, cons.price.idx=93.994, cons.conf.idx=-36.4, euribor3m=4.857, nr.employed=5191.0, y='no'),\n",
              " Row(age=57, job='services', marital='married', education='high.school', default='unknown', housing='no', loan='no', contact='telephone', month='may', day_of_week='mon', duration=149, campaign=1, pdays=999, previous=0, poutcome='nonexistent', emp.var.rate=1.1, cons.price.idx=93.994, cons.conf.idx=-36.4, euribor3m=4.857, nr.employed=5191.0, y='no'),\n",
              " Row(age=37, job='services', marital='married', education='high.school', default='no', housing='yes', loan='no', contact='telephone', month='may', day_of_week='mon', duration=226, campaign=1, pdays=999, previous=0, poutcome='nonexistent', emp.var.rate=1.1, cons.price.idx=93.994, cons.conf.idx=-36.4, euribor3m=4.857, nr.employed=5191.0, y='no'),\n",
              " Row(age=40, job='admin.', marital='married', education='basic.6y', default='no', housing='no', loan='no', contact='telephone', month='may', day_of_week='mon', duration=151, campaign=1, pdays=999, previous=0, poutcome='nonexistent', emp.var.rate=1.1, cons.price.idx=93.994, cons.conf.idx=-36.4, euribor3m=4.857, nr.employed=5191.0, y='no'),\n",
              " Row(age=56, job='services', marital='married', education='high.school', default='no', housing='no', loan='yes', contact='telephone', month='may', day_of_week='mon', duration=307, campaign=1, pdays=999, previous=0, poutcome='nonexistent', emp.var.rate=1.1, cons.price.idx=93.994, cons.conf.idx=-36.4, euribor3m=4.857, nr.employed=5191.0, y='no'),\n",
              " Row(age=45, job='services', marital='married', education='basic.9y', default='unknown', housing='no', loan='no', contact='telephone', month='may', day_of_week='mon', duration=198, campaign=1, pdays=999, previous=0, poutcome='nonexistent', emp.var.rate=1.1, cons.price.idx=93.994, cons.conf.idx=-36.4, euribor3m=4.857, nr.employed=5191.0, y='no'),\n",
              " Row(age=59, job='admin.', marital='married', education='professional.course', default='no', housing='no', loan='no', contact='telephone', month='may', day_of_week='mon', duration=139, campaign=1, pdays=999, previous=0, poutcome='nonexistent', emp.var.rate=1.1, cons.price.idx=93.994, cons.conf.idx=-36.4, euribor3m=4.857, nr.employed=5191.0, y='no'),\n",
              " Row(age=41, job='blue-collar', marital='married', education='unknown', default='unknown', housing='no', loan='no', contact='telephone', month='may', day_of_week='mon', duration=217, campaign=1, pdays=999, previous=0, poutcome='nonexistent', emp.var.rate=1.1, cons.price.idx=93.994, cons.conf.idx=-36.4, euribor3m=4.857, nr.employed=5191.0, y='no'),\n",
              " Row(age=24, job='technician', marital='single', education='professional.course', default='no', housing='yes', loan='no', contact='telephone', month='may', day_of_week='mon', duration=380, campaign=1, pdays=999, previous=0, poutcome='nonexistent', emp.var.rate=1.1, cons.price.idx=93.994, cons.conf.idx=-36.4, euribor3m=4.857, nr.employed=5191.0, y='no'),\n",
              " Row(age=25, job='services', marital='single', education='high.school', default='no', housing='yes', loan='no', contact='telephone', month='may', day_of_week='mon', duration=50, campaign=1, pdays=999, previous=0, poutcome='nonexistent', emp.var.rate=1.1, cons.price.idx=93.994, cons.conf.idx=-36.4, euribor3m=4.857, nr.employed=5191.0, y='no')]"
            ]
          },
          "metadata": {},
          "execution_count": 15
        }
      ]
    },
    {
      "cell_type": "code",
      "source": [
        "df.show(n=10, vertical=False)"
      ],
      "metadata": {
        "colab": {
          "base_uri": "https://localhost:8080/"
        },
        "id": "T38N5GWwyEpD",
        "outputId": "9e4adfcf-5b38-4593-b6fd-2f1e5bfb6a24"
      },
      "execution_count": 16,
      "outputs": [
        {
          "output_type": "stream",
          "name": "stdout",
          "text": [
            "+---+-----------+-------+-------------------+-------+-------+----+---------+-----+-----------+--------+--------+-----+--------+-----------+------------+--------------+-------------+---------+-----------+---+\n",
            "|age|        job|marital|          education|default|housing|loan|  contact|month|day_of_week|duration|campaign|pdays|previous|   poutcome|emp.var.rate|cons.price.idx|cons.conf.idx|euribor3m|nr.employed|  y|\n",
            "+---+-----------+-------+-------------------+-------+-------+----+---------+-----+-----------+--------+--------+-----+--------+-----------+------------+--------------+-------------+---------+-----------+---+\n",
            "| 56|  housemaid|married|           basic.4y|     no|     no|  no|telephone|  may|        mon|     261|       1|  999|       0|nonexistent|         1.1|        93.994|        -36.4|    4.857|     5191.0| no|\n",
            "| 57|   services|married|        high.school|unknown|     no|  no|telephone|  may|        mon|     149|       1|  999|       0|nonexistent|         1.1|        93.994|        -36.4|    4.857|     5191.0| no|\n",
            "| 37|   services|married|        high.school|     no|    yes|  no|telephone|  may|        mon|     226|       1|  999|       0|nonexistent|         1.1|        93.994|        -36.4|    4.857|     5191.0| no|\n",
            "| 40|     admin.|married|           basic.6y|     no|     no|  no|telephone|  may|        mon|     151|       1|  999|       0|nonexistent|         1.1|        93.994|        -36.4|    4.857|     5191.0| no|\n",
            "| 56|   services|married|        high.school|     no|     no| yes|telephone|  may|        mon|     307|       1|  999|       0|nonexistent|         1.1|        93.994|        -36.4|    4.857|     5191.0| no|\n",
            "| 45|   services|married|           basic.9y|unknown|     no|  no|telephone|  may|        mon|     198|       1|  999|       0|nonexistent|         1.1|        93.994|        -36.4|    4.857|     5191.0| no|\n",
            "| 59|     admin.|married|professional.course|     no|     no|  no|telephone|  may|        mon|     139|       1|  999|       0|nonexistent|         1.1|        93.994|        -36.4|    4.857|     5191.0| no|\n",
            "| 41|blue-collar|married|            unknown|unknown|     no|  no|telephone|  may|        mon|     217|       1|  999|       0|nonexistent|         1.1|        93.994|        -36.4|    4.857|     5191.0| no|\n",
            "| 24| technician| single|professional.course|     no|    yes|  no|telephone|  may|        mon|     380|       1|  999|       0|nonexistent|         1.1|        93.994|        -36.4|    4.857|     5191.0| no|\n",
            "| 25|   services| single|        high.school|     no|    yes|  no|telephone|  may|        mon|      50|       1|  999|       0|nonexistent|         1.1|        93.994|        -36.4|    4.857|     5191.0| no|\n",
            "+---+-----------+-------+-------------------+-------+-------+----+---------+-----+-----------+--------+--------+-----+--------+-----------+------------+--------------+-------------+---------+-----------+---+\n",
            "only showing top 10 rows\n",
            "\n"
          ]
        }
      ]
    },
    {
      "cell_type": "code",
      "source": [
        "df.dtypes"
      ],
      "metadata": {
        "colab": {
          "base_uri": "https://localhost:8080/"
        },
        "id": "RbH3uBpYyEnI",
        "outputId": "12530bdb-8047-420a-91a3-f1aa9114bd09"
      },
      "execution_count": 17,
      "outputs": [
        {
          "output_type": "execute_result",
          "data": {
            "text/plain": [
              "[('age', 'int'),\n",
              " ('job', 'string'),\n",
              " ('marital', 'string'),\n",
              " ('education', 'string'),\n",
              " ('default', 'string'),\n",
              " ('housing', 'string'),\n",
              " ('loan', 'string'),\n",
              " ('contact', 'string'),\n",
              " ('month', 'string'),\n",
              " ('day_of_week', 'string'),\n",
              " ('duration', 'int'),\n",
              " ('campaign', 'int'),\n",
              " ('pdays', 'int'),\n",
              " ('previous', 'int'),\n",
              " ('poutcome', 'string'),\n",
              " ('emp.var.rate', 'double'),\n",
              " ('cons.price.idx', 'double'),\n",
              " ('cons.conf.idx', 'double'),\n",
              " ('euribor3m', 'double'),\n",
              " ('nr.employed', 'double'),\n",
              " ('y', 'string')]"
            ]
          },
          "metadata": {},
          "execution_count": 17
        }
      ]
    },
    {
      "cell_type": "code",
      "source": [
        "df.count(), len(df.columns)"
      ],
      "metadata": {
        "colab": {
          "base_uri": "https://localhost:8080/"
        },
        "id": "ibuckUHv2VLC",
        "outputId": "f4435f46-2e7a-4a07-e12b-3b850e7bb514"
      },
      "execution_count": 18,
      "outputs": [
        {
          "output_type": "execute_result",
          "data": {
            "text/plain": [
              "(41188, 21)"
            ]
          },
          "metadata": {},
          "execution_count": 18
        }
      ]
    },
    {
      "cell_type": "code",
      "source": [
        "def dataframe_dim(df: object):\n",
        "    num_rows = df.count()\n",
        "    num_cols = len(df.columns)\n",
        "    return (f'Rows: {num_rows} | Cols: {num_cols}')"
      ],
      "metadata": {
        "id": "hZyJxDwyyEjH"
      },
      "execution_count": 19,
      "outputs": []
    },
    {
      "cell_type": "code",
      "source": [
        "dataframe_dim(df)"
      ],
      "metadata": {
        "colab": {
          "base_uri": "https://localhost:8080/",
          "height": 35
        },
        "id": "_nOzee2yyEgA",
        "outputId": "0fc3e544-24f1-4a77-ec5e-f0acb6a261e6"
      },
      "execution_count": 20,
      "outputs": [
        {
          "output_type": "execute_result",
          "data": {
            "text/plain": [
              "'Rows: 41188 | Cols: 21'"
            ],
            "application/vnd.google.colaboratory.intrinsic+json": {
              "type": "string"
            }
          },
          "metadata": {},
          "execution_count": 20
        }
      ]
    },
    {
      "cell_type": "code",
      "source": [
        "df"
      ],
      "metadata": {
        "colab": {
          "base_uri": "https://localhost:8080/"
        },
        "id": "0EWLH5q_8nfX",
        "outputId": "d30448d0-c24f-47c5-f2f3-8dd8185bfd8b"
      },
      "execution_count": 21,
      "outputs": [
        {
          "output_type": "execute_result",
          "data": {
            "text/plain": [
              "DataFrame[age: int, job: string, marital: string, education: string, default: string, housing: string, loan: string, contact: string, month: string, day_of_week: string, duration: int, campaign: int, pdays: int, previous: int, poutcome: string, emp.var.rate: double, cons.price.idx: double, cons.conf.idx: double, euribor3m: double, nr.employed: double, y: string]"
            ]
          },
          "metadata": {},
          "execution_count": 21
        }
      ]
    },
    {
      "cell_type": "code",
      "source": [
        "df.describe().show(vertical=False)"
      ],
      "metadata": {
        "colab": {
          "base_uri": "https://localhost:8080/"
        },
        "id": "90x8gAgh1joq",
        "outputId": "652a2505-6489-4433-dc25-aa46c4e647a2"
      },
      "execution_count": 22,
      "outputs": [
        {
          "output_type": "stream",
          "name": "stdout",
          "text": [
            "+-------+------------------+-------+--------+---------+-------+-------+-----+---------+-----+-----------+------------------+------------------+-----------------+-------------------+--------+-------------------+------------------+------------------+------------------+-----------------+-----+\n",
            "|summary|               age|    job| marital|education|default|housing| loan|  contact|month|day_of_week|          duration|          campaign|            pdays|           previous|poutcome|       emp.var.rate|    cons.price.idx|     cons.conf.idx|         euribor3m|      nr.employed|    y|\n",
            "+-------+------------------+-------+--------+---------+-------+-------+-----+---------+-----+-----------+------------------+------------------+-----------------+-------------------+--------+-------------------+------------------+------------------+------------------+-----------------+-----+\n",
            "|  count|             41188|  41188|   41188|    41188|  41188|  41188|41188|    41188|41188|      41188|             41188|             41188|            41188|              41188|   41188|              41188|             41188|             41188|             41188|            41188|41188|\n",
            "|   mean| 40.02406040594348|   null|    null|     null|   null|   null| null|     null| null|       null| 258.2850101971448| 2.567592502670681|962.4754540157328|0.17296299893172767|    null|0.08188550063188041| 93.57566436831247|-40.50260027191336|3.6212908128581724|5167.035910942871| null|\n",
            "| stddev|10.421249980934043|   null|    null|     null|   null|   null| null|     null| null|       null|259.27924883646494|2.7700135429023245|186.9109073447411| 0.4949010798392903|    null| 1.5709597405170301|0.5788400489540665|  4.62819785617458|1.7344474048512581|72.25152766826655| null|\n",
            "|    min|                17| admin.|divorced| basic.4y|     no|     no|   no| cellular|  apr|        fri|                 0|                 1|                0|                  0| failure|               -3.4|            92.201|             -50.8|             0.634|           4963.6|   no|\n",
            "|    max|                98|unknown| unknown|  unknown|    yes|    yes|  yes|telephone|  sep|        wed|              4918|                56|              999|                  7| success|                1.4|            94.767|             -26.9|             5.045|           5228.1|  yes|\n",
            "+-------+------------------+-------+--------+---------+-------+-------+-----+---------+-----+-----------+------------------+------------------+-----------------+-------------------+--------+-------------------+------------------+------------------+------------------+-----------------+-----+\n",
            "\n"
          ]
        }
      ]
    },
    {
      "cell_type": "code",
      "source": [
        "df.groupBy('job').count().sort('job').show()"
      ],
      "metadata": {
        "colab": {
          "base_uri": "https://localhost:8080/"
        },
        "id": "kedl_JBF1jmq",
        "outputId": "6df50e5a-233b-486e-8179-af5f38a3085e"
      },
      "execution_count": 23,
      "outputs": [
        {
          "output_type": "stream",
          "name": "stdout",
          "text": [
            "+-------------+-----+\n",
            "|          job|count|\n",
            "+-------------+-----+\n",
            "|       admin.|10422|\n",
            "|  blue-collar| 9254|\n",
            "| entrepreneur| 1456|\n",
            "|    housemaid| 1060|\n",
            "|   management| 2924|\n",
            "|      retired| 1720|\n",
            "|self-employed| 1421|\n",
            "|     services| 3969|\n",
            "|      student|  875|\n",
            "|   technician| 6743|\n",
            "|   unemployed| 1014|\n",
            "|      unknown|  330|\n",
            "+-------------+-----+\n",
            "\n"
          ]
        }
      ]
    },
    {
      "cell_type": "code",
      "source": [
        "df.corr(col1='age', col2='duration')"
      ],
      "metadata": {
        "colab": {
          "base_uri": "https://localhost:8080/"
        },
        "id": "JibNMhxqGM7e",
        "outputId": "1cb79d89-b14f-4b04-b658-c789806a0a22"
      },
      "execution_count": 24,
      "outputs": [
        {
          "output_type": "execute_result",
          "data": {
            "text/plain": [
              "-0.0008657050101409625"
            ]
          },
          "metadata": {},
          "execution_count": 24
        }
      ]
    },
    {
      "cell_type": "code",
      "source": [
        "analysis = df.groupBy('job').count().sort('job').toPandas()"
      ],
      "metadata": {
        "id": "PIjKxwD31jiF"
      },
      "execution_count": 25,
      "outputs": []
    },
    {
      "cell_type": "code",
      "source": [
        "analysis"
      ],
      "metadata": {
        "colab": {
          "base_uri": "https://localhost:8080/",
          "height": 426
        },
        "id": "VYGiwaJh1jg9",
        "outputId": "fec079ef-4f89-405b-a415-9de3c7f5a581"
      },
      "execution_count": 26,
      "outputs": [
        {
          "output_type": "execute_result",
          "data": {
            "text/plain": [
              "              job  count\n",
              "0          admin.  10422\n",
              "1     blue-collar   9254\n",
              "2    entrepreneur   1456\n",
              "3       housemaid   1060\n",
              "4      management   2924\n",
              "5         retired   1720\n",
              "6   self-employed   1421\n",
              "7        services   3969\n",
              "8         student    875\n",
              "9      technician   6743\n",
              "10     unemployed   1014\n",
              "11        unknown    330"
            ],
            "text/html": [
              "\n",
              "  <div id=\"df-bb75c898-00a7-4f64-ad49-d74debe8a028\">\n",
              "    <div class=\"colab-df-container\">\n",
              "      <div>\n",
              "<style scoped>\n",
              "    .dataframe tbody tr th:only-of-type {\n",
              "        vertical-align: middle;\n",
              "    }\n",
              "\n",
              "    .dataframe tbody tr th {\n",
              "        vertical-align: top;\n",
              "    }\n",
              "\n",
              "    .dataframe thead th {\n",
              "        text-align: right;\n",
              "    }\n",
              "</style>\n",
              "<table border=\"1\" class=\"dataframe\">\n",
              "  <thead>\n",
              "    <tr style=\"text-align: right;\">\n",
              "      <th></th>\n",
              "      <th>job</th>\n",
              "      <th>count</th>\n",
              "    </tr>\n",
              "  </thead>\n",
              "  <tbody>\n",
              "    <tr>\n",
              "      <th>0</th>\n",
              "      <td>admin.</td>\n",
              "      <td>10422</td>\n",
              "    </tr>\n",
              "    <tr>\n",
              "      <th>1</th>\n",
              "      <td>blue-collar</td>\n",
              "      <td>9254</td>\n",
              "    </tr>\n",
              "    <tr>\n",
              "      <th>2</th>\n",
              "      <td>entrepreneur</td>\n",
              "      <td>1456</td>\n",
              "    </tr>\n",
              "    <tr>\n",
              "      <th>3</th>\n",
              "      <td>housemaid</td>\n",
              "      <td>1060</td>\n",
              "    </tr>\n",
              "    <tr>\n",
              "      <th>4</th>\n",
              "      <td>management</td>\n",
              "      <td>2924</td>\n",
              "    </tr>\n",
              "    <tr>\n",
              "      <th>5</th>\n",
              "      <td>retired</td>\n",
              "      <td>1720</td>\n",
              "    </tr>\n",
              "    <tr>\n",
              "      <th>6</th>\n",
              "      <td>self-employed</td>\n",
              "      <td>1421</td>\n",
              "    </tr>\n",
              "    <tr>\n",
              "      <th>7</th>\n",
              "      <td>services</td>\n",
              "      <td>3969</td>\n",
              "    </tr>\n",
              "    <tr>\n",
              "      <th>8</th>\n",
              "      <td>student</td>\n",
              "      <td>875</td>\n",
              "    </tr>\n",
              "    <tr>\n",
              "      <th>9</th>\n",
              "      <td>technician</td>\n",
              "      <td>6743</td>\n",
              "    </tr>\n",
              "    <tr>\n",
              "      <th>10</th>\n",
              "      <td>unemployed</td>\n",
              "      <td>1014</td>\n",
              "    </tr>\n",
              "    <tr>\n",
              "      <th>11</th>\n",
              "      <td>unknown</td>\n",
              "      <td>330</td>\n",
              "    </tr>\n",
              "  </tbody>\n",
              "</table>\n",
              "</div>\n",
              "      <button class=\"colab-df-convert\" onclick=\"convertToInteractive('df-bb75c898-00a7-4f64-ad49-d74debe8a028')\"\n",
              "              title=\"Convert this dataframe to an interactive table.\"\n",
              "              style=\"display:none;\">\n",
              "        \n",
              "  <svg xmlns=\"http://www.w3.org/2000/svg\" height=\"24px\"viewBox=\"0 0 24 24\"\n",
              "       width=\"24px\">\n",
              "    <path d=\"M0 0h24v24H0V0z\" fill=\"none\"/>\n",
              "    <path d=\"M18.56 5.44l.94 2.06.94-2.06 2.06-.94-2.06-.94-.94-2.06-.94 2.06-2.06.94zm-11 1L8.5 8.5l.94-2.06 2.06-.94-2.06-.94L8.5 2.5l-.94 2.06-2.06.94zm10 10l.94 2.06.94-2.06 2.06-.94-2.06-.94-.94-2.06-.94 2.06-2.06.94z\"/><path d=\"M17.41 7.96l-1.37-1.37c-.4-.4-.92-.59-1.43-.59-.52 0-1.04.2-1.43.59L10.3 9.45l-7.72 7.72c-.78.78-.78 2.05 0 2.83L4 21.41c.39.39.9.59 1.41.59.51 0 1.02-.2 1.41-.59l7.78-7.78 2.81-2.81c.8-.78.8-2.07 0-2.86zM5.41 20L4 18.59l7.72-7.72 1.47 1.35L5.41 20z\"/>\n",
              "  </svg>\n",
              "      </button>\n",
              "      \n",
              "  <style>\n",
              "    .colab-df-container {\n",
              "      display:flex;\n",
              "      flex-wrap:wrap;\n",
              "      gap: 12px;\n",
              "    }\n",
              "\n",
              "    .colab-df-convert {\n",
              "      background-color: #E8F0FE;\n",
              "      border: none;\n",
              "      border-radius: 50%;\n",
              "      cursor: pointer;\n",
              "      display: none;\n",
              "      fill: #1967D2;\n",
              "      height: 32px;\n",
              "      padding: 0 0 0 0;\n",
              "      width: 32px;\n",
              "    }\n",
              "\n",
              "    .colab-df-convert:hover {\n",
              "      background-color: #E2EBFA;\n",
              "      box-shadow: 0px 1px 2px rgba(60, 64, 67, 0.3), 0px 1px 3px 1px rgba(60, 64, 67, 0.15);\n",
              "      fill: #174EA6;\n",
              "    }\n",
              "\n",
              "    [theme=dark] .colab-df-convert {\n",
              "      background-color: #3B4455;\n",
              "      fill: #D2E3FC;\n",
              "    }\n",
              "\n",
              "    [theme=dark] .colab-df-convert:hover {\n",
              "      background-color: #434B5C;\n",
              "      box-shadow: 0px 1px 3px 1px rgba(0, 0, 0, 0.15);\n",
              "      filter: drop-shadow(0px 1px 2px rgba(0, 0, 0, 0.3));\n",
              "      fill: #FFFFFF;\n",
              "    }\n",
              "  </style>\n",
              "\n",
              "      <script>\n",
              "        const buttonEl =\n",
              "          document.querySelector('#df-bb75c898-00a7-4f64-ad49-d74debe8a028 button.colab-df-convert');\n",
              "        buttonEl.style.display =\n",
              "          google.colab.kernel.accessAllowed ? 'block' : 'none';\n",
              "\n",
              "        async function convertToInteractive(key) {\n",
              "          const element = document.querySelector('#df-bb75c898-00a7-4f64-ad49-d74debe8a028');\n",
              "          const dataTable =\n",
              "            await google.colab.kernel.invokeFunction('convertToInteractive',\n",
              "                                                     [key], {});\n",
              "          if (!dataTable) return;\n",
              "\n",
              "          const docLinkHtml = 'Like what you see? Visit the ' +\n",
              "            '<a target=\"_blank\" href=https://colab.research.google.com/notebooks/data_table.ipynb>data table notebook</a>'\n",
              "            + ' to learn more about interactive tables.';\n",
              "          element.innerHTML = '';\n",
              "          dataTable['output_type'] = 'display_data';\n",
              "          await google.colab.output.renderOutput(dataTable, element);\n",
              "          const docLink = document.createElement('div');\n",
              "          docLink.innerHTML = docLinkHtml;\n",
              "          element.appendChild(docLink);\n",
              "        }\n",
              "      </script>\n",
              "    </div>\n",
              "  </div>\n",
              "  "
            ]
          },
          "metadata": {},
          "execution_count": 26
        }
      ]
    },
    {
      "cell_type": "code",
      "source": [
        "import matplotlib.pyplot as plt\n",
        "import seaborn as sns\n",
        "\n",
        "from pylab import rcParams\n",
        "\n",
        "%matplotlib inline\n",
        "plt.style.use('ggplot')\n",
        "rcParams['figure.figsize'] = 10, 5"
      ],
      "metadata": {
        "id": "4QfHZzm9CcRD"
      },
      "execution_count": 30,
      "outputs": []
    },
    {
      "cell_type": "code",
      "source": [
        "# plt.figure(figsize=(12, 5))\n",
        "\n",
        "plt.bar(analysis['job'], analysis['count'], \n",
        "        color='blue', alpha=0.7)\n",
        "\n",
        "plt.xlabel('\\njob')\n",
        "plt.ylabel('numbers of people\\n')\n",
        "plt.xticks(rotation=45)\n",
        "plt.title('Numbers of people per job\\n', size=16)\n",
        "plt.show()"
      ],
      "metadata": {
        "colab": {
          "base_uri": "https://localhost:8080/",
          "height": 602
        },
        "id": "VuiKz3WS1jdo",
        "outputId": "f143a6e5-19dc-4d27-99a1-184275fe8822"
      },
      "execution_count": 31,
      "outputs": [
        {
          "output_type": "display_data",
          "data": {
            "text/plain": [
              "<Figure size 1000x500 with 1 Axes>"
            ],
            "image/png": "[encoded data removed]"
          },
          "metadata": {}
        }
      ]
    },
    {
      "cell_type": "code",
      "source": [
        "df.groupBy('poutcome').count().show()"
      ],
      "metadata": {
        "colab": {
          "base_uri": "https://localhost:8080/"
        },
        "id": "XEVbzMVO1jbT",
        "outputId": "ad01b6ea-a0dd-4a2e-86a9-9de8286c8a6f"
      },
      "execution_count": 32,
      "outputs": [
        {
          "output_type": "stream",
          "name": "stdout",
          "text": [
            "+-----------+-----+\n",
            "|   poutcome|count|\n",
            "+-----------+-----+\n",
            "|    success| 1373|\n",
            "|    failure| 4252|\n",
            "|nonexistent|35563|\n",
            "+-----------+-----+\n",
            "\n"
          ]
        }
      ]
    },
    {
      "cell_type": "code",
      "source": [
        "class_data = df.select('poutcome').toPandas()['poutcome']"
      ],
      "metadata": {
        "id": "ei34RCrn1jWJ"
      },
      "execution_count": 33,
      "outputs": []
    },
    {
      "cell_type": "code",
      "source": [
        "class_data.tail(n=15)"
      ],
      "metadata": {
        "colab": {
          "base_uri": "https://localhost:8080/"
        },
        "id": "q_kuoD6u1jUA",
        "outputId": "608f9e0d-218e-48ba-8d16-0ae8951fd921"
      },
      "execution_count": 34,
      "outputs": [
        {
          "output_type": "execute_result",
          "data": {
            "text/plain": [
              "41173        failure\n",
              "41174        success\n",
              "41175        failure\n",
              "41176    nonexistent\n",
              "41177    nonexistent\n",
              "41178        success\n",
              "41179    nonexistent\n",
              "41180    nonexistent\n",
              "41181    nonexistent\n",
              "41182        success\n",
              "41183    nonexistent\n",
              "41184    nonexistent\n",
              "41185    nonexistent\n",
              "41186    nonexistent\n",
              "41187        failure\n",
              "Name: poutcome, dtype: object"
            ]
          },
          "metadata": {},
          "execution_count": 34
        }
      ]
    },
    {
      "cell_type": "code",
      "source": [
        "from yellowbrick.target import ClassBalance"
      ],
      "metadata": {
        "id": "9Tb5CNEp1jQk"
      },
      "execution_count": 35,
      "outputs": []
    },
    {
      "cell_type": "code",
      "source": [
        "viz = ClassBalance(labels=['failure', 'nonexistent', 'sucess'])\n",
        "viz.fit(class_data)\n",
        "viz.show();"
      ],
      "metadata": {
        "colab": {
          "base_uri": "https://localhost:8080/",
          "height": 504
        },
        "id": "V0rK5qtF1jOc",
        "outputId": "80f58dc4-6956-44a2-d6b4-ac8d27ff821a"
      },
      "execution_count": 36,
      "outputs": [
        {
          "output_type": "display_data",
          "data": {
            "text/plain": [
              "<Figure size 800x550 with 1 Axes>"
            ],
            "image/png": "[encoded data removed]"
          },
          "metadata": {}
        }
      ]
    },
    {
      "cell_type": "code",
      "source": [
        "df =  df.filter('poutcome != \"nonexistent\"')"
      ],
      "metadata": {
        "id": "ePrhQZFW1jLT"
      },
      "execution_count": 37,
      "outputs": []
    },
    {
      "cell_type": "code",
      "source": [
        "dataframe_dim(df)"
      ],
      "metadata": {
        "colab": {
          "base_uri": "https://localhost:8080/",
          "height": 35
        },
        "id": "vJNeS3BW1jIC",
        "outputId": "c92856e3-e741-4c9a-eab4-9023be435d02"
      },
      "execution_count": 38,
      "outputs": [
        {
          "output_type": "execute_result",
          "data": {
            "text/plain": [
              "'Rows: 5625 | Cols: 21'"
            ],
            "application/vnd.google.colaboratory.intrinsic+json": {
              "type": "string"
            }
          },
          "metadata": {},
          "execution_count": 38
        }
      ]
    },
    {
      "cell_type": "code",
      "source": [
        "df.columns"
      ],
      "metadata": {
        "colab": {
          "base_uri": "https://localhost:8080/"
        },
        "id": "Zvh65WMR2yQz",
        "outputId": "7b4957da-cf69-4373-8fe0-8d1e43a36a2b"
      },
      "execution_count": 39,
      "outputs": [
        {
          "output_type": "execute_result",
          "data": {
            "text/plain": [
              "['age',\n",
              " 'job',\n",
              " 'marital',\n",
              " 'education',\n",
              " 'default',\n",
              " 'housing',\n",
              " 'loan',\n",
              " 'contact',\n",
              " 'month',\n",
              " 'day_of_week',\n",
              " 'duration',\n",
              " 'campaign',\n",
              " 'pdays',\n",
              " 'previous',\n",
              " 'poutcome',\n",
              " 'emp.var.rate',\n",
              " 'cons.price.idx',\n",
              " 'cons.conf.idx',\n",
              " 'euribor3m',\n",
              " 'nr.employed',\n",
              " 'y']"
            ]
          },
          "metadata": {},
          "execution_count": 39
        }
      ]
    },
    {
      "cell_type": "code",
      "source": [
        "df2 = df.select(\n",
        "    'age',\n",
        "    'job',\n",
        "    'marital',\n",
        "    'education',\n",
        "    'default',\n",
        "    'housing',\n",
        "    'loan',\n",
        "    'contact',\n",
        "    'month',\n",
        "    'day_of_week',\n",
        "    'duration',\n",
        "    'campaign',\n",
        "    'pdays',\n",
        "    'previous',\n",
        "    'poutcome'\n",
        ")"
      ],
      "metadata": {
        "id": "yK3iCTsj2_Na"
      },
      "execution_count": 40,
      "outputs": []
    },
    {
      "cell_type": "code",
      "source": [
        "df2.show(n=20)"
      ],
      "metadata": {
        "colab": {
          "base_uri": "https://localhost:8080/"
        },
        "id": "t4dDJ8Ea3Z46",
        "outputId": "2096ebad-3b69-4ba9-9033-801d128a28ee"
      },
      "execution_count": 41,
      "outputs": [
        {
          "output_type": "stream",
          "name": "stdout",
          "text": [
            "+---+-------------+--------+-------------------+-------+-------+----+---------+-----+-----------+--------+--------+-----+--------+--------+\n",
            "|age|          job| marital|          education|default|housing|loan|  contact|month|day_of_week|duration|campaign|pdays|previous|poutcome|\n",
            "+---+-------------+--------+-------------------+-------+-------+----+---------+-----+-----------+--------+--------+-----+--------+--------+\n",
            "| 38|  blue-collar|  single|            unknown|     no|    yes|  no|telephone|  oct|        tue|      39|       1|  999|       1| failure|\n",
            "| 40|     services| married|        high.school|     no|    yes|  no|telephone|  oct|        tue|     144|       1|  999|       1| failure|\n",
            "| 36|       admin.| married|  university.degree|     no|    yes|  no|telephone|  nov|        wed|     449|       1|  999|       1| failure|\n",
            "| 36|       admin.| married|        high.school|     no|    yes|  no|telephone|  nov|        wed|     114|       1|  999|       1| failure|\n",
            "| 37|       admin.| married|  university.degree|     no|    yes|  no|telephone|  nov|        wed|     119|       1|    6|       1| success|\n",
            "| 29|self-employed| married|  university.degree|     no|    yes|  no|telephone|  nov|        thu|      86|       1|  999|       1| failure|\n",
            "| 42|   technician|divorced|professional.course|     no|     no|  no| cellular|  nov|        mon|     200|       1|  999|       1| failure|\n",
            "| 34|       admin.|  single|        high.school|     no|     no|  no| cellular|  nov|        mon|     303|       1|  999|       1| failure|\n",
            "| 44|   management| married|  university.degree|     no|    yes|  no| cellular|  nov|        mon|     130|       1|  999|       1| failure|\n",
            "| 51|   technician| married|            unknown|     no|     no|  no| cellular|  nov|        mon|     324|       1|  999|       1| failure|\n",
            "| 52|       admin.| married|  university.degree|     no|    yes| yes| cellular|  nov|        mon|     161|       1|  999|       1| failure|\n",
            "| 41| entrepreneur| married|  university.degree|     no|    yes|  no| cellular|  nov|        mon|     163|       1|  999|       1| failure|\n",
            "| 44|      retired|  single|           basic.9y|     no|     no|  no| cellular|  nov|        mon|     115|       1|  999|       1| failure|\n",
            "| 36|   unemployed|divorced|        high.school|     no|    yes| yes| cellular|  nov|        mon|      68|       1|  999|       1| failure|\n",
            "| 50| entrepreneur| married|  university.degree|     no|     no|  no| cellular|  nov|        mon|     134|       1|  999|       1| failure|\n",
            "| 41|       admin.| married|        high.school|     no|     no|  no| cellular|  nov|        mon|     297|       1|  999|       1| failure|\n",
            "| 50|  blue-collar| married|           basic.6y|unknown|     no| yes| cellular|  nov|        mon|     120|       1|  999|       1| failure|\n",
            "| 43|     services| married|           basic.4y|     no|     no|  no| cellular|  nov|        mon|      75|       1|  999|       1| failure|\n",
            "| 31|   technician|  single|  university.degree|     no|    yes|  no| cellular|  nov|        mon|     396|       1|  999|       1| failure|\n",
            "| 39|       admin.| married|  university.degree|     no|    yes|  no| cellular|  nov|        mon|      44|       1|  999|       1| failure|\n",
            "+---+-------------+--------+-------------------+-------+-------+----+---------+-----+-----------+--------+--------+-----+--------+--------+\n",
            "only showing top 20 rows\n",
            "\n"
          ]
        }
      ]
    },
    {
      "cell_type": "code",
      "source": [
        "from pyspark.ml.feature import StringIndexer"
      ],
      "metadata": {
        "id": "IE_8Unr662oR"
      },
      "execution_count": 42,
      "outputs": []
    },
    {
      "cell_type": "code",
      "source": [
        "indexer = StringIndexer(\n",
        "    inputCols=[\n",
        "        'job', 'marital', 'education', 'default', \n",
        "        'housing', 'loan', 'contact', 'month', \n",
        "        'day_of_week', \n",
        "        'poutcome'\n",
        "    ],\n",
        "    outputCols=[\n",
        "        'job_cat', 'marital_cat', 'education_cat', 'default_cat', \n",
        "        'housing_cat', 'loan_cat', 'contact_cat', 'month_cat', \n",
        "        'day_of_week_cat', \n",
        "        'poutcome_cat'\n",
        "    ]\n",
        ")"
      ],
      "metadata": {
        "id": "bTXtioG3_6ZD"
      },
      "execution_count": 43,
      "outputs": []
    },
    {
      "cell_type": "code",
      "source": [
        "indexed = indexer.fit(df2).transform(df2)"
      ],
      "metadata": {
        "id": "-fDgKJzNETEG"
      },
      "execution_count": 44,
      "outputs": []
    },
    {
      "cell_type": "code",
      "source": [
        "indexed.columns"
      ],
      "metadata": {
        "colab": {
          "base_uri": "https://localhost:8080/"
        },
        "id": "GkjZXVMP7IQg",
        "outputId": "a3d7d3bb-3a85-4c18-8de4-2ebfacc3c935"
      },
      "execution_count": 45,
      "outputs": [
        {
          "output_type": "execute_result",
          "data": {
            "text/plain": [
              "['age',\n",
              " 'job',\n",
              " 'marital',\n",
              " 'education',\n",
              " 'default',\n",
              " 'housing',\n",
              " 'loan',\n",
              " 'contact',\n",
              " 'month',\n",
              " 'day_of_week',\n",
              " 'duration',\n",
              " 'campaign',\n",
              " 'pdays',\n",
              " 'previous',\n",
              " 'poutcome',\n",
              " 'job_cat',\n",
              " 'marital_cat',\n",
              " 'education_cat',\n",
              " 'default_cat',\n",
              " 'housing_cat',\n",
              " 'loan_cat',\n",
              " 'contact_cat',\n",
              " 'month_cat',\n",
              " 'day_of_week_cat',\n",
              " 'poutcome_cat']"
            ]
          },
          "metadata": {},
          "execution_count": 45
        }
      ]
    },
    {
      "cell_type": "code",
      "source": [
        "df2 = indexed.select(\n",
        "    'age',\n",
        "    'duration',\n",
        "    'campaign',\n",
        "    'pdays',\n",
        "    'previous',\n",
        "    'job_cat',\n",
        "    'marital_cat',\n",
        "    'education_cat',\n",
        "    'default_cat',\n",
        "    'housing_cat',\n",
        "    'loan_cat',\n",
        "    'contact_cat',\n",
        "    'month_cat',\n",
        "    'day_of_week_cat',\n",
        "    'poutcome_cat'\n",
        ")"
      ],
      "metadata": {
        "id": "Nio6G2WtBe8N"
      },
      "execution_count": 46,
      "outputs": []
    },
    {
      "cell_type": "code",
      "source": [
        "df2.show()"
      ],
      "metadata": {
        "colab": {
          "base_uri": "https://localhost:8080/"
        },
        "id": "dWY0esV0D4F1",
        "outputId": "f29c523c-2d39-49c1-a72a-ff813c216398"
      },
      "execution_count": 47,
      "outputs": [
        {
          "output_type": "stream",
          "name": "stdout",
          "text": [
            "+---+--------+--------+-----+--------+-------+-----------+-------------+-----------+-----------+--------+-----------+---------+---------------+------------+\n",
            "|age|duration|campaign|pdays|previous|job_cat|marital_cat|education_cat|default_cat|housing_cat|loan_cat|contact_cat|month_cat|day_of_week_cat|poutcome_cat|\n",
            "+---+--------+--------+-----+--------+-------+-----------+-------------+-----------+-----------+--------+-----------+---------+---------------+------------+\n",
            "| 38|      39|       1|  999|       1|    1.0|        1.0|          5.0|        0.0|        0.0|     0.0|        1.0|      5.0|            3.0|         0.0|\n",
            "| 40|     144|       1|  999|       1|    3.0|        0.0|          1.0|        0.0|        0.0|     0.0|        1.0|      5.0|            3.0|         0.0|\n",
            "| 36|     449|       1|  999|       1|    0.0|        0.0|          0.0|        0.0|        0.0|     0.0|        1.0|      1.0|            4.0|         0.0|\n",
            "| 36|     114|       1|  999|       1|    0.0|        0.0|          1.0|        0.0|        0.0|     0.0|        1.0|      1.0|            4.0|         0.0|\n",
            "| 37|     119|       1|    6|       1|    0.0|        0.0|          0.0|        0.0|        0.0|     0.0|        1.0|      1.0|            4.0|         1.0|\n",
            "| 29|      86|       1|  999|       1|    8.0|        0.0|          0.0|        0.0|        0.0|     0.0|        1.0|      1.0|            0.0|         0.0|\n",
            "| 42|     200|       1|  999|       1|    2.0|        2.0|          3.0|        0.0|        1.0|     0.0|        0.0|      1.0|            1.0|         0.0|\n",
            "| 34|     303|       1|  999|       1|    0.0|        1.0|          1.0|        0.0|        1.0|     0.0|        0.0|      1.0|            1.0|         0.0|\n",
            "| 44|     130|       1|  999|       1|    4.0|        0.0|          0.0|        0.0|        0.0|     0.0|        0.0|      1.0|            1.0|         0.0|\n",
            "| 51|     324|       1|  999|       1|    2.0|        0.0|          5.0|        0.0|        1.0|     0.0|        0.0|      1.0|            1.0|         0.0|\n",
            "| 52|     161|       1|  999|       1|    0.0|        0.0|          0.0|        0.0|        0.0|     1.0|        0.0|      1.0|            1.0|         0.0|\n",
            "| 41|     163|       1|  999|       1|    7.0|        0.0|          0.0|        0.0|        0.0|     0.0|        0.0|      1.0|            1.0|         0.0|\n",
            "| 44|     115|       1|  999|       1|    5.0|        1.0|          2.0|        0.0|        1.0|     0.0|        0.0|      1.0|            1.0|         0.0|\n",
            "| 36|      68|       1|  999|       1|    9.0|        2.0|          1.0|        0.0|        0.0|     1.0|        0.0|      1.0|            1.0|         0.0|\n",
            "| 50|     134|       1|  999|       1|    7.0|        0.0|          0.0|        0.0|        1.0|     0.0|        0.0|      1.0|            1.0|         0.0|\n",
            "| 41|     297|       1|  999|       1|    0.0|        0.0|          1.0|        0.0|        1.0|     0.0|        0.0|      1.0|            1.0|         0.0|\n",
            "| 50|     120|       1|  999|       1|    1.0|        0.0|          6.0|        1.0|        1.0|     1.0|        0.0|      1.0|            1.0|         0.0|\n",
            "| 43|      75|       1|  999|       1|    3.0|        0.0|          4.0|        0.0|        1.0|     0.0|        0.0|      1.0|            1.0|         0.0|\n",
            "| 31|     396|       1|  999|       1|    2.0|        1.0|          0.0|        0.0|        0.0|     0.0|        0.0|      1.0|            1.0|         0.0|\n",
            "| 39|      44|       1|  999|       1|    0.0|        0.0|          0.0|        0.0|        0.0|     0.0|        0.0|      1.0|            1.0|         0.0|\n",
            "+---+--------+--------+-----+--------+-------+-----------+-------------+-----------+-----------+--------+-----------+---------+---------------+------------+\n",
            "only showing top 20 rows\n",
            "\n"
          ]
        }
      ]
    },
    {
      "cell_type": "code",
      "source": [
        "df2.dtypes"
      ],
      "metadata": {
        "colab": {
          "base_uri": "https://localhost:8080/"
        },
        "id": "2TkNb9mTJPGC",
        "outputId": "001a7e9e-9dd8-475b-dc8f-97db6d705046"
      },
      "execution_count": 48,
      "outputs": [
        {
          "output_type": "execute_result",
          "data": {
            "text/plain": [
              "[('age', 'int'),\n",
              " ('duration', 'int'),\n",
              " ('campaign', 'int'),\n",
              " ('pdays', 'int'),\n",
              " ('previous', 'int'),\n",
              " ('job_cat', 'double'),\n",
              " ('marital_cat', 'double'),\n",
              " ('education_cat', 'double'),\n",
              " ('default_cat', 'double'),\n",
              " ('housing_cat', 'double'),\n",
              " ('loan_cat', 'double'),\n",
              " ('contact_cat', 'double'),\n",
              " ('month_cat', 'double'),\n",
              " ('day_of_week_cat', 'double'),\n",
              " ('poutcome_cat', 'double')]"
            ]
          },
          "metadata": {},
          "execution_count": 48
        }
      ]
    },
    {
      "cell_type": "code",
      "source": [
        "from pyspark.ml.feature import VectorAssembler"
      ],
      "metadata": {
        "id": "2V9OuWSxCLF8"
      },
      "execution_count": 49,
      "outputs": []
    },
    {
      "cell_type": "code",
      "source": [
        "data_selection = VectorAssembler(\n",
        "    inputCols=df2.drop('poutcome_cat').columns,\n",
        "    outputCol='characteristic_variables'\n",
        ")"
      ],
      "metadata": {
        "id": "xDI_iiv96HhB"
      },
      "execution_count": 50,
      "outputs": []
    },
    {
      "cell_type": "code",
      "source": [
        "out = data_selection.transform(df2)"
      ],
      "metadata": {
        "id": "_djHtbwg6HfY"
      },
      "execution_count": 51,
      "outputs": []
    },
    {
      "cell_type": "code",
      "source": [
        "out.show()"
      ],
      "metadata": {
        "colab": {
          "base_uri": "https://localhost:8080/"
        },
        "id": "NpUUjhdlDUyE",
        "outputId": "e1f39be2-27af-4779-e274-053efdf7858b"
      },
      "execution_count": 52,
      "outputs": [
        {
          "output_type": "stream",
          "name": "stdout",
          "text": [
            "+---+--------+--------+-----+--------+-------+-----------+-------------+-----------+-----------+--------+-----------+---------+---------------+------------+------------------------+\n",
            "|age|duration|campaign|pdays|previous|job_cat|marital_cat|education_cat|default_cat|housing_cat|loan_cat|contact_cat|month_cat|day_of_week_cat|poutcome_cat|characteristic_variables|\n",
            "+---+--------+--------+-----+--------+-------+-----------+-------------+-----------+-----------+--------+-----------+---------+---------------+------------+------------------------+\n",
            "| 38|      39|       1|  999|       1|    1.0|        1.0|          5.0|        0.0|        0.0|     0.0|        1.0|      5.0|            3.0|         0.0|    [38.0,39.0,1.0,99...|\n",
            "| 40|     144|       1|  999|       1|    3.0|        0.0|          1.0|        0.0|        0.0|     0.0|        1.0|      5.0|            3.0|         0.0|    [40.0,144.0,1.0,9...|\n",
            "| 36|     449|       1|  999|       1|    0.0|        0.0|          0.0|        0.0|        0.0|     0.0|        1.0|      1.0|            4.0|         0.0|    (14,[0,1,2,3,4,11...|\n",
            "| 36|     114|       1|  999|       1|    0.0|        0.0|          1.0|        0.0|        0.0|     0.0|        1.0|      1.0|            4.0|         0.0|    [36.0,114.0,1.0,9...|\n",
            "| 37|     119|       1|    6|       1|    0.0|        0.0|          0.0|        0.0|        0.0|     0.0|        1.0|      1.0|            4.0|         1.0|    (14,[0,1,2,3,4,11...|\n",
            "| 29|      86|       1|  999|       1|    8.0|        0.0|          0.0|        0.0|        0.0|     0.0|        1.0|      1.0|            0.0|         0.0|    (14,[0,1,2,3,4,5,...|\n",
            "| 42|     200|       1|  999|       1|    2.0|        2.0|          3.0|        0.0|        1.0|     0.0|        0.0|      1.0|            1.0|         0.0|    [42.0,200.0,1.0,9...|\n",
            "| 34|     303|       1|  999|       1|    0.0|        1.0|          1.0|        0.0|        1.0|     0.0|        0.0|      1.0|            1.0|         0.0|    [34.0,303.0,1.0,9...|\n",
            "| 44|     130|       1|  999|       1|    4.0|        0.0|          0.0|        0.0|        0.0|     0.0|        0.0|      1.0|            1.0|         0.0|    (14,[0,1,2,3,4,5,...|\n",
            "| 51|     324|       1|  999|       1|    2.0|        0.0|          5.0|        0.0|        1.0|     0.0|        0.0|      1.0|            1.0|         0.0|    [51.0,324.0,1.0,9...|\n",
            "| 52|     161|       1|  999|       1|    0.0|        0.0|          0.0|        0.0|        0.0|     1.0|        0.0|      1.0|            1.0|         0.0|    (14,[0,1,2,3,4,10...|\n",
            "| 41|     163|       1|  999|       1|    7.0|        0.0|          0.0|        0.0|        0.0|     0.0|        0.0|      1.0|            1.0|         0.0|    (14,[0,1,2,3,4,5,...|\n",
            "| 44|     115|       1|  999|       1|    5.0|        1.0|          2.0|        0.0|        1.0|     0.0|        0.0|      1.0|            1.0|         0.0|    [44.0,115.0,1.0,9...|\n",
            "| 36|      68|       1|  999|       1|    9.0|        2.0|          1.0|        0.0|        0.0|     1.0|        0.0|      1.0|            1.0|         0.0|    [36.0,68.0,1.0,99...|\n",
            "| 50|     134|       1|  999|       1|    7.0|        0.0|          0.0|        0.0|        1.0|     0.0|        0.0|      1.0|            1.0|         0.0|    [50.0,134.0,1.0,9...|\n",
            "| 41|     297|       1|  999|       1|    0.0|        0.0|          1.0|        0.0|        1.0|     0.0|        0.0|      1.0|            1.0|         0.0|    [41.0,297.0,1.0,9...|\n",
            "| 50|     120|       1|  999|       1|    1.0|        0.0|          6.0|        1.0|        1.0|     1.0|        0.0|      1.0|            1.0|         0.0|    [50.0,120.0,1.0,9...|\n",
            "| 43|      75|       1|  999|       1|    3.0|        0.0|          4.0|        0.0|        1.0|     0.0|        0.0|      1.0|            1.0|         0.0|    [43.0,75.0,1.0,99...|\n",
            "| 31|     396|       1|  999|       1|    2.0|        1.0|          0.0|        0.0|        0.0|     0.0|        0.0|      1.0|            1.0|         0.0|    [31.0,396.0,1.0,9...|\n",
            "| 39|      44|       1|  999|       1|    0.0|        0.0|          0.0|        0.0|        0.0|     0.0|        0.0|      1.0|            1.0|         0.0|    (14,[0,1,2,3,4,12...|\n",
            "+---+--------+--------+-----+--------+-------+-----------+-------------+-----------+-----------+--------+-----------+---------+---------------+------------+------------------------+\n",
            "only showing top 20 rows\n",
            "\n"
          ]
        }
      ]
    },
    {
      "cell_type": "code",
      "source": [
        "input_data = out.select('characteristic_variables', \n",
        "                        'poutcome_cat')"
      ],
      "metadata": {
        "id": "DM6s2zrS6Hbx"
      },
      "execution_count": 53,
      "outputs": []
    },
    {
      "cell_type": "code",
      "source": [
        "input_data.head(n=5)"
      ],
      "metadata": {
        "colab": {
          "base_uri": "https://localhost:8080/"
        },
        "id": "ZU-L8FD16Hab",
        "outputId": "82bbe32f-bcad-43da-ac2d-8e668006bd69"
      },
      "execution_count": 54,
      "outputs": [
        {
          "output_type": "execute_result",
          "data": {
            "text/plain": [
              "[Row(characteristic_variables=DenseVector([38.0, 39.0, 1.0, 999.0, 1.0, 1.0, 1.0, 5.0, 0.0, 0.0, 0.0, 1.0, 5.0, 3.0]), poutcome_cat=0.0),\n",
              " Row(characteristic_variables=DenseVector([40.0, 144.0, 1.0, 999.0, 1.0, 3.0, 0.0, 1.0, 0.0, 0.0, 0.0, 1.0, 5.0, 3.0]), poutcome_cat=0.0),\n",
              " Row(characteristic_variables=SparseVector(14, {0: 36.0, 1: 449.0, 2: 1.0, 3: 999.0, 4: 1.0, 11: 1.0, 12: 1.0, 13: 4.0}), poutcome_cat=0.0),\n",
              " Row(characteristic_variables=DenseVector([36.0, 114.0, 1.0, 999.0, 1.0, 0.0, 0.0, 1.0, 0.0, 0.0, 0.0, 1.0, 1.0, 4.0]), poutcome_cat=0.0),\n",
              " Row(characteristic_variables=SparseVector(14, {0: 37.0, 1: 119.0, 2: 1.0, 3: 6.0, 4: 1.0, 11: 1.0, 12: 1.0, 13: 4.0}), poutcome_cat=1.0)]"
            ]
          },
          "metadata": {},
          "execution_count": 54
        }
      ]
    },
    {
      "cell_type": "code",
      "source": [
        "input_data.show()"
      ],
      "metadata": {
        "colab": {
          "base_uri": "https://localhost:8080/"
        },
        "id": "9GoC2DhTDeOk",
        "outputId": "f845e40e-b2ae-4afa-8f43-45d50f88e5ba"
      },
      "execution_count": 55,
      "outputs": [
        {
          "output_type": "stream",
          "name": "stdout",
          "text": [
            "+------------------------+------------+\n",
            "|characteristic_variables|poutcome_cat|\n",
            "+------------------------+------------+\n",
            "|    [38.0,39.0,1.0,99...|         0.0|\n",
            "|    [40.0,144.0,1.0,9...|         0.0|\n",
            "|    (14,[0,1,2,3,4,11...|         0.0|\n",
            "|    [36.0,114.0,1.0,9...|         0.0|\n",
            "|    (14,[0,1,2,3,4,11...|         1.0|\n",
            "|    (14,[0,1,2,3,4,5,...|         0.0|\n",
            "|    [42.0,200.0,1.0,9...|         0.0|\n",
            "|    [34.0,303.0,1.0,9...|         0.0|\n",
            "|    (14,[0,1,2,3,4,5,...|         0.0|\n",
            "|    [51.0,324.0,1.0,9...|         0.0|\n",
            "|    (14,[0,1,2,3,4,10...|         0.0|\n",
            "|    (14,[0,1,2,3,4,5,...|         0.0|\n",
            "|    [44.0,115.0,1.0,9...|         0.0|\n",
            "|    [36.0,68.0,1.0,99...|         0.0|\n",
            "|    [50.0,134.0,1.0,9...|         0.0|\n",
            "|    [41.0,297.0,1.0,9...|         0.0|\n",
            "|    [50.0,120.0,1.0,9...|         0.0|\n",
            "|    [43.0,75.0,1.0,99...|         0.0|\n",
            "|    [31.0,396.0,1.0,9...|         0.0|\n",
            "|    (14,[0,1,2,3,4,12...|         0.0|\n",
            "+------------------------+------------+\n",
            "only showing top 20 rows\n",
            "\n"
          ]
        }
      ]
    },
    {
      "cell_type": "code",
      "source": [
        "(train_data, val_data) = input_data.randomSplit(\n",
        "    weights=[0.75, 0.25], seed=1522\n",
        ")"
      ],
      "metadata": {
        "id": "VEUPL_Gh6HW5"
      },
      "execution_count": 57,
      "outputs": []
    },
    {
      "cell_type": "code",
      "source": [
        "train_data.show()"
      ],
      "metadata": {
        "colab": {
          "base_uri": "https://localhost:8080/"
        },
        "id": "-MqYNwhdDkms",
        "outputId": "4c026527-07b4-4437-a98f-7fe55912efbb"
      },
      "execution_count": 58,
      "outputs": [
        {
          "output_type": "stream",
          "name": "stdout",
          "text": [
            "+------------------------+------------+\n",
            "|characteristic_variables|poutcome_cat|\n",
            "+------------------------+------------+\n",
            "|    (14,[0,1,2,3,4],[...|         0.0|\n",
            "|    (14,[0,1,2,3,4],[...|         0.0|\n",
            "|    (14,[0,1,2,3,4],[...|         0.0|\n",
            "|    (14,[0,1,2,3,4],[...|         0.0|\n",
            "|    (14,[0,1,2,3,4],[...|         0.0|\n",
            "|    (14,[0,1,2,3,4,5,...|         0.0|\n",
            "|    (14,[0,1,2,3,4,5,...|         0.0|\n",
            "|    (14,[0,1,2,3,4,5,...|         0.0|\n",
            "|    (14,[0,1,2,3,4,5,...|         0.0|\n",
            "|    (14,[0,1,2,3,4,5,...|         0.0|\n",
            "|    (14,[0,1,2,3,4,5,...|         0.0|\n",
            "|    (14,[0,1,2,3,4,5,...|         0.0|\n",
            "|    (14,[0,1,2,3,4,5,...|         0.0|\n",
            "|    (14,[0,1,2,3,4,5,...|         0.0|\n",
            "|    (14,[0,1,2,3,4,5,...|         0.0|\n",
            "|    (14,[0,1,2,3,4,5,...|         0.0|\n",
            "|    (14,[0,1,2,3,4,5,...|         0.0|\n",
            "|    (14,[0,1,2,3,4,5,...|         0.0|\n",
            "|    (14,[0,1,2,3,4,5,...|         0.0|\n",
            "|    (14,[0,1,2,3,4,5,...|         0.0|\n",
            "+------------------------+------------+\n",
            "only showing top 20 rows\n",
            "\n"
          ]
        }
      ]
    },
    {
      "cell_type": "code",
      "source": [
        "val_data.show()"
      ],
      "metadata": {
        "colab": {
          "base_uri": "https://localhost:8080/"
        },
        "id": "oeLG6L0IDn5c",
        "outputId": "05001870-0f3b-4d1a-ccaf-f40430b8540f"
      },
      "execution_count": 59,
      "outputs": [
        {
          "output_type": "stream",
          "name": "stdout",
          "text": [
            "+------------------------+------------+\n",
            "|characteristic_variables|poutcome_cat|\n",
            "+------------------------+------------+\n",
            "|    (14,[0,1,2,3,4,5]...|         0.0|\n",
            "|    (14,[0,1,2,3,4,5]...|         0.0|\n",
            "|    (14,[0,1,2,3,4,5,...|         0.0|\n",
            "|    (14,[0,1,2,3,4,5,...|         0.0|\n",
            "|    (14,[0,1,2,3,4,5,...|         0.0|\n",
            "|    (14,[0,1,2,3,4,5,...|         0.0|\n",
            "|    (14,[0,1,2,3,4,5,...|         0.0|\n",
            "|    (14,[0,1,2,3,4,5,...|         0.0|\n",
            "|    (14,[0,1,2,3,4,5,...|         0.0|\n",
            "|    (14,[0,1,2,3,4,5,...|         0.0|\n",
            "|    (14,[0,1,2,3,4,5,...|         0.0|\n",
            "|    (14,[0,1,2,3,4,5,...|         0.0|\n",
            "|    (14,[0,1,2,3,4,5,...|         0.0|\n",
            "|    (14,[0,1,2,3,4,5,...|         0.0|\n",
            "|    (14,[0,1,2,3,4,5,...|         0.0|\n",
            "|    (14,[0,1,2,3,4,5,...|         0.0|\n",
            "|    (14,[0,1,2,3,4,5,...|         0.0|\n",
            "|    (14,[0,1,2,3,4,5,...|         0.0|\n",
            "|    (14,[0,1,2,3,4,5,...|         0.0|\n",
            "|    (14,[0,1,2,3,4,5,...|         0.0|\n",
            "+------------------------+------------+\n",
            "only showing top 20 rows\n",
            "\n"
          ]
        }
      ]
    },
    {
      "cell_type": "code",
      "source": [
        "from pyspark.ml.classification import (LogisticRegression, \n",
        "                                       DecisionTreeClassifier,\n",
        "                                       RandomForestClassifier, \n",
        "                                       NaiveBayes)"
      ],
      "metadata": {
        "id": "tXr-IJGDCXd8"
      },
      "execution_count": 60,
      "outputs": []
    },
    {
      "cell_type": "code",
      "source": [
        "mdl_logReg = LogisticRegression(\n",
        "    featuresCol='characteristic_variables',\n",
        "    labelCol='poutcome_cat'\n",
        ")\n",
        "\n",
        "mdl_decTree = DecisionTreeClassifier(\n",
        "    featuresCol='characteristic_variables',\n",
        "    labelCol='poutcome_cat'\n",
        ")\n",
        "\n",
        "mdl_randFor = RandomForestClassifier(\n",
        "    featuresCol='characteristic_variables',\n",
        "    labelCol='poutcome_cat'\n",
        ")\n",
        "\n",
        "mdl_nBayes = NaiveBayes(\n",
        "    featuresCol='characteristic_variables',\n",
        "    labelCol='poutcome_cat'\n",
        ")"
      ],
      "metadata": {
        "id": "gE5FQr0I6HVg"
      },
      "execution_count": 61,
      "outputs": []
    },
    {
      "cell_type": "code",
      "source": [
        "mdl_training_logReg = mdl_logReg.fit(train_data)\n",
        "mdl_training_decTree = mdl_decTree.fit(train_data)\n",
        "mdl_training_randFor = mdl_randFor.fit(train_data)\n",
        "mdl_training_nBayes = mdl_nBayes.fit(train_data)"
      ],
      "metadata": {
        "id": "SuXtZ5SR6HR_"
      },
      "execution_count": 62,
      "outputs": []
    },
    {
      "cell_type": "code",
      "source": [
        "pred_logReg = mdl_training_logReg.transform(val_data)\n",
        "pred_decTree = mdl_training_decTree.transform(val_data)\n",
        "pred_randFor = mdl_training_randFor.transform(val_data)\n",
        "pred_nBayes = mdl_training_nBayes.transform(val_data)"
      ],
      "metadata": {
        "id": "bkEHuoCN6HQn"
      },
      "execution_count": 63,
      "outputs": []
    },
    {
      "cell_type": "code",
      "source": [
        "pred_logReg.show(n=50)"
      ],
      "metadata": {
        "colab": {
          "base_uri": "https://localhost:8080/"
        },
        "id": "jkCJTmfe6HNM",
        "outputId": "9ff56c80-3e04-4a7c-a2f5-178320cf0539"
      },
      "execution_count": 64,
      "outputs": [
        {
          "output_type": "stream",
          "name": "stdout",
          "text": [
            "+------------------------+------------+--------------------+--------------------+----------+\n",
            "|characteristic_variables|poutcome_cat|       rawPrediction|         probability|prediction|\n",
            "+------------------------+------------+--------------------+--------------------+----------+\n",
            "|    (14,[0,1,2,3,4,5]...|         0.0|[324.532436452801...|           [1.0,0.0]|       0.0|\n",
            "|    (14,[0,1,2,3,4,5]...|         0.0|[324.433881817242...|           [1.0,0.0]|       0.0|\n",
            "|    (14,[0,1,2,3,4,5,...|         0.0|[324.436516716188...|           [1.0,0.0]|       0.0|\n",
            "|    (14,[0,1,2,3,4,5,...|         0.0|[324.214575754290...|           [1.0,0.0]|       0.0|\n",
            "|    (14,[0,1,2,3,4,5,...|         0.0|[324.660534324742...|           [1.0,0.0]|       0.0|\n",
            "|    (14,[0,1,2,3,4,5,...|         0.0|[324.183524293602...|           [1.0,0.0]|       0.0|\n",
            "|    (14,[0,1,2,3,4,5,...|         0.0|[324.197134997844...|           [1.0,0.0]|       0.0|\n",
            "|    (14,[0,1,2,3,4,5,...|         0.0|[324.164576965886...|           [1.0,0.0]|       0.0|\n",
            "|    (14,[0,1,2,3,4,5,...|         0.0|[324.176851590429...|           [1.0,0.0]|       0.0|\n",
            "|    (14,[0,1,2,3,4,5,...|         0.0|[324.455837237341...|           [1.0,0.0]|       0.0|\n",
            "|    (14,[0,1,2,3,4,5,...|         0.0|[324.190181748874...|           [1.0,0.0]|       0.0|\n",
            "|    (14,[0,1,2,3,4,5,...|         0.0|[324.226761681738...|           [1.0,0.0]|       0.0|\n",
            "|    (14,[0,1,2,3,4,5,...|         0.0|[324.321325887629...|           [1.0,0.0]|       0.0|\n",
            "|    (14,[0,1,2,3,4,5,...|         0.0|[324.141866495318...|           [1.0,0.0]|       0.0|\n",
            "|    (14,[0,1,2,3,4,5,...|         0.0|[324.172951287590...|           [1.0,0.0]|       0.0|\n",
            "|    (14,[0,1,2,3,4,5,...|         0.0|[324.420228503219...|           [1.0,0.0]|       0.0|\n",
            "|    (14,[0,1,2,3,4,5,...|         0.0|[324.394645376357...|           [1.0,0.0]|       0.0|\n",
            "|    (14,[0,1,2,3,4,5,...|         0.0|[324.174447555320...|           [1.0,0.0]|       0.0|\n",
            "|    (14,[0,1,2,3,4,5,...|         0.0|[324.154791192228...|           [1.0,0.0]|       0.0|\n",
            "|    (14,[0,1,2,3,4,5,...|         0.0|[324.120021249839...|           [1.0,0.0]|       0.0|\n",
            "|    (14,[0,1,2,3,4,5,...|         0.0|[324.125566646169...|           [1.0,0.0]|       0.0|\n",
            "|    (14,[0,1,2,3,4,5,...|         0.0|[324.342132878977...|           [1.0,0.0]|       0.0|\n",
            "|    (14,[0,1,2,3,4,5,...|         0.0|[324.086403389726...|           [1.0,0.0]|       0.0|\n",
            "|    (14,[0,1,2,3,4,5,...|         0.0|[324.361927250647...|           [1.0,0.0]|       0.0|\n",
            "|    (14,[0,1,2,3,4,5,...|         0.0|[324.563579691208...|           [1.0,0.0]|       0.0|\n",
            "|    (14,[0,1,2,3,4,5,...|         0.0|[324.583005166003...|           [1.0,0.0]|       0.0|\n",
            "|    (14,[0,1,2,3,4,5,...|         0.0|[324.467637271606...|           [1.0,0.0]|       0.0|\n",
            "|    (14,[0,1,2,3,4,5,...|         0.0|[324.593703456662...|           [1.0,0.0]|       0.0|\n",
            "|    (14,[0,1,2,3,4,5,...|         0.0|[324.481972779798...|           [1.0,0.0]|       0.0|\n",
            "|    (14,[0,1,2,3,4,5,...|         0.0|[324.632428338240...|           [1.0,0.0]|       0.0|\n",
            "|    (14,[0,1,2,3,4,5,...|         1.0|[-2.7137392296435...|[0.06216748698897...|       1.0|\n",
            "|    (14,[0,1,2,3,4,5,...|         0.0|[324.866935996011...|           [1.0,0.0]|       0.0|\n",
            "|    (14,[0,1,2,3,4,5,...|         0.0|[324.549498340672...|           [1.0,0.0]|       0.0|\n",
            "|    (14,[0,1,2,3,4,5,...|         0.0|[324.859806209421...|           [1.0,0.0]|       0.0|\n",
            "|    (14,[0,1,2,3,4,5,...|         0.0|[325.238877703524...|           [1.0,0.0]|       0.0|\n",
            "|    (14,[0,1,2,3,4,5,...|         0.0|[324.715125926618...|           [1.0,0.0]|       0.0|\n",
            "|    (14,[0,1,2,3,4,5,...|         0.0|[324.667176977955...|           [1.0,0.0]|       0.0|\n",
            "|    (14,[0,1,2,3,4,5,...|         0.0|[324.641162357815...|           [1.0,0.0]|       0.0|\n",
            "|    (14,[0,1,2,3,4,5,...|         0.0|[324.757123191420...|           [1.0,0.0]|       0.0|\n",
            "|    (14,[0,1,2,3,4,5,...|         0.0|[324.931363318087...|           [1.0,0.0]|       0.0|\n",
            "|    (14,[0,1,2,3,4,5,...|         0.0|[324.938736744104...|           [1.0,0.0]|       0.0|\n",
            "|    (14,[0,1,2,3,4,5,...|         0.0|[325.924862734715...|           [1.0,0.0]|       0.0|\n",
            "|    (14,[0,1,2,3,4,5,...|         0.0|[324.962796288416...|           [1.0,0.0]|       0.0|\n",
            "|    (14,[0,1,2,3,4,5,...|         0.0|[324.781855660226...|           [1.0,0.0]|       0.0|\n",
            "|    (14,[0,1,2,3,4,5,...|         0.0|[324.825147765829...|           [1.0,0.0]|       0.0|\n",
            "|    (14,[0,1,2,3,4,5,...|         0.0|[324.387727953430...|           [1.0,0.0]|       0.0|\n",
            "|    (14,[0,1,2,3,4,5,...|         0.0|[324.176261912894...|           [1.0,0.0]|       0.0|\n",
            "|    (14,[0,1,2,3,4,5,...|         0.0|[324.421724700906...|           [1.0,0.0]|       0.0|\n",
            "|    (14,[0,1,2,3,4,5,...|         0.0|[325.560579211508...|           [1.0,0.0]|       0.0|\n",
            "|    (14,[0,1,2,3,4,5,...|         0.0|[324.453724168617...|           [1.0,0.0]|       0.0|\n",
            "+------------------------+------------+--------------------+--------------------+----------+\n",
            "only showing top 50 rows\n",
            "\n"
          ]
        }
      ]
    },
    {
      "cell_type": "code",
      "source": [
        "pred_decTree.show(n=50)"
      ],
      "metadata": {
        "colab": {
          "base_uri": "https://localhost:8080/"
        },
        "id": "Pl_GWsb7JzJ8",
        "outputId": "41f4f362-27c1-4e0f-835a-1e0702ad0867"
      },
      "execution_count": 65,
      "outputs": [
        {
          "output_type": "stream",
          "name": "stdout",
          "text": [
            "+------------------------+------------+-------------+--------------------+----------+\n",
            "|characteristic_variables|poutcome_cat|rawPrediction|         probability|prediction|\n",
            "+------------------------+------------+-------------+--------------------+----------+\n",
            "|    (14,[0,1,2,3,4,5]...|         0.0| [3110.0,0.0]|           [1.0,0.0]|       0.0|\n",
            "|    (14,[0,1,2,3,4,5]...|         0.0| [3110.0,0.0]|           [1.0,0.0]|       0.0|\n",
            "|    (14,[0,1,2,3,4,5,...|         0.0| [3110.0,0.0]|           [1.0,0.0]|       0.0|\n",
            "|    (14,[0,1,2,3,4,5,...|         0.0| [3110.0,0.0]|           [1.0,0.0]|       0.0|\n",
            "|    (14,[0,1,2,3,4,5,...|         0.0| [3110.0,0.0]|           [1.0,0.0]|       0.0|\n",
            "|    (14,[0,1,2,3,4,5,...|         0.0| [3110.0,0.0]|           [1.0,0.0]|       0.0|\n",
            "|    (14,[0,1,2,3,4,5,...|         0.0| [3110.0,0.0]|           [1.0,0.0]|       0.0|\n",
            "|    (14,[0,1,2,3,4,5,...|         0.0| [3110.0,0.0]|           [1.0,0.0]|       0.0|\n",
            "|    (14,[0,1,2,3,4,5,...|         0.0| [3110.0,0.0]|           [1.0,0.0]|       0.0|\n",
            "|    (14,[0,1,2,3,4,5,...|         0.0| [3110.0,0.0]|           [1.0,0.0]|       0.0|\n",
            "|    (14,[0,1,2,3,4,5,...|         0.0| [3110.0,0.0]|           [1.0,0.0]|       0.0|\n",
            "|    (14,[0,1,2,3,4,5,...|         0.0| [3110.0,0.0]|           [1.0,0.0]|       0.0|\n",
            "|    (14,[0,1,2,3,4,5,...|         0.0| [3110.0,0.0]|           [1.0,0.0]|       0.0|\n",
            "|    (14,[0,1,2,3,4,5,...|         0.0| [3110.0,0.0]|           [1.0,0.0]|       0.0|\n",
            "|    (14,[0,1,2,3,4,5,...|         0.0| [3110.0,0.0]|           [1.0,0.0]|       0.0|\n",
            "|    (14,[0,1,2,3,4,5,...|         0.0| [3110.0,0.0]|           [1.0,0.0]|       0.0|\n",
            "|    (14,[0,1,2,3,4,5,...|         0.0| [3110.0,0.0]|           [1.0,0.0]|       0.0|\n",
            "|    (14,[0,1,2,3,4,5,...|         0.0| [3110.0,0.0]|           [1.0,0.0]|       0.0|\n",
            "|    (14,[0,1,2,3,4,5,...|         0.0| [3110.0,0.0]|           [1.0,0.0]|       0.0|\n",
            "|    (14,[0,1,2,3,4,5,...|         0.0| [3110.0,0.0]|           [1.0,0.0]|       0.0|\n",
            "|    (14,[0,1,2,3,4,5,...|         0.0| [3110.0,0.0]|           [1.0,0.0]|       0.0|\n",
            "|    (14,[0,1,2,3,4,5,...|         0.0| [3110.0,0.0]|           [1.0,0.0]|       0.0|\n",
            "|    (14,[0,1,2,3,4,5,...|         0.0| [3110.0,0.0]|           [1.0,0.0]|       0.0|\n",
            "|    (14,[0,1,2,3,4,5,...|         0.0| [3110.0,0.0]|           [1.0,0.0]|       0.0|\n",
            "|    (14,[0,1,2,3,4,5,...|         0.0| [3110.0,0.0]|           [1.0,0.0]|       0.0|\n",
            "|    (14,[0,1,2,3,4,5,...|         0.0| [3110.0,0.0]|           [1.0,0.0]|       0.0|\n",
            "|    (14,[0,1,2,3,4,5,...|         0.0| [3110.0,0.0]|           [1.0,0.0]|       0.0|\n",
            "|    (14,[0,1,2,3,4,5,...|         0.0| [3110.0,0.0]|           [1.0,0.0]|       0.0|\n",
            "|    (14,[0,1,2,3,4,5,...|         0.0| [3110.0,0.0]|           [1.0,0.0]|       0.0|\n",
            "|    (14,[0,1,2,3,4,5,...|         0.0| [3110.0,0.0]|           [1.0,0.0]|       0.0|\n",
            "|    (14,[0,1,2,3,4,5,...|         1.0| [18.0,329.0]|[0.05187319884726...|       1.0|\n",
            "|    (14,[0,1,2,3,4,5,...|         0.0| [3110.0,0.0]|           [1.0,0.0]|       0.0|\n",
            "|    (14,[0,1,2,3,4,5,...|         0.0| [3110.0,0.0]|           [1.0,0.0]|       0.0|\n",
            "|    (14,[0,1,2,3,4,5,...|         0.0| [3110.0,0.0]|           [1.0,0.0]|       0.0|\n",
            "|    (14,[0,1,2,3,4,5,...|         0.0| [3110.0,0.0]|           [1.0,0.0]|       0.0|\n",
            "|    (14,[0,1,2,3,4,5,...|         0.0| [3110.0,0.0]|           [1.0,0.0]|       0.0|\n",
            "|    (14,[0,1,2,3,4,5,...|         0.0| [3110.0,0.0]|           [1.0,0.0]|       0.0|\n",
            "|    (14,[0,1,2,3,4,5,...|         0.0| [3110.0,0.0]|           [1.0,0.0]|       0.0|\n",
            "|    (14,[0,1,2,3,4,5,...|         0.0| [3110.0,0.0]|           [1.0,0.0]|       0.0|\n",
            "|    (14,[0,1,2,3,4,5,...|         0.0| [3110.0,0.0]|           [1.0,0.0]|       0.0|\n",
            "|    (14,[0,1,2,3,4,5,...|         0.0| [3110.0,0.0]|           [1.0,0.0]|       0.0|\n",
            "|    (14,[0,1,2,3,4,5,...|         0.0| [3110.0,0.0]|           [1.0,0.0]|       0.0|\n",
            "|    (14,[0,1,2,3,4,5,...|         0.0| [3110.0,0.0]|           [1.0,0.0]|       0.0|\n",
            "|    (14,[0,1,2,3,4,5,...|         0.0| [3110.0,0.0]|           [1.0,0.0]|       0.0|\n",
            "|    (14,[0,1,2,3,4,5,...|         0.0| [3110.0,0.0]|           [1.0,0.0]|       0.0|\n",
            "|    (14,[0,1,2,3,4,5,...|         0.0| [3110.0,0.0]|           [1.0,0.0]|       0.0|\n",
            "|    (14,[0,1,2,3,4,5,...|         0.0| [3110.0,0.0]|           [1.0,0.0]|       0.0|\n",
            "|    (14,[0,1,2,3,4,5,...|         0.0| [3110.0,0.0]|           [1.0,0.0]|       0.0|\n",
            "|    (14,[0,1,2,3,4,5,...|         0.0| [3110.0,0.0]|           [1.0,0.0]|       0.0|\n",
            "|    (14,[0,1,2,3,4,5,...|         0.0| [3110.0,0.0]|           [1.0,0.0]|       0.0|\n",
            "+------------------------+------------+-------------+--------------------+----------+\n",
            "only showing top 50 rows\n",
            "\n"
          ]
        }
      ]
    },
    {
      "cell_type": "code",
      "source": [
        "pred_randFor.show(n=50)"
      ],
      "metadata": {
        "colab": {
          "base_uri": "https://localhost:8080/"
        },
        "id": "ndc2yUY2J0BF",
        "outputId": "98f0ad05-f226-4ad9-9d54-4837747c506d"
      },
      "execution_count": 66,
      "outputs": [
        {
          "output_type": "stream",
          "name": "stdout",
          "text": [
            "+------------------------+------------+--------------------+--------------------+----------+\n",
            "|characteristic_variables|poutcome_cat|       rawPrediction|         probability|prediction|\n",
            "+------------------------+------------+--------------------+--------------------+----------+\n",
            "|    (14,[0,1,2,3,4,5]...|         0.0|[19.5845380437008...|[0.97922690218504...|       0.0|\n",
            "|    (14,[0,1,2,3,4,5]...|         0.0|[19.6454056384762...|[0.98227028192381...|       0.0|\n",
            "|    (14,[0,1,2,3,4,5,...|         0.0|[19.5395359450492...|[0.97697679725246...|       0.0|\n",
            "|    (14,[0,1,2,3,4,5,...|         0.0|[19.6961275778591...|[0.98480637889295...|       0.0|\n",
            "|    (14,[0,1,2,3,4,5,...|         0.0|[19.7174128717492...|[0.98587064358746...|       0.0|\n",
            "|    (14,[0,1,2,3,4,5,...|         0.0|[19.6289676837023...|[0.98144838418511...|       0.0|\n",
            "|    (14,[0,1,2,3,4,5,...|         0.0|[19.7174128717492...|[0.98587064358746...|       0.0|\n",
            "|    (14,[0,1,2,3,4,5,...|         0.0|[19.5219909395163...|[0.97609954697581...|       0.0|\n",
            "|    (14,[0,1,2,3,4,5,...|         0.0|[19.7174128717492...|[0.98587064358746...|       0.0|\n",
            "|    (14,[0,1,2,3,4,5,...|         0.0|[19.7174128717492...|[0.98587064358746...|       0.0|\n",
            "|    (14,[0,1,2,3,4,5,...|         0.0|[19.7174128717492...|[0.98587064358746...|       0.0|\n",
            "|    (14,[0,1,2,3,4,5,...|         0.0|[19.5572293916723...|[0.97786146958361...|       0.0|\n",
            "|    (14,[0,1,2,3,4,5,...|         0.0|[19.5822321251766...|[0.97911160625883...|       0.0|\n",
            "|    (14,[0,1,2,3,4,5,...|         0.0|[19.7819538476392...|[0.98909769238196...|       0.0|\n",
            "|    (14,[0,1,2,3,4,5,...|         0.0|[19.6454056384762...|[0.98227028192381...|       0.0|\n",
            "|    (14,[0,1,2,3,4,5,...|         0.0|[19.6454056384762...|[0.98227028192381...|       0.0|\n",
            "|    (14,[0,1,2,3,4,5,...|         0.0|[19.6990862146319...|[0.98495431073159...|       0.0|\n",
            "|    (14,[0,1,2,3,4,5,...|         0.0|[19.6630828529511...|[0.98315414264755...|       0.0|\n",
            "|    (14,[0,1,2,3,4,5,...|         0.0|[19.6834090547979...|[0.98417045273989...|       0.0|\n",
            "|    (14,[0,1,2,3,4,5,...|         0.0|[19.5910918518262...|[0.97955459259131...|       0.0|\n",
            "|    (14,[0,1,2,3,4,5,...|         0.0|[19.6630828529511...|[0.98315414264755...|       0.0|\n",
            "|    (14,[0,1,2,3,4,5,...|         0.0|[19.6454056384762...|[0.98227028192381...|       0.0|\n",
            "|    (14,[0,1,2,3,4,5,...|         0.0|[19.7028265305260...|[0.98514132652630...|       0.0|\n",
            "|    (14,[0,1,2,3,4,5,...|         0.0|[19.5572293916723...|[0.97786146958361...|       0.0|\n",
            "|    (14,[0,1,2,3,4,5,...|         0.0|[19.6420380869442...|[0.98210190434721...|       0.0|\n",
            "|    (14,[0,1,2,3,4,5,...|         0.0|[19.7174128717492...|[0.98587064358746...|       0.0|\n",
            "|    (14,[0,1,2,3,4,5,...|         0.0|[19.6630990850993...|[0.98315495425496...|       0.0|\n",
            "|    (14,[0,1,2,3,4,5,...|         0.0|[19.7174128717492...|[0.98587064358746...|       0.0|\n",
            "|    (14,[0,1,2,3,4,5,...|         0.0|[19.7174128717492...|[0.98587064358746...|       0.0|\n",
            "|    (14,[0,1,2,3,4,5,...|         0.0|[19.6443440054684...|[0.98221720027342...|       0.0|\n",
            "|    (14,[0,1,2,3,4,5,...|         1.0|[2.59910880951574...|[0.12995544047578...|       1.0|\n",
            "|    (14,[0,1,2,3,4,5,...|         0.0|[19.7174128717492...|[0.98587064358746...|       0.0|\n",
            "|    (14,[0,1,2,3,4,5,...|         0.0|[19.6991024467801...|[0.98495512233900...|       0.0|\n",
            "|    (14,[0,1,2,3,4,5,...|         0.0|[19.6420380869442...|[0.98210190434721...|       0.0|\n",
            "|    (14,[0,1,2,3,4,5,...|         0.0|[19.7174128717492...|[0.98587064358746...|       0.0|\n",
            "|    (14,[0,1,2,3,4,5,...|         0.0|[19.6420380869442...|[0.98210190434721...|       0.0|\n",
            "|    (14,[0,1,2,3,4,5,...|         0.0|[19.6420380869442...|[0.98210190434721...|       0.0|\n",
            "|    (14,[0,1,2,3,4,5,...|         0.0|[19.6991024467801...|[0.98495512233900...|       0.0|\n",
            "|    (14,[0,1,2,3,4,5,...|         0.0|[19.6115431783222...|[0.98057715891611...|       0.0|\n",
            "|    (14,[0,1,2,3,4,5,...|         0.0|[19.7174128717492...|[0.98587064358746...|       0.0|\n",
            "|    (14,[0,1,2,3,4,5,...|         0.0|[19.6420380869442...|[0.98210190434721...|       0.0|\n",
            "|    (14,[0,1,2,3,4,5,...|         0.0|[19.2203778326644...|[0.96101889163322...|       0.0|\n",
            "|    (14,[0,1,2,3,4,5,...|         0.0|[19.7174128717492...|[0.98587064358746...|       0.0|\n",
            "|    (14,[0,1,2,3,4,5,...|         0.0|[19.7174128717492...|[0.98587064358746...|       0.0|\n",
            "|    (14,[0,1,2,3,4,5,...|         0.0|[19.6443440054684...|[0.98221720027342...|       0.0|\n",
            "|    (14,[0,1,2,3,4,5,...|         0.0|[19.6115431783222...|[0.98057715891611...|       0.0|\n",
            "|    (14,[0,1,2,3,4,5,...|         0.0|[19.8513476374197...|[0.99256738187098...|       0.0|\n",
            "|    (14,[0,1,2,3,4,5,...|         0.0|[19.7942832775838...|[0.98971416387919...|       0.0|\n",
            "|    (14,[0,1,2,3,4,5,...|         0.0|[19.0732930771203...|[0.95366465385601...|       0.0|\n",
            "|    (14,[0,1,2,3,4,5,...|         0.0|[19.7942832775838...|[0.98971416387919...|       0.0|\n",
            "+------------------------+------------+--------------------+--------------------+----------+\n",
            "only showing top 50 rows\n",
            "\n"
          ]
        }
      ]
    },
    {
      "cell_type": "code",
      "source": [
        "pred_nBayes.show(n=50)"
      ],
      "metadata": {
        "colab": {
          "base_uri": "https://localhost:8080/"
        },
        "id": "xcXmBmIsHivU",
        "outputId": "ea3ea95b-f0ea-464c-a5aa-d89b4e0dea1b"
      },
      "execution_count": 67,
      "outputs": [
        {
          "output_type": "stream",
          "name": "stdout",
          "text": [
            "+------------------------+------------+--------------------+--------------------+----------+\n",
            "|characteristic_variables|poutcome_cat|       rawPrediction|         probability|prediction|\n",
            "+------------------------+------------+--------------------+--------------------+----------+\n",
            "|    (14,[0,1,2,3,4,5]...|         0.0|[-724.63990882303...|           [1.0,0.0]|       0.0|\n",
            "|    (14,[0,1,2,3,4,5]...|         0.0|[-877.30999943284...|           [1.0,0.0]|       0.0|\n",
            "|    (14,[0,1,2,3,4,5,...|         0.0|[-456.20113748266...|           [1.0,0.0]|       0.0|\n",
            "|    (14,[0,1,2,3,4,5,...|         0.0|[-507.56613865508...|           [1.0,0.0]|       0.0|\n",
            "|    (14,[0,1,2,3,4,5,...|         0.0|[-1999.4043152547...|           [1.0,0.0]|       0.0|\n",
            "|    (14,[0,1,2,3,4,5,...|         0.0|[-553.95976152078...|           [1.0,0.0]|       0.0|\n",
            "|    (14,[0,1,2,3,4,5,...|         0.0|[-775.08739332059...|           [1.0,0.0]|       0.0|\n",
            "|    (14,[0,1,2,3,4,5,...|         0.0|[-561.48689167813...|           [1.0,0.0]|       0.0|\n",
            "|    (14,[0,1,2,3,4,5,...|         0.0|[-759.02178461753...|           [1.0,0.0]|       0.0|\n",
            "|    (14,[0,1,2,3,4,5,...|         0.0|[-1330.0024317373...|           [1.0,0.0]|       0.0|\n",
            "|    (14,[0,1,2,3,4,5,...|         0.0|[-903.95316435736...|           [1.0,0.0]|       0.0|\n",
            "|    (14,[0,1,2,3,4,5,...|         0.0|[-549.67936301806...|           [1.0,0.0]|       0.0|\n",
            "|    (14,[0,1,2,3,4,5,...|         0.0|[-696.95543358432...|           [1.0,0.0]|       0.0|\n",
            "|    (14,[0,1,2,3,4,5,...|         0.0|[-755.46408038239...|           [1.0,0.0]|       0.0|\n",
            "|    (14,[0,1,2,3,4,5,...|         0.0|[-929.36770609949...|           [1.0,0.0]|       0.0|\n",
            "|    (14,[0,1,2,3,4,5,...|         0.0|[-999.98033950460...|           [1.0,0.0]|       0.0|\n",
            "|    (14,[0,1,2,3,4,5,...|         0.0|[-579.09649074798...|           [1.0,0.0]|       0.0|\n",
            "|    (14,[0,1,2,3,4,5,...|         0.0|[-979.48787704344...|           [1.0,0.0]|       0.0|\n",
            "|    (14,[0,1,2,3,4,5,...|         0.0|[-587.05805712413...|           [1.0,0.0]|       0.0|\n",
            "|    (14,[0,1,2,3,4,5,...|         0.0|[-971.76500665667...|           [1.0,0.0]|       0.0|\n",
            "|    (14,[0,1,2,3,4,5,...|         0.0|[-976.89620678618...|           [1.0,0.0]|       0.0|\n",
            "|    (14,[0,1,2,3,4,5,...|         0.0|[-1955.8412438903...|           [1.0,0.0]|       0.0|\n",
            "|    (14,[0,1,2,3,4,5,...|         0.0|[-638.93259775119...|           [1.0,0.0]|       0.0|\n",
            "|    (14,[0,1,2,3,4,5,...|         0.0|[-482.75772832854...|           [1.0,0.0]|       0.0|\n",
            "|    (14,[0,1,2,3,4,5,...|         0.0|[-634.06145599988...|           [1.0,0.0]|       0.0|\n",
            "|    (14,[0,1,2,3,4,5,...|         0.0|[-1157.0723939772...|           [1.0,0.0]|       0.0|\n",
            "|    (14,[0,1,2,3,4,5,...|         0.0|[-1400.7122727683...|           [1.0,0.0]|       0.0|\n",
            "|    (14,[0,1,2,3,4,5,...|         0.0|[-1166.0968562810...|           [1.0,0.0]|       0.0|\n",
            "|    (14,[0,1,2,3,4,5,...|         0.0|[-838.96244461528...|           [1.0,0.0]|       0.0|\n",
            "|    (14,[0,1,2,3,4,5,...|         0.0|[-800.77904777369...|           [1.0,0.0]|       0.0|\n",
            "|    (14,[0,1,2,3,4,5,...|         1.0|[-597.91310512490...|[1.38615491536353...|       1.0|\n",
            "|    (14,[0,1,2,3,4,5,...|         0.0|[-1140.3107768316...|           [1.0,0.0]|       0.0|\n",
            "|    (14,[0,1,2,3,4,5,...|         0.0|[-575.31105345205...|           [1.0,0.0]|       0.0|\n",
            "|    (14,[0,1,2,3,4,5,...|         0.0|[-670.14088964622...|           [1.0,0.0]|       0.0|\n",
            "|    (14,[0,1,2,3,4,5,...|         0.0|[-1042.7914653885...|           [1.0,0.0]|       0.0|\n",
            "|    (14,[0,1,2,3,4,5,...|         0.0|[-641.38109723002...|           [1.0,0.0]|       0.0|\n",
            "|    (14,[0,1,2,3,4,5,...|         0.0|[-650.97989594663...|           [1.0,0.0]|       0.0|\n",
            "|    (14,[0,1,2,3,4,5,...|         0.0|[-527.18948755341...|           [1.0,0.0]|       0.0|\n",
            "|    (14,[0,1,2,3,4,5,...|         0.0|[-549.23297112632...|           [1.0,0.0]|       0.0|\n",
            "|    (14,[0,1,2,3,4,5,...|         0.0|[-1434.3114338672...|           [1.0,0.0]|       0.0|\n",
            "|    (14,[0,1,2,3,4,5,...|         0.0|[-667.46664269365...|           [1.0,0.0]|       0.0|\n",
            "|    (14,[0,1,2,3,4,5,...|         0.0|[-572.24368278549...|           [1.0,0.0]|       0.0|\n",
            "|    (14,[0,1,2,3,4,5,...|         0.0|[-812.10556192881...|           [1.0,0.0]|       0.0|\n",
            "|    (14,[0,1,2,3,4,5,...|         0.0|[-1095.9938472953...|           [1.0,0.0]|       0.0|\n",
            "|    (14,[0,1,2,3,4,5,...|         0.0|[-725.48701865880...|           [1.0,0.0]|       0.0|\n",
            "|    (14,[0,1,2,3,4,5,...|         0.0|[-527.34567325585...|           [1.0,0.0]|       0.0|\n",
            "|    (14,[0,1,2,3,4,5,...|         0.0|[-500.70545117014...|           [1.0,0.0]|       0.0|\n",
            "|    (14,[0,1,2,3,4,5,...|         0.0|[-688.24714730401...|           [1.0,0.0]|       0.0|\n",
            "|    (14,[0,1,2,3,4,5,...|         0.0|[-1217.2015440822...|           [1.0,0.0]|       0.0|\n",
            "|    (14,[0,1,2,3,4,5,...|         0.0|[-634.35171587010...|           [1.0,0.0]|       0.0|\n",
            "+------------------------+------------+--------------------+--------------------+----------+\n",
            "only showing top 50 rows\n",
            "\n"
          ]
        }
      ]
    },
    {
      "cell_type": "code",
      "source": [
        "from pyspark.ml.evaluation import MulticlassClassificationEvaluator"
      ],
      "metadata": {
        "id": "R0zpbCol6HLj"
      },
      "execution_count": 68,
      "outputs": []
    },
    {
      "cell_type": "code",
      "source": [
        "eval = MulticlassClassificationEvaluator(\n",
        "    predictionCol='prediction',\n",
        "    labelCol='poutcome_cat',\n",
        "    metricName='accuracy'\n",
        ")"
      ],
      "metadata": {
        "id": "pAlwF17e6HIE"
      },
      "execution_count": 69,
      "outputs": []
    },
    {
      "cell_type": "code",
      "source": [
        "acc_logReg = eval.evaluate(dataset=pred_logReg)\n",
        "acc_decTree = eval.evaluate(dataset=pred_decTree)\n",
        "acc_randFor = eval.evaluate(dataset=pred_randFor)\n",
        "acc_nBayes = eval.evaluate(dataset=pred_nBayes)"
      ],
      "metadata": {
        "id": "OLT2OrOpKj3_"
      },
      "execution_count": 70,
      "outputs": []
    },
    {
      "cell_type": "code",
      "source": [
        "print('\\t[ACCURACY]')\n",
        "print('=' * 30)\n",
        "print(f'Logistic Regression: {(acc_logReg * 100):.4f}%')\n",
        "print(f'Decision Tree      : {(acc_decTree * 100):.4f}%')\n",
        "print(f'Random Forest      : {(acc_randFor * 100):.4f}%')\n",
        "print(f'Naive Bayes        : {(acc_nBayes * 100):.4f}%')"
      ],
      "metadata": {
        "id": "rSRdIUKCKjz_",
        "colab": {
          "base_uri": "https://localhost:8080/"
        },
        "outputId": "db6857cf-1689-405f-c1ea-8edea149caa8"
      },
      "execution_count": 71,
      "outputs": [
        {
          "output_type": "stream",
          "name": "stdout",
          "text": [
            "\t[ACCURACY]\n",
            "==============================\n",
            "Logistic Regression: 97.6845%\n",
            "Decision Tree      : 98.0463%\n",
            "Random Forest      : 97.8292%\n",
            "Naive Bayes        : 97.3227%\n"
          ]
        }
      ]
    },
    {
      "cell_type": "code",
      "source": [
        "from sklearn.metrics import confusion_matrix"
      ],
      "metadata": {
        "id": "PecCSBOwKjyH"
      },
      "execution_count": 72,
      "outputs": []
    },
    {
      "cell_type": "code",
      "source": [
        "df_pred_logReg = pred_logReg.select(\n",
        "    'prediction', 'poutcome_cat'\n",
        ").toPandas()\n",
        "\n",
        "df_pred_decTree = pred_decTree.select(\n",
        "    'prediction', 'poutcome_cat'\n",
        ").toPandas()\n",
        "\n",
        "df_pred_randFor = pred_randFor.select(\n",
        "    'prediction', 'poutcome_cat'\n",
        ").toPandas()\n",
        "\n",
        "df_pred_nBayes = pred_nBayes.select(\n",
        "    'prediction', 'poutcome_cat'\n",
        ").toPandas()"
      ],
      "metadata": {
        "id": "pM9dq9wdKjuU"
      },
      "execution_count": 73,
      "outputs": []
    },
    {
      "cell_type": "code",
      "source": [
        "conf_mat_logReg = confusion_matrix(\n",
        "    y_true=df_pred_logReg['poutcome_cat'],\n",
        "    y_pred=df_pred_logReg['prediction']\n",
        ")\n",
        "\n",
        "conf_mat_logReg"
      ],
      "metadata": {
        "id": "MZzt9i1fKjrc",
        "colab": {
          "base_uri": "https://localhost:8080/"
        },
        "outputId": "55b5d7f2-a817-4b39-e93a-a2e128cb4533"
      },
      "execution_count": 74,
      "outputs": [
        {
          "output_type": "execute_result",
          "data": {
            "text/plain": [
              "array([[1013,   23],\n",
              "       [   9,  337]])"
            ]
          },
          "metadata": {},
          "execution_count": 74
        }
      ]
    },
    {
      "cell_type": "code",
      "source": [
        "conf_mat_decTree = confusion_matrix(\n",
        "    y_true=df_pred_decTree['poutcome_cat'],\n",
        "    y_pred=df_pred_decTree['prediction']\n",
        ")\n",
        "\n",
        "conf_mat_decTree"
      ],
      "metadata": {
        "colab": {
          "base_uri": "https://localhost:8080/"
        },
        "id": "uAb3aF3-q86A",
        "outputId": "6422b078-c20c-4c7e-b0b4-9591b3a53bb6"
      },
      "execution_count": 75,
      "outputs": [
        {
          "output_type": "execute_result",
          "data": {
            "text/plain": [
              "array([[1023,   13],\n",
              "       [  14,  332]])"
            ]
          },
          "metadata": {},
          "execution_count": 75
        }
      ]
    },
    {
      "cell_type": "code",
      "source": [
        "conf_mat_randFor = confusion_matrix(\n",
        "    y_true=df_pred_randFor['poutcome_cat'],\n",
        "    y_pred=df_pred_randFor['prediction']\n",
        ")\n",
        "\n",
        "conf_mat_randFor"
      ],
      "metadata": {
        "colab": {
          "base_uri": "https://localhost:8080/"
        },
        "id": "DczK8HgQpvxk",
        "outputId": "f25c7c5e-a5d2-4382-811d-a30ff2a46524"
      },
      "execution_count": 76,
      "outputs": [
        {
          "output_type": "execute_result",
          "data": {
            "text/plain": [
              "array([[1011,   25],\n",
              "       [   5,  341]])"
            ]
          },
          "metadata": {},
          "execution_count": 76
        }
      ]
    },
    {
      "cell_type": "code",
      "source": [
        "conf_mat_nBayes = confusion_matrix(\n",
        "    y_true=df_pred_nBayes['poutcome_cat'],\n",
        "    y_pred=df_pred_nBayes['prediction']\n",
        ")\n",
        "\n",
        "conf_mat_nBayes"
      ],
      "metadata": {
        "id": "IJOvF_EzpvvP",
        "colab": {
          "base_uri": "https://localhost:8080/"
        },
        "outputId": "0cb53e71-48a8-4dd7-a37e-04c00b5e04a7"
      },
      "execution_count": 77,
      "outputs": [
        {
          "output_type": "execute_result",
          "data": {
            "text/plain": [
              "array([[1000,   36],\n",
              "       [   1,  345]])"
            ]
          },
          "metadata": {},
          "execution_count": 77
        }
      ]
    },
    {
      "cell_type": "code",
      "source": [],
      "metadata": {
        "id": "-qtqnl_lpvtl"
      },
      "execution_count": null,
      "outputs": []
    },
    {
      "cell_type": "code",
      "source": [],
      "metadata": {
        "id": "iMlb4tgUpvmE"
      },
      "execution_count": null,
      "outputs": []
    },
    {
      "cell_type": "code",
      "source": [],
      "metadata": {
        "id": "zIutI00Tpvfz"
      },
      "execution_count": null,
      "outputs": []
    }
  ]
}