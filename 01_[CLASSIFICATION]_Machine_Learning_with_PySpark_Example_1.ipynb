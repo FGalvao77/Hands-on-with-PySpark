{
  "nbformat": 4,
  "nbformat_minor": 0,
  "metadata": {
    "colab": {
      "provenance": [],
      "authorship_tag": "ABX9TyP/GfOPLnyX9lbqmqCCoRv7",
      "include_colab_link": true
    },
    "kernelspec": {
      "name": "python3",
      "display_name": "Python 3"
    },
    "language_info": {
      "name": "python"
    }
  },
  "cells": [
    {
      "cell_type": "markdown",
      "metadata": {
        "id": "view-in-github",
        "colab_type": "text"
      },
      "source": [
        "<a href=\"https://colab.research.google.com/github/FGalvao77/Hands-on-with-PySpark/blob/main/01_%5BCLASSIFICATION%5D_Machine_Learning_with_PySpark_Example_1.ipynb\" target=\"_parent\"><img src=\"https://colab.research.google.com/assets/colab-badge.svg\" alt=\"Open In Colab\"/></a>"
      ]
    },
    {
      "cell_type": "markdown",
      "source": [
        "## **Machine Learning with PySpark: Example 1**\n",
        "---\n",
        "---"
      ],
      "metadata": {
        "id": "MJPGxU-0dOSP"
      }
    },
    {
      "cell_type": "code",
      "execution_count": 1,
      "metadata": {
        "id": "ii_oXdojLv3V"
      },
      "outputs": [],
      "source": [
        "# instalando a biblioteca \"pyspark\" no ambiente\n",
        "%%capture\n",
        "%pip install pyspark -U"
      ]
    },
    {
      "cell_type": "code",
      "source": [
        "#importando biblioteca\n",
        "import pyspark"
      ],
      "metadata": {
        "id": "R0-yfobvAKSn"
      },
      "execution_count": 2,
      "outputs": []
    },
    {
      "cell_type": "code",
      "source": [
        "# visualizando a versão da biblioteca\n",
        "print(f'[VERSION] PySpark: {pyspark.__version__}')"
      ],
      "metadata": {
        "colab": {
          "base_uri": "https://localhost:8080/"
        },
        "id": "dKXd_-wOAN8m",
        "outputId": "10081e50-1476-495d-b221-dde3a1d4f4e7"
      },
      "execution_count": 3,
      "outputs": [
        {
          "output_type": "stream",
          "name": "stdout",
          "text": [
            "[VERSION] PySpark: 3.3.2\n"
          ]
        }
      ]
    },
    {
      "cell_type": "code",
      "source": [
        "# importando o módulo \"SparkSession\" para criar uma sessão spark\n",
        "from pyspark.sql import SparkSession"
      ],
      "metadata": {
        "id": "ycEPx7lIL22_"
      },
      "execution_count": 4,
      "outputs": []
    },
    {
      "cell_type": "code",
      "source": [
        "# instanciando uma sessão para aplicação do recursos do \"pyspark\"\n",
        "spark_session = SparkSession\\\n",
        "    .builder\\\n",
        "    .master('local[*]')\\\n",
        "    .appName(name='Machine Learning with Pypark: Example 1')\\\n",
        "    .getOrCreate()"
      ],
      "metadata": {
        "id": "SeyPSANyL20B"
      },
      "execution_count": 5,
      "outputs": []
    },
    {
      "cell_type": "code",
      "source": [
        "# visualizando a sessão criada\n",
        "spark_session"
      ],
      "metadata": {
        "colab": {
          "base_uri": "https://localhost:8080/",
          "height": 219
        },
        "id": "HPbcO0IsL2wz",
        "outputId": "19ee8270-f458-4a9a-fb2b-0fa82969af93"
      },
      "execution_count": 6,
      "outputs": [
        {
          "output_type": "execute_result",
          "data": {
            "text/plain": [
              "<pyspark.sql.session.SparkSession at 0x7f725c758b20>"
            ],
            "text/html": [
              "\n",
              "            <div>\n",
              "                <p><b>SparkSession - in-memory</b></p>\n",
              "                \n",
              "        <div>\n",
              "            <p><b>SparkContext</b></p>\n",
              "\n",
              "            <p><a href=\"http://3a882624d94c:4040\">Spark UI</a></p>\n",
              "\n",
              "            <dl>\n",
              "              <dt>Version</dt>\n",
              "                <dd><code>v3.3.2</code></dd>\n",
              "              <dt>Master</dt>\n",
              "                <dd><code>local[*]</code></dd>\n",
              "              <dt>AppName</dt>\n",
              "                <dd><code>Machine Learning with Pypark: Example 1</code></dd>\n",
              "            </dl>\n",
              "        </div>\n",
              "        \n",
              "            </div>\n",
              "        "
            ]
          },
          "metadata": {},
          "execution_count": 6
        }
      ]
    },
    {
      "cell_type": "code",
      "source": [
        "# importando as bibliotecas\n",
        "import pandas as pd     # análise e manipulação de dados\n",
        "import warnings         # ignorar mensagens de alerta\n",
        "\n",
        "warnings.filterwarnings('ignore')"
      ],
      "metadata": {
        "id": "AEAHMOCuM1kN"
      },
      "execution_count": 7,
      "outputs": []
    },
    {
      "cell_type": "code",
      "source": [
        "# utilizando uma url para carregar o conjunto de dados no objeto \"df\"\n",
        "df = pd.read_csv('https://query.data.world/s/6na4pihcmd7lg24xiveadvsshzvhr3?dws=00000')\n",
        "\n",
        "# utilizando a função \".to_csv()\" para salvar o conteúdo do objeto em arquivo \n",
        "# do tipo \".csv\" com o nome de \"data\"\n",
        "df.to_csv('data.csv')"
      ],
      "metadata": {
        "id": "C5avds9BL2vG"
      },
      "execution_count": 8,
      "outputs": []
    },
    {
      "cell_type": "code",
      "source": [
        "# utilizando o comando \"!head\" para visualizar o conteúdo do arquivo \"data.csv\"\n",
        "!head data.csv"
      ],
      "metadata": {
        "colab": {
          "base_uri": "https://localhost:8080/"
        },
        "id": "EU_iJq2eL2rj",
        "outputId": "df97c0b1-aa22-4325-ad42-085a75f978b6"
      },
      "execution_count": 9,
      "outputs": [
        {
          "output_type": "stream",
          "name": "stdout",
          "text": [
            ",sepal_length,sepal_width,petal_length,petal_width,species\n",
            "0,5.1,3.5,1.4,0.2,setosa\n",
            "1,4.9,3.0,1.4,0.2,setosa\n",
            "2,4.7,3.2,1.3,0.2,setosa\n",
            "3,4.6,3.1,1.5,0.2,setosa\n",
            "4,5.0,3.6,1.4,0.2,setosa\n",
            "5,5.4,3.9,1.7,0.4,setosa\n",
            "6,4.6,3.4,1.4,0.3,setosa\n",
            "7,5.0,3.4,1.5,0.2,setosa\n",
            "8,4.4,2.9,1.4,0.2,setosa\n"
          ]
        }
      ]
    },
    {
      "cell_type": "code",
      "source": [
        "# com a sessão spark, utilizaremos a função \"read.csv()\" para realizar a leitura\n",
        "# e o carregamento do conteúdo do obejto \"data.csv\" no objeto \"iris\"\n",
        "iris = spark_session.read.csv(\n",
        "    path='data.csv',        # caminho onde o objeto se encontra\n",
        "    header=True,            # cabeçalho do arquivo\n",
        "    inferSchema=True,       # esquema do tipo de dados\n",
        "    sep=','                 # cada instância/observação está separada por vírgula (,)\n",
        ")"
      ],
      "metadata": {
        "id": "hrtBmKOKL2qd"
      },
      "execution_count": 10,
      "outputs": []
    },
    {
      "cell_type": "code",
      "source": [
        "# visualizando o tipo do objeto\n",
        "type(iris)"
      ],
      "metadata": {
        "colab": {
          "base_uri": "https://localhost:8080/"
        },
        "id": "bO_RctVZL2ef",
        "outputId": "2e664797-5d7d-4131-cf8b-351c08b1f06f"
      },
      "execution_count": 11,
      "outputs": [
        {
          "output_type": "execute_result",
          "data": {
            "text/plain": [
              "pyspark.sql.dataframe.DataFrame"
            ]
          },
          "metadata": {},
          "execution_count": 11
        }
      ]
    },
    {
      "cell_type": "code",
      "source": [
        "# visualizando o tipo de dados em cada atributo/coluna\n",
        "iris.printSchema()"
      ],
      "metadata": {
        "colab": {
          "base_uri": "https://localhost:8080/"
        },
        "id": "zpvuoO1IL2bZ",
        "outputId": "c83d91d3-699e-4b47-9239-d9b37cefa9cc"
      },
      "execution_count": 12,
      "outputs": [
        {
          "output_type": "stream",
          "name": "stdout",
          "text": [
            "root\n",
            " |-- _c0: integer (nullable = true)\n",
            " |-- sepal_length: double (nullable = true)\n",
            " |-- sepal_width: double (nullable = true)\n",
            " |-- petal_length: double (nullable = true)\n",
            " |-- petal_width: double (nullable = true)\n",
            " |-- species: string (nullable = true)\n",
            "\n"
          ]
        }
      ]
    },
    {
      "cell_type": "code",
      "source": [
        "# visualizando as primeiras observações do objeto \"iris\"\n",
        "iris.show()     # como padrão, temos o retorno das 20 primeiras observações"
      ],
      "metadata": {
        "colab": {
          "base_uri": "https://localhost:8080/"
        },
        "id": "25k4EwvCL2lg",
        "outputId": "bdb0e0ac-2900-4269-f79a-a8663325f707"
      },
      "execution_count": 13,
      "outputs": [
        {
          "output_type": "stream",
          "name": "stdout",
          "text": [
            "+---+------------+-----------+------------+-----------+-------+\n",
            "|_c0|sepal_length|sepal_width|petal_length|petal_width|species|\n",
            "+---+------------+-----------+------------+-----------+-------+\n",
            "|  0|         5.1|        3.5|         1.4|        0.2| setosa|\n",
            "|  1|         4.9|        3.0|         1.4|        0.2| setosa|\n",
            "|  2|         4.7|        3.2|         1.3|        0.2| setosa|\n",
            "|  3|         4.6|        3.1|         1.5|        0.2| setosa|\n",
            "|  4|         5.0|        3.6|         1.4|        0.2| setosa|\n",
            "|  5|         5.4|        3.9|         1.7|        0.4| setosa|\n",
            "|  6|         4.6|        3.4|         1.4|        0.3| setosa|\n",
            "|  7|         5.0|        3.4|         1.5|        0.2| setosa|\n",
            "|  8|         4.4|        2.9|         1.4|        0.2| setosa|\n",
            "|  9|         4.9|        3.1|         1.5|        0.1| setosa|\n",
            "| 10|         5.4|        3.7|         1.5|        0.2| setosa|\n",
            "| 11|         4.8|        3.4|         1.6|        0.2| setosa|\n",
            "| 12|         4.8|        3.0|         1.4|        0.1| setosa|\n",
            "| 13|         4.3|        3.0|         1.1|        0.1| setosa|\n",
            "| 14|         5.8|        4.0|         1.2|        0.2| setosa|\n",
            "| 15|         5.7|        4.4|         1.5|        0.4| setosa|\n",
            "| 16|         5.4|        3.9|         1.3|        0.4| setosa|\n",
            "| 17|         5.1|        3.5|         1.4|        0.3| setosa|\n",
            "| 18|         5.7|        3.8|         1.7|        0.3| setosa|\n",
            "| 19|         5.1|        3.8|         1.5|        0.3| setosa|\n",
            "+---+------------+-----------+------------+-----------+-------+\n",
            "only showing top 20 rows\n",
            "\n"
          ]
        }
      ]
    },
    {
      "cell_type": "code",
      "source": [
        "# nome das colunas\n",
        "iris.columns"
      ],
      "metadata": {
        "colab": {
          "base_uri": "https://localhost:8080/"
        },
        "id": "cNwEA14uL2jm",
        "outputId": "e8ab8294-954c-436a-fa7c-f0ee90689982"
      },
      "execution_count": 14,
      "outputs": [
        {
          "output_type": "execute_result",
          "data": {
            "text/plain": [
              "['_c0',\n",
              " 'sepal_length',\n",
              " 'sepal_width',\n",
              " 'petal_length',\n",
              " 'petal_width',\n",
              " 'species']"
            ]
          },
          "metadata": {},
          "execution_count": 14
        }
      ]
    },
    {
      "cell_type": "code",
      "source": [
        "# realizando uma seleção das colunas - excluindo a coluna \"_c0\"\n",
        "iris = iris.select(\n",
        "    'sepal_length',\n",
        "    'sepal_width',\n",
        "    'petal_length',\n",
        "    'petal_width',\n",
        "    'species'\n",
        ")"
      ],
      "metadata": {
        "id": "PKyMLHMEL2gc"
      },
      "execution_count": 15,
      "outputs": []
    },
    {
      "cell_type": "code",
      "source": [
        "# contabilizando a quantidade de observações do atributo alvo em cada instância\n",
        "iris.groupBy('species').count().sort('species').toPandas()"
      ],
      "metadata": {
        "colab": {
          "base_uri": "https://localhost:8080/",
          "height": 143
        },
        "id": "uo3kS5_oeI8C",
        "outputId": "8ed7ff50-7f97-4f49-94c3-c9f817b77ae7"
      },
      "execution_count": 16,
      "outputs": [
        {
          "output_type": "execute_result",
          "data": {
            "text/plain": [
              "      species  count\n",
              "0      setosa     50\n",
              "1  versicolor     50\n",
              "2   virginica     50"
            ],
            "text/html": [
              "\n",
              "  <div id=\"df-8a57ab74-8e95-479a-bbf9-2f9713a97d75\">\n",
              "    <div class=\"colab-df-container\">\n",
              "      <div>\n",
              "<style scoped>\n",
              "    .dataframe tbody tr th:only-of-type {\n",
              "        vertical-align: middle;\n",
              "    }\n",
              "\n",
              "    .dataframe tbody tr th {\n",
              "        vertical-align: top;\n",
              "    }\n",
              "\n",
              "    .dataframe thead th {\n",
              "        text-align: right;\n",
              "    }\n",
              "</style>\n",
              "<table border=\"1\" class=\"dataframe\">\n",
              "  <thead>\n",
              "    <tr style=\"text-align: right;\">\n",
              "      <th></th>\n",
              "      <th>species</th>\n",
              "      <th>count</th>\n",
              "    </tr>\n",
              "  </thead>\n",
              "  <tbody>\n",
              "    <tr>\n",
              "      <th>0</th>\n",
              "      <td>setosa</td>\n",
              "      <td>50</td>\n",
              "    </tr>\n",
              "    <tr>\n",
              "      <th>1</th>\n",
              "      <td>versicolor</td>\n",
              "      <td>50</td>\n",
              "    </tr>\n",
              "    <tr>\n",
              "      <th>2</th>\n",
              "      <td>virginica</td>\n",
              "      <td>50</td>\n",
              "    </tr>\n",
              "  </tbody>\n",
              "</table>\n",
              "</div>\n",
              "      <button class=\"colab-df-convert\" onclick=\"convertToInteractive('df-8a57ab74-8e95-479a-bbf9-2f9713a97d75')\"\n",
              "              title=\"Convert this dataframe to an interactive table.\"\n",
              "              style=\"display:none;\">\n",
              "        \n",
              "  <svg xmlns=\"http://www.w3.org/2000/svg\" height=\"24px\"viewBox=\"0 0 24 24\"\n",
              "       width=\"24px\">\n",
              "    <path d=\"M0 0h24v24H0V0z\" fill=\"none\"/>\n",
              "    <path d=\"M18.56 5.44l.94 2.06.94-2.06 2.06-.94-2.06-.94-.94-2.06-.94 2.06-2.06.94zm-11 1L8.5 8.5l.94-2.06 2.06-.94-2.06-.94L8.5 2.5l-.94 2.06-2.06.94zm10 10l.94 2.06.94-2.06 2.06-.94-2.06-.94-.94-2.06-.94 2.06-2.06.94z\"/><path d=\"M17.41 7.96l-1.37-1.37c-.4-.4-.92-.59-1.43-.59-.52 0-1.04.2-1.43.59L10.3 9.45l-7.72 7.72c-.78.78-.78 2.05 0 2.83L4 21.41c.39.39.9.59 1.41.59.51 0 1.02-.2 1.41-.59l7.78-7.78 2.81-2.81c.8-.78.8-2.07 0-2.86zM5.41 20L4 18.59l7.72-7.72 1.47 1.35L5.41 20z\"/>\n",
              "  </svg>\n",
              "      </button>\n",
              "      \n",
              "  <style>\n",
              "    .colab-df-container {\n",
              "      display:flex;\n",
              "      flex-wrap:wrap;\n",
              "      gap: 12px;\n",
              "    }\n",
              "\n",
              "    .colab-df-convert {\n",
              "      background-color: #E8F0FE;\n",
              "      border: none;\n",
              "      border-radius: 50%;\n",
              "      cursor: pointer;\n",
              "      display: none;\n",
              "      fill: #1967D2;\n",
              "      height: 32px;\n",
              "      padding: 0 0 0 0;\n",
              "      width: 32px;\n",
              "    }\n",
              "\n",
              "    .colab-df-convert:hover {\n",
              "      background-color: #E2EBFA;\n",
              "      box-shadow: 0px 1px 2px rgba(60, 64, 67, 0.3), 0px 1px 3px 1px rgba(60, 64, 67, 0.15);\n",
              "      fill: #174EA6;\n",
              "    }\n",
              "\n",
              "    [theme=dark] .colab-df-convert {\n",
              "      background-color: #3B4455;\n",
              "      fill: #D2E3FC;\n",
              "    }\n",
              "\n",
              "    [theme=dark] .colab-df-convert:hover {\n",
              "      background-color: #434B5C;\n",
              "      box-shadow: 0px 1px 3px 1px rgba(0, 0, 0, 0.15);\n",
              "      filter: drop-shadow(0px 1px 2px rgba(0, 0, 0, 0.3));\n",
              "      fill: #FFFFFF;\n",
              "    }\n",
              "  </style>\n",
              "\n",
              "      <script>\n",
              "        const buttonEl =\n",
              "          document.querySelector('#df-8a57ab74-8e95-479a-bbf9-2f9713a97d75 button.colab-df-convert');\n",
              "        buttonEl.style.display =\n",
              "          google.colab.kernel.accessAllowed ? 'block' : 'none';\n",
              "\n",
              "        async function convertToInteractive(key) {\n",
              "          const element = document.querySelector('#df-8a57ab74-8e95-479a-bbf9-2f9713a97d75');\n",
              "          const dataTable =\n",
              "            await google.colab.kernel.invokeFunction('convertToInteractive',\n",
              "                                                     [key], {});\n",
              "          if (!dataTable) return;\n",
              "\n",
              "          const docLinkHtml = 'Like what you see? Visit the ' +\n",
              "            '<a target=\"_blank\" href=https://colab.research.google.com/notebooks/data_table.ipynb>data table notebook</a>'\n",
              "            + ' to learn more about interactive tables.';\n",
              "          element.innerHTML = '';\n",
              "          dataTable['output_type'] = 'display_data';\n",
              "          await google.colab.output.renderOutput(dataTable, element);\n",
              "          const docLink = document.createElement('div');\n",
              "          docLink.innerHTML = docLinkHtml;\n",
              "          element.appendChild(docLink);\n",
              "        }\n",
              "      </script>\n",
              "    </div>\n",
              "  </div>\n",
              "  "
            ]
          },
          "metadata": {},
          "execution_count": 16
        }
      ]
    },
    {
      "cell_type": "code",
      "source": [
        "# particionando os dados para treino e validação\n",
        "(train_data, val_data) = iris.randomSplit(\n",
        "    weights=[0.70, 0.30],   # 70% para treino e o restante, 30% para validação\n",
        "    seed=1522               # instanciando a semente aleatória\n",
        ")"
      ],
      "metadata": {
        "id": "MqR7kGetL2Zf"
      },
      "execution_count": 17,
      "outputs": []
    },
    {
      "cell_type": "code",
      "source": [
        "# visualizando as 10 primeiras observações dos dados de treino\n",
        "train_data.show(n=10)"
      ],
      "metadata": {
        "colab": {
          "base_uri": "https://localhost:8080/"
        },
        "id": "VGnJFZ751oyf",
        "outputId": "bc6a9449-8f75-4258-ae0a-bf8e7b9ede2a"
      },
      "execution_count": 18,
      "outputs": [
        {
          "output_type": "stream",
          "name": "stdout",
          "text": [
            "+------------+-----------+------------+-----------+-------+\n",
            "|sepal_length|sepal_width|petal_length|petal_width|species|\n",
            "+------------+-----------+------------+-----------+-------+\n",
            "|         4.3|        3.0|         1.1|        0.1| setosa|\n",
            "|         4.4|        2.9|         1.4|        0.2| setosa|\n",
            "|         4.4|        3.0|         1.3|        0.2| setosa|\n",
            "|         4.4|        3.2|         1.3|        0.2| setosa|\n",
            "|         4.5|        2.3|         1.3|        0.3| setosa|\n",
            "|         4.6|        3.4|         1.4|        0.3| setosa|\n",
            "|         4.6|        3.6|         1.0|        0.2| setosa|\n",
            "|         4.7|        3.2|         1.3|        0.2| setosa|\n",
            "|         4.8|        3.0|         1.4|        0.1| setosa|\n",
            "|         4.8|        3.0|         1.4|        0.3| setosa|\n",
            "+------------+-----------+------------+-----------+-------+\n",
            "only showing top 10 rows\n",
            "\n"
          ]
        }
      ]
    },
    {
      "cell_type": "code",
      "source": [
        "# visualizando as 10 primeiras observações dos dados de validação\n",
        "val_data.show(n=10)"
      ],
      "metadata": {
        "colab": {
          "base_uri": "https://localhost:8080/"
        },
        "id": "0vktL48U16m-",
        "outputId": "70d56079-ea81-4142-e742-5b89d6ddd513"
      },
      "execution_count": 19,
      "outputs": [
        {
          "output_type": "stream",
          "name": "stdout",
          "text": [
            "+------------+-----------+------------+-----------+----------+\n",
            "|sepal_length|sepal_width|petal_length|petal_width|   species|\n",
            "+------------+-----------+------------+-----------+----------+\n",
            "|         4.6|        3.1|         1.5|        0.2|    setosa|\n",
            "|         4.6|        3.2|         1.4|        0.2|    setosa|\n",
            "|         4.7|        3.2|         1.6|        0.2|    setosa|\n",
            "|         4.8|        3.4|         1.9|        0.2|    setosa|\n",
            "|         4.9|        2.5|         4.5|        1.7| virginica|\n",
            "|         4.9|        3.1|         1.5|        0.1|    setosa|\n",
            "|         4.9|        3.1|         1.5|        0.1|    setosa|\n",
            "|         5.0|        2.0|         3.5|        1.0|versicolor|\n",
            "|         5.0|        3.6|         1.4|        0.2|    setosa|\n",
            "|         5.1|        2.5|         3.0|        1.1|versicolor|\n",
            "+------------+-----------+------------+-----------+----------+\n",
            "only showing top 10 rows\n",
            "\n"
          ]
        }
      ]
    },
    {
      "cell_type": "code",
      "source": [
        "# importando as funções \"VectorAssembler\" e \"StringIndexer\" \n",
        "# para realizar o tratamento dos dados\n",
        "from pyspark.ml.feature import VectorAssembler, StringIndexer"
      ],
      "metadata": {
        "id": "pYXmVUcKL2Wg"
      },
      "execution_count": 20,
      "outputs": []
    },
    {
      "cell_type": "code",
      "source": [
        "# instanciando o objeto \"vector\" com a função \"VectorAssembler\", tem objetivo  \n",
        "# de criar um vetor com os dados de entrada - variáveis independentes\n",
        "vector = VectorAssembler(\n",
        "    inputCols=['sepal_length', 'sepal_width',   # dados de entrada \n",
        "               'petal_length','petal_width'],\n",
        "    outputCol='independent_variables'           # dados de saída - vetor de saída\n",
        ")"
      ],
      "metadata": {
        "id": "BqDS-DMtL2Tw"
      },
      "execution_count": 21,
      "outputs": []
    },
    {
      "cell_type": "code",
      "source": [
        "# instanciando o objeto \"indexer\" com a função \"StringIndexer\", tem objetivo\n",
        "# de realizar a transformação dos dados categóricos em numéricos\n",
        "indexer = StringIndexer(\n",
        "    inputCol='species',             # dados de entrada da variável alvo\n",
        "    outputCol='dependent_variable'  # dados de saída após o tratamento \n",
        ")"
      ],
      "metadata": {
        "id": "rCugacBeQAu8"
      },
      "execution_count": 22,
      "outputs": []
    },
    {
      "cell_type": "code",
      "source": [
        "# importando a função para aplicação do modelo de classificação\n",
        "# de uma rede neural multicamadas do tipo perceptron\n",
        "from pyspark.ml.classification import MultilayerPerceptronClassifier"
      ],
      "metadata": {
        "id": "WsK4S0jjL2RA"
      },
      "execution_count": 23,
      "outputs": []
    },
    {
      "cell_type": "code",
      "source": [
        "# instanciando o modelo e definindo os seus parâmetros\n",
        "mlp = MultilayerPerceptronClassifier(\n",
        "    featuresCol='independent_variables',    # vetor - variávies independentes \n",
        "    labelCol='dependent_variable',          # alvo - variável dependente \n",
        "    maxIter=100,                            # quantidade de iterações\n",
        "    seed=1522,                              # semente aleatória\n",
        "    layers=[4,5,4,3]                        # camadas da rede\n",
        ")"
      ],
      "metadata": {
        "id": "F5QF2LLEL2OA"
      },
      "execution_count": 24,
      "outputs": []
    },
    {
      "cell_type": "code",
      "source": [
        "# importando a função \"Pipeline\" para realizar ciclo de aplicação dos objetos\n",
        "from pyspark.ml import Pipeline"
      ],
      "metadata": {
        "id": "-NMflMlHPMAl"
      },
      "execution_count": 25,
      "outputs": []
    },
    {
      "cell_type": "code",
      "source": [
        "# instanciando o objeto \"pipeline\" e definindo os seus estágios\n",
        "# vetor: dados de entrada (variáveis independentes)\n",
        "# indexer: dados do alvo (variável dependente)\n",
        "#  mlp: modelo definido \n",
        "pipeline = Pipeline(\n",
        "    stages=[vector, indexer, mlp]\n",
        ")"
      ],
      "metadata": {
        "id": "7ZvDQnpSPL9Q"
      },
      "execution_count": 26,
      "outputs": []
    },
    {
      "cell_type": "code",
      "source": [
        "# realizando o treinamento do objeto \"pipeline\" com dos dados de treino\n",
        "model = pipeline.fit(train_data)"
      ],
      "metadata": {
        "id": "61iQQARGPL7I"
      },
      "execution_count": 27,
      "outputs": []
    },
    {
      "cell_type": "code",
      "source": [
        "# realizando a predição com o modelo nos dados de validação\n",
        "pred = model.transform(val_data)"
      ],
      "metadata": {
        "id": "y3U4FDHEPL4A"
      },
      "execution_count": 28,
      "outputs": []
    },
    {
      "cell_type": "code",
      "source": [
        "# visualizando as predições realizadas\n",
        "pred.show()"
      ],
      "metadata": {
        "colab": {
          "base_uri": "https://localhost:8080/"
        },
        "id": "Rt2bpDHsPL1i",
        "outputId": "32631452-0be2-4dc7-f1f6-0a98ce0da394"
      },
      "execution_count": 29,
      "outputs": [
        {
          "output_type": "stream",
          "name": "stdout",
          "text": [
            "+------------+-----------+------------+-----------+----------+---------------------+------------------+--------------------+--------------------+----------+\n",
            "|sepal_length|sepal_width|petal_length|petal_width|   species|independent_variables|dependent_variable|       rawPrediction|         probability|prediction|\n",
            "+------------+-----------+------------+-----------+----------+---------------------+------------------+--------------------+--------------------+----------+\n",
            "|         4.6|        3.1|         1.5|        0.2|    setosa|    [4.6,3.1,1.5,0.2]|               0.0|[11.3664051224641...|[0.99993676886739...|       0.0|\n",
            "|         4.6|        3.2|         1.4|        0.2|    setosa|    [4.6,3.2,1.4,0.2]|               0.0|[11.9418699485559...|[0.99997249196655...|       0.0|\n",
            "|         4.7|        3.2|         1.6|        0.2|    setosa|    [4.7,3.2,1.6,0.2]|               0.0|[11.3328332879374...|[0.99993362290403...|       0.0|\n",
            "|         4.8|        3.4|         1.9|        0.2|    setosa|    [4.8,3.4,1.9,0.2]|               0.0|[10.5020792081146...|[0.99977930026643...|       0.0|\n",
            "|         4.9|        2.5|         4.5|        1.7| virginica|    [4.9,2.5,4.5,1.7]|               2.0|[-70.366748163505...|[5.69099099464811...|       2.0|\n",
            "|         4.9|        3.1|         1.5|        0.1|    setosa|    [4.9,3.1,1.5,0.1]|               0.0|[12.6336611675073...|[0.99998988635083...|       0.0|\n",
            "|         4.9|        3.1|         1.5|        0.1|    setosa|    [4.9,3.1,1.5,0.1]|               0.0|[12.6336611675073...|[0.99998988635083...|       0.0|\n",
            "|         5.0|        2.0|         3.5|        1.0|versicolor|    [5.0,2.0,3.5,1.0]|               1.0|[-39.486940215615...|[2.11790390493229...|       1.0|\n",
            "|         5.0|        3.6|         1.4|        0.2|    setosa|    [5.0,3.6,1.4,0.2]|               0.0|[13.0802813319307...|[0.99999469898973...|       0.0|\n",
            "|         5.1|        2.5|         3.0|        1.1|versicolor|    [5.1,2.5,3.0,1.1]|               1.0|[-37.862492416808...|[1.92876591558088...|       1.0|\n",
            "|         5.1|        3.4|         1.5|        0.2|    setosa|    [5.1,3.4,1.5,0.2]|               0.0|[12.7403143632115...|[0.99999133212439...|       0.0|\n",
            "|         5.1|        3.5|         1.4|        0.3|    setosa|    [5.1,3.5,1.4,0.3]|               0.0|[12.5978626765071...|[0.99998934888627...|       0.0|\n",
            "|         5.1|        3.7|         1.5|        0.4|    setosa|    [5.1,3.7,1.5,0.4]|               0.0|[11.8859218358849...|[0.99997017343824...|       0.0|\n",
            "|         5.1|        3.8|         1.5|        0.3|    setosa|    [5.1,3.8,1.5,0.3]|               0.0|[12.6586102641756...|[0.99999024480664...|       0.0|\n",
            "|         5.4|        3.4|         1.7|        0.2|    setosa|    [5.4,3.4,1.7,0.2]|               0.0|[12.6147300706200...|[0.99998960559531...|       0.0|\n",
            "|         5.5|        2.4|         3.7|        1.0|versicolor|    [5.5,2.4,3.7,1.0]|               1.0|[-38.739972996147...|[5.67659490527721...|       1.0|\n",
            "|         5.6|        3.0|         4.5|        1.5|versicolor|    [5.6,3.0,4.5,1.5]|               1.0|[-57.395130368523...|[1.63213886379213...|       1.0|\n",
            "|         5.8|        2.6|         4.0|        1.2|versicolor|    [5.8,2.6,4.0,1.2]|               1.0|[-41.509927511049...|[1.53248344483939...|       1.0|\n",
            "|         5.8|        2.7|         3.9|        1.2|versicolor|    [5.8,2.7,3.9,1.2]|               1.0|[-39.968799647701...|[1.13100932235729...|       1.0|\n",
            "|         5.8|        2.7|         5.1|        1.9| virginica|    [5.8,2.7,5.1,1.9]|               2.0|[-73.604469181775...|[2.25905021197619...|       2.0|\n",
            "+------------+-----------+------------+-----------+----------+---------------------+------------------+--------------------+--------------------+----------+\n",
            "only showing top 20 rows\n",
            "\n"
          ]
        }
      ]
    },
    {
      "cell_type": "code",
      "source": [
        "# realizando uma seleção das observações de maior interesse \n",
        "# variáveis independentes, variável dependente, predição crua, probabilidade  e predição final\n",
        "pred.select('independent_variables', 'dependent_variable',\n",
        "            'rawPrediction', 'probability', 'prediction').show()"
      ],
      "metadata": {
        "colab": {
          "base_uri": "https://localhost:8080/"
        },
        "id": "6oTyJH0XPLyr",
        "outputId": "e7aa3ac7-55f5-40f5-f962-882acafa812f"
      },
      "execution_count": 30,
      "outputs": [
        {
          "output_type": "stream",
          "name": "stdout",
          "text": [
            "+---------------------+------------------+--------------------+--------------------+----------+\n",
            "|independent_variables|dependent_variable|       rawPrediction|         probability|prediction|\n",
            "+---------------------+------------------+--------------------+--------------------+----------+\n",
            "|    [4.6,3.1,1.5,0.2]|               0.0|[11.3664051224641...|[0.99993676886739...|       0.0|\n",
            "|    [4.6,3.2,1.4,0.2]|               0.0|[11.9418699485559...|[0.99997249196655...|       0.0|\n",
            "|    [4.7,3.2,1.6,0.2]|               0.0|[11.3328332879374...|[0.99993362290403...|       0.0|\n",
            "|    [4.8,3.4,1.9,0.2]|               0.0|[10.5020792081146...|[0.99977930026643...|       0.0|\n",
            "|    [4.9,2.5,4.5,1.7]|               2.0|[-70.366748163505...|[5.69099099464811...|       2.0|\n",
            "|    [4.9,3.1,1.5,0.1]|               0.0|[12.6336611675073...|[0.99998988635083...|       0.0|\n",
            "|    [4.9,3.1,1.5,0.1]|               0.0|[12.6336611675073...|[0.99998988635083...|       0.0|\n",
            "|    [5.0,2.0,3.5,1.0]|               1.0|[-39.486940215615...|[2.11790390493229...|       1.0|\n",
            "|    [5.0,3.6,1.4,0.2]|               0.0|[13.0802813319307...|[0.99999469898973...|       0.0|\n",
            "|    [5.1,2.5,3.0,1.1]|               1.0|[-37.862492416808...|[1.92876591558088...|       1.0|\n",
            "|    [5.1,3.4,1.5,0.2]|               0.0|[12.7403143632115...|[0.99999133212439...|       0.0|\n",
            "|    [5.1,3.5,1.4,0.3]|               0.0|[12.5978626765071...|[0.99998934888627...|       0.0|\n",
            "|    [5.1,3.7,1.5,0.4]|               0.0|[11.8859218358849...|[0.99997017343824...|       0.0|\n",
            "|    [5.1,3.8,1.5,0.3]|               0.0|[12.6586102641756...|[0.99999024480664...|       0.0|\n",
            "|    [5.4,3.4,1.7,0.2]|               0.0|[12.6147300706200...|[0.99998960559531...|       0.0|\n",
            "|    [5.5,2.4,3.7,1.0]|               1.0|[-38.739972996147...|[5.67659490527721...|       1.0|\n",
            "|    [5.6,3.0,4.5,1.5]|               1.0|[-57.395130368523...|[1.63213886379213...|       1.0|\n",
            "|    [5.8,2.6,4.0,1.2]|               1.0|[-41.509927511049...|[1.53248344483939...|       1.0|\n",
            "|    [5.8,2.7,3.9,1.2]|               1.0|[-39.968799647701...|[1.13100932235729...|       1.0|\n",
            "|    [5.8,2.7,5.1,1.9]|               2.0|[-73.604469181775...|[2.25905021197619...|       2.0|\n",
            "+---------------------+------------------+--------------------+--------------------+----------+\n",
            "only showing top 20 rows\n",
            "\n"
          ]
        }
      ]
    },
    {
      "cell_type": "code",
      "source": [
        "# importando a função para realizar avaliação do modelo\n",
        "from pyspark.ml.evaluation import MulticlassClassificationEvaluator"
      ],
      "metadata": {
        "id": "0FJU1tTzPLvo"
      },
      "execution_count": 31,
      "outputs": []
    },
    {
      "cell_type": "code",
      "source": [
        "# instanciando o objeto avaliador e definindo os parâmetros mínimos necessários\n",
        "eval = MulticlassClassificationEvaluator(\n",
        "    predictionCol='prediction',         # coluna da predição final realizada\n",
        "    labelCol='dependent_variable',      # coluna do atributo alvo - valor real\n",
        "    metricName='accuracy'               # métrica de avaliação\n",
        ")"
      ],
      "metadata": {
        "id": "Z8i5VXQoR5xA"
      },
      "execution_count": 32,
      "outputs": []
    },
    {
      "cell_type": "code",
      "source": [
        "# aplicando o objeto avaliador \"eval\" nas predições realizadas pelo modelo\n",
        "# e salvando o resultado no objeto \"acc\"\n",
        "acc = eval.evaluate(pred)"
      ],
      "metadata": {
        "id": "cP-y0DgpR5sY"
      },
      "execution_count": 33,
      "outputs": []
    },
    {
      "cell_type": "code",
      "source": [
        "# visualizando o resultado final da acurácia do modelo\n",
        "print('\\t[ACCURACY]')\n",
        "print('=' * 30)\n",
        "print(f'MLP: {(acc * 100):.2f}%')"
      ],
      "metadata": {
        "colab": {
          "base_uri": "https://localhost:8080/"
        },
        "id": "YeVEmrxBR5pZ",
        "outputId": "8994ffe3-11ac-4b51-e925-a797f48d1159"
      },
      "execution_count": 34,
      "outputs": [
        {
          "output_type": "stream",
          "name": "stdout",
          "text": [
            "\t[ACCURACY]\n",
            "==============================\n",
            "MLP: 100.00%\n"
          ]
        }
      ]
    },
    {
      "cell_type": "code",
      "source": [
        "# visualizando as variávies do ambiente\n",
        "%whos"
      ],
      "metadata": {
        "id": "WRSWtl6dR5jv",
        "colab": {
          "base_uri": "https://localhost:8080/"
        },
        "outputId": "29c05b08-1073-4b53-c21b-1180c53b9586"
      },
      "execution_count": 35,
      "outputs": [
        {
          "output_type": "stream",
          "name": "stdout",
          "text": [
            "Variable                            Type                                 Data/Info\n",
            "----------------------------------------------------------------------------------\n",
            "MulticlassClassificationEvaluator   ABCMeta                              <class 'pyspark.ml.evalua<...>ClassificationEvaluator'>\n",
            "MultilayerPerceptronClassifier      ABCMeta                              <class 'pyspark.ml.classi<...>yerPerceptronClassifier'>\n",
            "Pipeline                            ABCMeta                              <class 'pyspark.ml.pipeline.Pipeline'>\n",
            "SparkSession                        type                                 <class 'pyspark.sql.session.SparkSession'>\n",
            "StringIndexer                       ABCMeta                              <class 'pyspark.ml.feature.StringIndexer'>\n",
            "VectorAssembler                     ABCMeta                              <class 'pyspark.ml.feature.VectorAssembler'>\n",
            "acc                                 float                                1.0\n",
            "df                                  DataFrame                                 sepal_length  sepal_<...>n\\n[150 rows x 5 columns]\n",
            "eval                                MulticlassClassificationEvaluator    MulticlassClassificationEvaluator_5c4255edaf9d\n",
            "indexer                             StringIndexer                        StringIndexer_a1563fc9c598\n",
            "iris                                DataFrame                            DataFrame[sepal_length: d<...> double, species: string]\n",
            "mlp                                 MultilayerPerceptronClassifier       MultilayerPerceptronClassifier_40ddb33a51bd\n",
            "model                               PipelineModel                        PipelineModel_e75d7841b190\n",
            "pd                                  module                               <module 'pandas' from '/u<...>ages/pandas/__init__.py'>\n",
            "pipeline                            Pipeline                             Pipeline_51e989d4548b\n",
            "pred                                DataFrame                            DataFrame[sepal_length: d<...>ctor, prediction: double]\n",
            "pyspark                             module                               <module 'pyspark' from '/<...>ges/pyspark/__init__.py'>\n",
            "spark_session                       SparkSession                         <pyspark.sql.session.Spar<...>object at 0x7f725c758b20>\n",
            "train_data                          DataFrame                            DataFrame[sepal_length: d<...> double, species: string]\n",
            "val_data                            DataFrame                            DataFrame[sepal_length: d<...> double, species: string]\n",
            "vector                              VectorAssembler                      VectorAssembler_938808754883\n",
            "warnings                            module                               <module 'warnings' from '<...>b/python3.9/warnings.py'>\n"
          ]
        }
      ]
    },
    {
      "cell_type": "code",
      "source": [
        "# listando as variáveis do ambiente em forma de lista\n",
        "%who_ls"
      ],
      "metadata": {
        "id": "jRxb5EJZR5fS",
        "colab": {
          "base_uri": "https://localhost:8080/"
        },
        "outputId": "bc8577eb-4530-4fbc-9605-db22c28ef425"
      },
      "execution_count": 36,
      "outputs": [
        {
          "output_type": "execute_result",
          "data": {
            "text/plain": [
              "['MulticlassClassificationEvaluator',\n",
              " 'MultilayerPerceptronClassifier',\n",
              " 'Pipeline',\n",
              " 'SparkSession',\n",
              " 'StringIndexer',\n",
              " 'VectorAssembler',\n",
              " 'acc',\n",
              " 'df',\n",
              " 'eval',\n",
              " 'indexer',\n",
              " 'iris',\n",
              " 'mlp',\n",
              " 'model',\n",
              " 'pd',\n",
              " 'pipeline',\n",
              " 'pred',\n",
              " 'pyspark',\n",
              " 'spark_session',\n",
              " 'train_data',\n",
              " 'val_data',\n",
              " 'vector',\n",
              " 'warnings']"
            ]
          },
          "metadata": {},
          "execution_count": 36
        }
      ]
    },
    {
      "cell_type": "code",
      "source": [],
      "metadata": {
        "id": "MOt6MlRxR5MZ"
      },
      "execution_count": 36,
      "outputs": []
    },
    {
      "cell_type": "code",
      "source": [],
      "metadata": {
        "id": "5JCA8c2oBU4t"
      },
      "execution_count": 36,
      "outputs": []
    },
    {
      "cell_type": "code",
      "source": [],
      "metadata": {
        "id": "5Nmv8uUeBUy1"
      },
      "execution_count": 36,
      "outputs": []
    }
  ]
}